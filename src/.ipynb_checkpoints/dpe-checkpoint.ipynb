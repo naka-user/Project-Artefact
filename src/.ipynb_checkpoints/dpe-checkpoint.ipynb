{
 "cells": [
  {
   "cell_type": "code",
   "execution_count": 7,
   "id": "a3ed11a8-d04b-476b-be6d-38d556282f28",
   "metadata": {},
   "outputs": [],
   "source": [
    "# Import libraries\n",
    "\n",
    "import os\n",
    "import pandas as pd\n",
    "import numpy as np\n",
    "import matplotlib.pyplot as plt\n",
    "import seaborn as sns\n",
    "from sklearn.decomposition import PCA\n",
    "from sklearn.model_selection import train_test_split\n",
    "from sklearn.linear_model import LogisticRegression\n",
    "from sklearn.svm import SVC\n",
    "from sklearn.ensemble import RandomForestClassifier\n",
    "import xgboost as xgb\n",
    "from sklearn.metrics import f1_score, accuracy_score, recall_score, precision_score\n",
    "from sklearn.metrics import classification_report\n",
    "from sklearn.model_selection import GridSearchCV, RandomizedSearchCV\n",
    "import joblib\n",
    "import pickle\n",
    "\n"
   ]
  },
  {
   "cell_type": "code",
   "execution_count": 8,
   "id": "5e5f70fc-5f4b-43ab-a04d-8c7f881f2e4d",
   "metadata": {},
   "outputs": [],
   "source": [
    "import warnings\n",
    "\n",
    "warnings.filterwarnings(\"ignore\")\n",
    "\n"
   ]
  },
  {
   "cell_type": "code",
   "execution_count": 9,
   "id": "cbe4009d-3884-4282-9118-ec8f9157f13d",
   "metadata": {},
   "outputs": [],
   "source": [
    "# Load data\n",
    "\n",
    "csvpath = os.path.join('..','data','dpe-raw.csv')\n",
    "\n",
    "df = pd.read_csv(csvpath, sep=',', engine='python')\n",
    "\n"
   ]
  },
  {
   "cell_type": "markdown",
   "id": "43f2b32e-e054-427f-ab14-2418a8828387",
   "metadata": {},
   "source": [
    "## EDA\n",
    "\n"
   ]
  },
  {
   "cell_type": "code",
   "execution_count": 10,
   "id": "3b5f1bc4-d4a1-4ba4-83cd-8893c4788c11",
   "metadata": {},
   "outputs": [
    {
     "data": {
      "text/html": [
       "<div>\n",
       "<style scoped>\n",
       "    .dataframe tbody tr th:only-of-type {\n",
       "        vertical-align: middle;\n",
       "    }\n",
       "\n",
       "    .dataframe tbody tr th {\n",
       "        vertical-align: top;\n",
       "    }\n",
       "\n",
       "    .dataframe thead th {\n",
       "        text-align: right;\n",
       "    }\n",
       "</style>\n",
       "<table border=\"1\" class=\"dataframe\">\n",
       "  <thead>\n",
       "    <tr style=\"text-align: right;\">\n",
       "      <th></th>\n",
       "      <th>Modèle_DPE</th>\n",
       "      <th>Version_DPE</th>\n",
       "      <th>Appartement_non_visité_(0/1)</th>\n",
       "      <th>Méthode_application_DPE</th>\n",
       "      <th>Etiquette_DPE</th>\n",
       "      <th>Etiquette_GES</th>\n",
       "      <th>Type_bâtiment</th>\n",
       "      <th>Hauteur_sous-plafond</th>\n",
       "      <th>Nombre_appartement</th>\n",
       "      <th>Nombre_niveau_immeuble</th>\n",
       "      <th>...</th>\n",
       "      <th>Coût_ECS_dépensier</th>\n",
       "      <th>Coût_ECS</th>\n",
       "      <th>Coût_refroidissement</th>\n",
       "      <th>Coût_refroidissement_dépensier</th>\n",
       "      <th>Coût_auxiliaires</th>\n",
       "      <th>Qualité_isolation_enveloppe</th>\n",
       "      <th>Qualité_isolation_menuiseries</th>\n",
       "      <th>Qualité_isolation_murs</th>\n",
       "      <th>Qualité_isolation_plancher_bas</th>\n",
       "      <th>Ubat_W/m²_K</th>\n",
       "    </tr>\n",
       "  </thead>\n",
       "  <tbody>\n",
       "    <tr>\n",
       "      <th>0</th>\n",
       "      <td>DPE NEUF logement : RT2012</td>\n",
       "      <td>1</td>\n",
       "      <td>FAUX</td>\n",
       "      <td>dpe issu d'une étude thermique réglementaire R...</td>\n",
       "      <td>C</td>\n",
       "      <td>C</td>\n",
       "      <td>maison</td>\n",
       "      <td>2,5</td>\n",
       "      <td>1.0</td>\n",
       "      <td>1.0</td>\n",
       "      <td>...</td>\n",
       "      <td>190</td>\n",
       "      <td>134,8</td>\n",
       "      <td>0</td>\n",
       "      <td>0</td>\n",
       "      <td>10,6</td>\n",
       "      <td>bonne</td>\n",
       "      <td>très bonne</td>\n",
       "      <td>très bonne</td>\n",
       "      <td>bonne</td>\n",
       "      <td>0,52</td>\n",
       "    </tr>\n",
       "    <tr>\n",
       "      <th>1</th>\n",
       "      <td>DPE NEUF logement : RT2012</td>\n",
       "      <td>1</td>\n",
       "      <td>FAUX</td>\n",
       "      <td>dpe issu d'une étude thermique réglementaire R...</td>\n",
       "      <td>C</td>\n",
       "      <td>C</td>\n",
       "      <td>maison</td>\n",
       "      <td>2,5</td>\n",
       "      <td>1.0</td>\n",
       "      <td>1.0</td>\n",
       "      <td>...</td>\n",
       "      <td>282</td>\n",
       "      <td>200</td>\n",
       "      <td>0</td>\n",
       "      <td>0</td>\n",
       "      <td>0</td>\n",
       "      <td>très bonne</td>\n",
       "      <td>très bonne</td>\n",
       "      <td>très bonne</td>\n",
       "      <td>très bonne</td>\n",
       "      <td>0,37</td>\n",
       "    </tr>\n",
       "    <tr>\n",
       "      <th>2</th>\n",
       "      <td>DPE NEUF logement : RT2012</td>\n",
       "      <td>1,1</td>\n",
       "      <td>FAUX</td>\n",
       "      <td>dpe issu d'une étude thermique réglementaire R...</td>\n",
       "      <td>C</td>\n",
       "      <td>C</td>\n",
       "      <td>appartement</td>\n",
       "      <td>2,5</td>\n",
       "      <td>18.0</td>\n",
       "      <td>1.0</td>\n",
       "      <td>...</td>\n",
       "      <td>111,3</td>\n",
       "      <td>78,9</td>\n",
       "      <td>0</td>\n",
       "      <td>0</td>\n",
       "      <td>4,7</td>\n",
       "      <td>bonne</td>\n",
       "      <td>très bonne</td>\n",
       "      <td>bonne</td>\n",
       "      <td>bonne</td>\n",
       "      <td>0,47</td>\n",
       "    </tr>\n",
       "    <tr>\n",
       "      <th>3</th>\n",
       "      <td>DPE NEUF logement : RT2012</td>\n",
       "      <td>2</td>\n",
       "      <td>FAUX</td>\n",
       "      <td>dpe issu d'une étude thermique réglementaire R...</td>\n",
       "      <td>C</td>\n",
       "      <td>C</td>\n",
       "      <td>maison</td>\n",
       "      <td>2,5</td>\n",
       "      <td>1.0</td>\n",
       "      <td>1.0</td>\n",
       "      <td>...</td>\n",
       "      <td>320,1</td>\n",
       "      <td>227</td>\n",
       "      <td>0</td>\n",
       "      <td>0</td>\n",
       "      <td>3</td>\n",
       "      <td>très bonne</td>\n",
       "      <td>très bonne</td>\n",
       "      <td>très bonne</td>\n",
       "      <td>très bonne</td>\n",
       "      <td>0,34</td>\n",
       "    </tr>\n",
       "    <tr>\n",
       "      <th>4</th>\n",
       "      <td>DPE NEUF logement : RT2012</td>\n",
       "      <td>1,1</td>\n",
       "      <td>FAUX</td>\n",
       "      <td>dpe issu d'une étude thermique réglementaire R...</td>\n",
       "      <td>C</td>\n",
       "      <td>C</td>\n",
       "      <td>appartement</td>\n",
       "      <td>2,5</td>\n",
       "      <td>29.0</td>\n",
       "      <td>1.0</td>\n",
       "      <td>...</td>\n",
       "      <td>220,1</td>\n",
       "      <td>156,1</td>\n",
       "      <td>0</td>\n",
       "      <td>0</td>\n",
       "      <td>14,1</td>\n",
       "      <td>bonne</td>\n",
       "      <td>très bonne</td>\n",
       "      <td>très bonne</td>\n",
       "      <td>bonne</td>\n",
       "      <td>0,63</td>\n",
       "    </tr>\n",
       "  </tbody>\n",
       "</table>\n",
       "<p>5 rows × 66 columns</p>\n",
       "</div>"
      ],
      "text/plain": [
       "                   Modèle_DPE Version_DPE Appartement_non_visité_(0/1)  \\\n",
       "0  DPE NEUF logement : RT2012           1                         FAUX   \n",
       "1  DPE NEUF logement : RT2012           1                         FAUX   \n",
       "2  DPE NEUF logement : RT2012         1,1                         FAUX   \n",
       "3  DPE NEUF logement : RT2012           2                         FAUX   \n",
       "4  DPE NEUF logement : RT2012         1,1                         FAUX   \n",
       "\n",
       "                             Méthode_application_DPE Etiquette_DPE  \\\n",
       "0  dpe issu d'une étude thermique réglementaire R...             C   \n",
       "1  dpe issu d'une étude thermique réglementaire R...             C   \n",
       "2  dpe issu d'une étude thermique réglementaire R...             C   \n",
       "3  dpe issu d'une étude thermique réglementaire R...             C   \n",
       "4  dpe issu d'une étude thermique réglementaire R...             C   \n",
       "\n",
       "  Etiquette_GES Type_bâtiment Hauteur_sous-plafond  Nombre_appartement  \\\n",
       "0             C        maison                  2,5                 1.0   \n",
       "1             C        maison                  2,5                 1.0   \n",
       "2             C   appartement                  2,5                18.0   \n",
       "3             C        maison                  2,5                 1.0   \n",
       "4             C   appartement                  2,5                29.0   \n",
       "\n",
       "   Nombre_niveau_immeuble  ...  Coût_ECS_dépensier Coût_ECS  \\\n",
       "0                     1.0  ...                 190    134,8   \n",
       "1                     1.0  ...                 282      200   \n",
       "2                     1.0  ...               111,3     78,9   \n",
       "3                     1.0  ...               320,1      227   \n",
       "4                     1.0  ...               220,1    156,1   \n",
       "\n",
       "  Coût_refroidissement Coût_refroidissement_dépensier Coût_auxiliaires  \\\n",
       "0                    0                              0             10,6   \n",
       "1                    0                              0                0   \n",
       "2                    0                              0              4,7   \n",
       "3                    0                              0                3   \n",
       "4                    0                              0             14,1   \n",
       "\n",
       "  Qualité_isolation_enveloppe Qualité_isolation_menuiseries  \\\n",
       "0                       bonne                    très bonne   \n",
       "1                  très bonne                    très bonne   \n",
       "2                       bonne                    très bonne   \n",
       "3                  très bonne                    très bonne   \n",
       "4                       bonne                    très bonne   \n",
       "\n",
       "  Qualité_isolation_murs Qualité_isolation_plancher_bas Ubat_W/m²_K  \n",
       "0             très bonne                          bonne        0,52  \n",
       "1             très bonne                     très bonne        0,37  \n",
       "2                  bonne                          bonne        0,47  \n",
       "3             très bonne                     très bonne        0,34  \n",
       "4             très bonne                          bonne        0,63  \n",
       "\n",
       "[5 rows x 66 columns]"
      ]
     },
     "execution_count": 10,
     "metadata": {},
     "output_type": "execute_result"
    }
   ],
   "source": [
    "df.head()\n",
    "\n"
   ]
  },
  {
   "cell_type": "code",
   "execution_count": 11,
   "id": "b8e4169e-cdb3-48a4-9c7d-acde5433dc51",
   "metadata": {},
   "outputs": [
    {
     "data": {
      "text/html": [
       "<div>\n",
       "<style scoped>\n",
       "    .dataframe tbody tr th:only-of-type {\n",
       "        vertical-align: middle;\n",
       "    }\n",
       "\n",
       "    .dataframe tbody tr th {\n",
       "        vertical-align: top;\n",
       "    }\n",
       "\n",
       "    .dataframe thead th {\n",
       "        text-align: right;\n",
       "    }\n",
       "</style>\n",
       "<table border=\"1\" class=\"dataframe\">\n",
       "  <thead>\n",
       "    <tr style=\"text-align: right;\">\n",
       "      <th></th>\n",
       "      <th>Nombre_appartement</th>\n",
       "      <th>Nombre_niveau_immeuble</th>\n",
       "      <th>Nombre_niveau_logement</th>\n",
       "    </tr>\n",
       "  </thead>\n",
       "  <tbody>\n",
       "    <tr>\n",
       "      <th>count</th>\n",
       "      <td>8933.000000</td>\n",
       "      <td>8812.000000</td>\n",
       "      <td>8499.000000</td>\n",
       "    </tr>\n",
       "    <tr>\n",
       "      <th>mean</th>\n",
       "      <td>34.530953</td>\n",
       "      <td>1.002951</td>\n",
       "      <td>1.079303</td>\n",
       "    </tr>\n",
       "    <tr>\n",
       "      <th>std</th>\n",
       "      <td>47.668722</td>\n",
       "      <td>0.091596</td>\n",
       "      <td>0.512557</td>\n",
       "    </tr>\n",
       "    <tr>\n",
       "      <th>min</th>\n",
       "      <td>1.000000</td>\n",
       "      <td>1.000000</td>\n",
       "      <td>1.000000</td>\n",
       "    </tr>\n",
       "    <tr>\n",
       "      <th>25%</th>\n",
       "      <td>2.000000</td>\n",
       "      <td>1.000000</td>\n",
       "      <td>1.000000</td>\n",
       "    </tr>\n",
       "    <tr>\n",
       "      <th>50%</th>\n",
       "      <td>22.000000</td>\n",
       "      <td>1.000000</td>\n",
       "      <td>1.000000</td>\n",
       "    </tr>\n",
       "    <tr>\n",
       "      <th>75%</th>\n",
       "      <td>43.000000</td>\n",
       "      <td>1.000000</td>\n",
       "      <td>1.000000</td>\n",
       "    </tr>\n",
       "    <tr>\n",
       "      <th>max</th>\n",
       "      <td>333.000000</td>\n",
       "      <td>6.000000</td>\n",
       "      <td>9.000000</td>\n",
       "    </tr>\n",
       "  </tbody>\n",
       "</table>\n",
       "</div>"
      ],
      "text/plain": [
       "       Nombre_appartement  Nombre_niveau_immeuble  Nombre_niveau_logement\n",
       "count         8933.000000             8812.000000             8499.000000\n",
       "mean            34.530953                1.002951                1.079303\n",
       "std             47.668722                0.091596                0.512557\n",
       "min              1.000000                1.000000                1.000000\n",
       "25%              2.000000                1.000000                1.000000\n",
       "50%             22.000000                1.000000                1.000000\n",
       "75%             43.000000                1.000000                1.000000\n",
       "max            333.000000                6.000000                9.000000"
      ]
     },
     "execution_count": 11,
     "metadata": {},
     "output_type": "execute_result"
    }
   ],
   "source": [
    "df.describe()\n",
    "\n"
   ]
  },
  {
   "cell_type": "code",
   "execution_count": 14,
   "id": "8e79ea0d-a39b-470b-81ab-49a8b59c088b",
   "metadata": {},
   "outputs": [
    {
     "data": {
      "text/plain": [
       "(10000, 66)"
      ]
     },
     "execution_count": 14,
     "metadata": {},
     "output_type": "execute_result"
    }
   ],
   "source": [
    "df.shape\n",
    "\n"
   ]
  },
  {
   "cell_type": "code",
   "execution_count": 15,
   "id": "8f27ebd9-93e7-4069-abc1-334ffcd42bf8",
   "metadata": {},
   "outputs": [
    {
     "name": "stdout",
     "output_type": "stream",
     "text": [
      "<class 'pandas.core.frame.DataFrame'>\n",
      "RangeIndex: 10000 entries, 0 to 9999\n",
      "Data columns (total 66 columns):\n",
      " #   Column                                      Non-Null Count  Dtype  \n",
      "---  ------                                      --------------  -----  \n",
      " 0   Modèle_DPE                                  10000 non-null  object \n",
      " 1   Version_DPE                                 10000 non-null  object \n",
      " 2   Appartement_non_visité_(0/1)                8988 non-null   object \n",
      " 3   Méthode_application_DPE                     10000 non-null  object \n",
      " 4   Etiquette_DPE                               10000 non-null  object \n",
      " 5   Etiquette_GES                               10000 non-null  object \n",
      " 6   Type_bâtiment                               10000 non-null  object \n",
      " 7   Hauteur_sous-plafond                        10000 non-null  object \n",
      " 8   Nombre_appartement                          8933 non-null   float64\n",
      " 9   Nombre_niveau_immeuble                      8812 non-null   float64\n",
      " 10  Nombre_niveau_logement                      8499 non-null   float64\n",
      " 11  Surface_habitable_immeuble                  8772 non-null   object \n",
      " 12  Surface_habitable_logement                  9955 non-null   object \n",
      " 13  Score_BAN                                   9947 non-null   object \n",
      " 14  Conso_5_usages_é_finale                     10000 non-null  object \n",
      " 15  Conso_5_usages/m²_é_finale                  10000 non-null  object \n",
      " 16  Conso_chauffage_é_finale                    10000 non-null  object \n",
      " 17  Conso_chauffage_dépensier_é_finale          10000 non-null  object \n",
      " 18  Conso_éclairage_é_finale                    10000 non-null  object \n",
      " 19  Conso_ECS_é_finale                          10000 non-null  object \n",
      " 20  Conso_ECS_dépensier_é_finale                10000 non-null  object \n",
      " 21  Conso_refroidissement_é_finale              10000 non-null  object \n",
      " 22  Conso_refroidissement_dépensier_é_finale    10000 non-null  object \n",
      " 23  Conso_auxiliaires_é_finale                  10000 non-null  object \n",
      " 24  Conso_5_usages_é_primaire                   10000 non-null  object \n",
      " 25  Conso_5_usages_par_m²_é_primaire            10000 non-null  object \n",
      " 26  Conso_chauffage_é_primaire                  10000 non-null  object \n",
      " 27  Conso_chauffage_dépensier_é_primaire        10000 non-null  object \n",
      " 28  Conso_éclairage_é_primaire                  10000 non-null  object \n",
      " 29  Conso_ECS_é_primaire                        10000 non-null  object \n",
      " 30  Conso_ECS_dépensier_é_primaire              10000 non-null  object \n",
      " 31  Conso_refroidissement_é_primaire            10000 non-null  object \n",
      " 32  Conso_refroidissement_dépensier_é_primaire  10000 non-null  object \n",
      " 33  Conso_auxiliaires_é_primaire                10000 non-null  object \n",
      " 34  Emission_GES_5_usages                       10000 non-null  object \n",
      " 35  Emission_GES_5_usages_par_m²                10000 non-null  object \n",
      " 36  Emission_GES_chauffage                      10000 non-null  object \n",
      " 37  Emission_GES_chauffage_dépensier            10000 non-null  object \n",
      " 38  Emission_GES_éclairage                      10000 non-null  object \n",
      " 39  Emission_GES_ECS                            10000 non-null  object \n",
      " 40  Emission_GES_ECS_dépensier                  10000 non-null  object \n",
      " 41  Emission_GES_refroidissement                10000 non-null  object \n",
      " 42  Emission_GES_refroidissement_dépensier      10000 non-null  object \n",
      " 43  Emission_GES_auxiliaires                    10000 non-null  object \n",
      " 44  Coût_chauffage_énergie_n°1                  10000 non-null  object \n",
      " 45  Coût_ECS_énergie_n°1                        10000 non-null  object \n",
      " 46  Emission_GES_5_usages_énergie_n°1           10000 non-null  object \n",
      " 47  Type_énergie_n°1                            10000 non-null  object \n",
      " 48  Coût_chauffage_énergie_n°2                  7303 non-null   object \n",
      " 49  Coût_ECS_énergie_n°2                        7303 non-null   object \n",
      " 50  Emission_GES_5_usages_énergie_n°2           7303 non-null   object \n",
      " 51  Type_énergie_n°2                            7303 non-null   object \n",
      " 52  Coût_total_5_usages                         10000 non-null  object \n",
      " 53  Coût_chauffage                              10000 non-null  object \n",
      " 54  Coût_chauffage_dépensier                    10000 non-null  object \n",
      " 55  Coût_éclairage                              10000 non-null  object \n",
      " 56  Coût_ECS_dépensier                          10000 non-null  object \n",
      " 57  Coût_ECS                                    10000 non-null  object \n",
      " 58  Coût_refroidissement                        10000 non-null  object \n",
      " 59  Coût_refroidissement_dépensier              10000 non-null  object \n",
      " 60  Coût_auxiliaires                            10000 non-null  object \n",
      " 61  Qualité_isolation_enveloppe                 10000 non-null  object \n",
      " 62  Qualité_isolation_menuiseries               10000 non-null  object \n",
      " 63  Qualité_isolation_murs                      10000 non-null  object \n",
      " 64  Qualité_isolation_plancher_bas              9982 non-null   object \n",
      " 65  Ubat_W/m²_K                                 10000 non-null  object \n",
      "dtypes: float64(3), object(63)\n",
      "memory usage: 5.0+ MB\n"
     ]
    }
   ],
   "source": [
    "df.info()\n",
    "\n"
   ]
  },
  {
   "cell_type": "markdown",
   "id": "1cd3725f-7f27-4d97-a6b7-78fcdaf16b55",
   "metadata": {},
   "source": [
    "**Missing values**\n",
    "\n"
   ]
  },
  {
   "cell_type": "code",
   "execution_count": 16,
   "id": "0411feb1-0ca3-4426-90ec-9264ff1da00f",
   "metadata": {},
   "outputs": [
    {
     "data": {
      "text/plain": [
       "Modèle_DPE                           0\n",
       "Version_DPE                          0\n",
       "Appartement_non_visité_(0/1)      1012\n",
       "Méthode_application_DPE              0\n",
       "Etiquette_DPE                        0\n",
       "                                  ... \n",
       "Qualité_isolation_enveloppe          0\n",
       "Qualité_isolation_menuiseries        0\n",
       "Qualité_isolation_murs               0\n",
       "Qualité_isolation_plancher_bas      18\n",
       "Ubat_W/m²_K                          0\n",
       "Length: 66, dtype: int64"
      ]
     },
     "execution_count": 16,
     "metadata": {},
     "output_type": "execute_result"
    }
   ],
   "source": [
    "df.isna().sum()\n",
    "\n"
   ]
  },
  {
   "cell_type": "markdown",
   "id": "1f7d4927-115e-4e7f-a21e-92b52a639e92",
   "metadata": {},
   "source": [
    "**Duplicated rows**\n",
    "\n"
   ]
  },
  {
   "cell_type": "code",
   "execution_count": 18,
   "id": "b9c7129f-3e75-4ea3-ac51-9b3243c173fa",
   "metadata": {},
   "outputs": [
    {
     "data": {
      "text/plain": [
       "283"
      ]
     },
     "execution_count": 18,
     "metadata": {},
     "output_type": "execute_result"
    }
   ],
   "source": [
    "df.duplicated().sum()\n",
    "\n"
   ]
  },
  {
   "cell_type": "code",
   "execution_count": 20,
   "id": "dfa5fdd3-bd7b-4d6a-a9f0-94b9b104c588",
   "metadata": {},
   "outputs": [],
   "source": [
    "df_test = df.copy()\n",
    "\n"
   ]
  },
  {
   "cell_type": "code",
   "execution_count": 21,
   "id": "16ad3657-e28c-4c7b-b6bb-d181b804900c",
   "metadata": {},
   "outputs": [
    {
     "name": "stdout",
     "output_type": "stream",
     "text": [
      "<class 'pandas.core.frame.DataFrame'>\n",
      "RangeIndex: 10000 entries, 0 to 9999\n",
      "Data columns (total 66 columns):\n",
      " #   Column                                      Non-Null Count  Dtype  \n",
      "---  ------                                      --------------  -----  \n",
      " 0   Modèle_DPE                                  10000 non-null  object \n",
      " 1   Version_DPE                                 10000 non-null  object \n",
      " 2   Appartement_non_visité_(0/1)                8988 non-null   object \n",
      " 3   Méthode_application_DPE                     10000 non-null  object \n",
      " 4   Etiquette_DPE                               10000 non-null  object \n",
      " 5   Etiquette_GES                               10000 non-null  object \n",
      " 6   Type_bâtiment                               10000 non-null  object \n",
      " 7   Hauteur_sous-plafond                        10000 non-null  object \n",
      " 8   Nombre_appartement                          8933 non-null   float64\n",
      " 9   Nombre_niveau_immeuble                      8812 non-null   float64\n",
      " 10  Nombre_niveau_logement                      8499 non-null   float64\n",
      " 11  Surface_habitable_immeuble                  8772 non-null   object \n",
      " 12  Surface_habitable_logement                  9955 non-null   object \n",
      " 13  Score_BAN                                   9947 non-null   object \n",
      " 14  Conso_5_usages_é_finale                     10000 non-null  object \n",
      " 15  Conso_5_usages/m²_é_finale                  10000 non-null  object \n",
      " 16  Conso_chauffage_é_finale                    10000 non-null  object \n",
      " 17  Conso_chauffage_dépensier_é_finale          10000 non-null  object \n",
      " 18  Conso_éclairage_é_finale                    10000 non-null  object \n",
      " 19  Conso_ECS_é_finale                          10000 non-null  object \n",
      " 20  Conso_ECS_dépensier_é_finale                10000 non-null  object \n",
      " 21  Conso_refroidissement_é_finale              10000 non-null  object \n",
      " 22  Conso_refroidissement_dépensier_é_finale    10000 non-null  object \n",
      " 23  Conso_auxiliaires_é_finale                  10000 non-null  object \n",
      " 24  Conso_5_usages_é_primaire                   10000 non-null  object \n",
      " 25  Conso_5_usages_par_m²_é_primaire            10000 non-null  object \n",
      " 26  Conso_chauffage_é_primaire                  10000 non-null  object \n",
      " 27  Conso_chauffage_dépensier_é_primaire        10000 non-null  object \n",
      " 28  Conso_éclairage_é_primaire                  10000 non-null  object \n",
      " 29  Conso_ECS_é_primaire                        10000 non-null  object \n",
      " 30  Conso_ECS_dépensier_é_primaire              10000 non-null  object \n",
      " 31  Conso_refroidissement_é_primaire            10000 non-null  object \n",
      " 32  Conso_refroidissement_dépensier_é_primaire  10000 non-null  object \n",
      " 33  Conso_auxiliaires_é_primaire                10000 non-null  object \n",
      " 34  Emission_GES_5_usages                       10000 non-null  object \n",
      " 35  Emission_GES_5_usages_par_m²                10000 non-null  object \n",
      " 36  Emission_GES_chauffage                      10000 non-null  object \n",
      " 37  Emission_GES_chauffage_dépensier            10000 non-null  object \n",
      " 38  Emission_GES_éclairage                      10000 non-null  object \n",
      " 39  Emission_GES_ECS                            10000 non-null  object \n",
      " 40  Emission_GES_ECS_dépensier                  10000 non-null  object \n",
      " 41  Emission_GES_refroidissement                10000 non-null  object \n",
      " 42  Emission_GES_refroidissement_dépensier      10000 non-null  object \n",
      " 43  Emission_GES_auxiliaires                    10000 non-null  object \n",
      " 44  Coût_chauffage_énergie_n°1                  10000 non-null  object \n",
      " 45  Coût_ECS_énergie_n°1                        10000 non-null  object \n",
      " 46  Emission_GES_5_usages_énergie_n°1           10000 non-null  object \n",
      " 47  Type_énergie_n°1                            10000 non-null  object \n",
      " 48  Coût_chauffage_énergie_n°2                  7303 non-null   object \n",
      " 49  Coût_ECS_énergie_n°2                        7303 non-null   object \n",
      " 50  Emission_GES_5_usages_énergie_n°2           7303 non-null   object \n",
      " 51  Type_énergie_n°2                            7303 non-null   object \n",
      " 52  Coût_total_5_usages                         10000 non-null  object \n",
      " 53  Coût_chauffage                              10000 non-null  object \n",
      " 54  Coût_chauffage_dépensier                    10000 non-null  object \n",
      " 55  Coût_éclairage                              10000 non-null  object \n",
      " 56  Coût_ECS_dépensier                          10000 non-null  object \n",
      " 57  Coût_ECS                                    10000 non-null  object \n",
      " 58  Coût_refroidissement                        10000 non-null  object \n",
      " 59  Coût_refroidissement_dépensier              10000 non-null  object \n",
      " 60  Coût_auxiliaires                            10000 non-null  object \n",
      " 61  Qualité_isolation_enveloppe                 10000 non-null  object \n",
      " 62  Qualité_isolation_menuiseries               10000 non-null  object \n",
      " 63  Qualité_isolation_murs                      10000 non-null  object \n",
      " 64  Qualité_isolation_plancher_bas              9982 non-null   object \n",
      " 65  Ubat_W/m²_K                                 10000 non-null  object \n",
      "dtypes: float64(3), object(63)\n",
      "memory usage: 5.0+ MB\n"
     ]
    }
   ],
   "source": [
    "df_test.info()\n",
    "\n"
   ]
  },
  {
   "cell_type": "code",
   "execution_count": 22,
   "id": "9f87eb1a-1fd2-4145-8622-45dd0428f2f3",
   "metadata": {},
   "outputs": [
    {
     "name": "stdout",
     "output_type": "stream",
     "text": [
      "66\n"
     ]
    }
   ],
   "source": [
    "list_columns = list(df_test.columns.values.tolist())\n",
    "\n",
    "print(len(list_columns))\n",
    "\n"
   ]
  },
  {
   "cell_type": "markdown",
   "id": "de076eee-4218-4451-83d1-9cf9b9b3399f",
   "metadata": {},
   "source": [
    "**Empty values**\n",
    "\n"
   ]
  },
  {
   "cell_type": "code",
   "execution_count": 23,
   "id": "5ff10c1a-26b9-4c91-a027-e7fc3fa9ee31",
   "metadata": {},
   "outputs": [],
   "source": [
    "na_values_columns = ['Appartement_non_visité_(0/1)', 'Nombre_appartement', 'Nombre_niveau_immeuble', 'Nombre_niveau_logement',\n",
    "                     'Surface_habitable_immeuble', 'Surface_habitable_logement', 'Score_BAN', 'Coût_chauffage_énergie_n°2', \n",
    "                     'Coût_ECS_énergie_n°2', 'Type_énergie_n°2', 'Emission_GES_5_usages_énergie_n°2', 'Qualité_isolation_plancher_bas']\n",
    "\n",
    "df_na_values = df_test[na_values_columns]\n",
    "\n"
   ]
  },
  {
   "cell_type": "code",
   "execution_count": 24,
   "id": "c66c2451-f8aa-40ca-a603-debe2bde380a",
   "metadata": {},
   "outputs": [],
   "source": [
    "df_na_values['Appartement_non_visité_(0/1)'] = df_na_values['Appartement_non_visité_(0/1)'].fillna('FAUX')\n",
    "df_na_values['Nombre_appartement'] = df_na_values['Nombre_appartement'].fillna(df_na_values['Nombre_appartement'].mean())\n",
    "df_na_values['Nombre_niveau_immeuble'] = df_na_values['Nombre_niveau_immeuble'].fillna(1.0)\n",
    "df_na_values['Nombre_niveau_immeuble'] = df_na_values['Nombre_niveau_immeuble'].fillna(1.0)\n",
    "df_na_values['Surface_habitable_immeuble'] = df_na_values['Surface_habitable_immeuble'].str.replace(',','.').astype(float)\n",
    "df_na_values['Surface_habitable_immeuble'] = df_na_values['Surface_habitable_immeuble'].fillna(df_na_values['Surface_habitable_immeuble'].mean().round(1))\n",
    "df_na_values['Score_BAN'] = df_na_values['Score_BAN'].str.replace(',','.').astype(float)\n",
    "df_na_values['Score_BAN'] = df_na_values['Score_BAN'].fillna(df_na_values['Score_BAN'].mean().round(1))\n",
    "df_na_values['Coût_chauffage_énergie_n°2'] = df_na_values['Coût_chauffage_énergie_n°2'].str.replace(',','.').astype(float)\n",
    "df_na_values['Coût_chauffage_énergie_n°2'] = df_na_values['Score_BAN'].fillna(df_na_values['Coût_chauffage_énergie_n°2'].mean().round(1))\n",
    "df_na_values['Coût_ECS_énergie_n°2'] = df_na_values['Coût_ECS_énergie_n°2'].str.replace(',','.').astype(float)\n",
    "df_na_values['Coût_ECS_énergie_n°2'] = df_na_values['Coût_ECS_énergie_n°2'].fillna(df_na_values['Coût_ECS_énergie_n°2'].mean().round(1))\n",
    "df_na_values['Type_énergie_n°2'] = df_na_values['Type_énergie_n°2'].fillna('Électricité')\n",
    "df_na_values['Emission_GES_5_usages_énergie_n°2'] = df_na_values['Emission_GES_5_usages_énergie_n°2'].str.replace(',','.').astype(float)\n",
    "df_na_values['Emission_GES_5_usages_énergie_n°2'] = df_na_values['Emission_GES_5_usages_énergie_n°2'].fillna(df_na_values['Emission_GES_5_usages_énergie_n°2'].mean().round(1))\n",
    "df_na_values['Qualité_isolation_plancher_bas'] = df_na_values['Qualité_isolation_plancher_bas'].fillna('très bonne')\n",
    "df_na_values['Nombre_niveau_logement'] = df_na_values['Nombre_niveau_logement'].fillna(1.0)\n",
    "df_na_values['Surface_habitable_logement'] = df_na_values['Surface_habitable_logement'].str.replace(',','.').astype(float)\n",
    "df_na_values['Surface_habitable_logement'] = df_na_values['Surface_habitable_logement'].fillna(df_na_values['Surface_habitable_logement'].mean().round(1))\n",
    "\n"
   ]
  },
  {
   "cell_type": "code",
   "execution_count": 25,
   "id": "fd05e762-e121-4b84-b4a3-ceda96843b4c",
   "metadata": {},
   "outputs": [
    {
     "name": "stdout",
     "output_type": "stream",
     "text": [
      "df_data  (10000, 66)\n"
     ]
    }
   ],
   "source": [
    "na_values_columns = ['Appartement_non_visité_(0/1)', 'Nombre_appartement', 'Nombre_niveau_immeuble', 'Nombre_niveau_logement',\n",
    "                     'Surface_habitable_immeuble', 'Surface_habitable_logement', 'Score_BAN', 'Coût_chauffage_énergie_n°2', \n",
    "                     'Coût_ECS_énergie_n°2', 'Type_énergie_n°2', 'Emission_GES_5_usages_énergie_n°2', 'Qualité_isolation_plancher_bas']\n",
    "\n",
    "df_test.drop(labels = na_values_columns, axis = 1, inplace = True)\n",
    "\n",
    "df_data = pd.concat([df_test, df_na_values], axis = 1)\n",
    "\n",
    "print(\"df_data \", df_data.shape)\n",
    "\n"
   ]
  },
  {
   "cell_type": "code",
   "execution_count": 26,
   "id": "231062a6-3c2d-49d8-914b-5ea84d626ded",
   "metadata": {},
   "outputs": [],
   "source": [
    "df_data['Version_DPE'] = df_data['Version_DPE'].str.replace(',','_')\n",
    "df_data['Hauteur_sous-plafond'] = df_data['Hauteur_sous-plafond'].str.replace(',','.').astype(float)\n",
    "df_data['Conso_5_usages_é_finale'] = df_data['Conso_5_usages_é_finale'].str.replace(',','.').astype(float)\n",
    "df_data['Conso_5_usages/m²_é_finale'] = df_data['Conso_5_usages/m²_é_finale'].str.replace(',','.').astype(float)\n",
    "df_data['Conso_chauffage_é_finale'] = df_data['Conso_chauffage_é_finale'].str.replace(',','.').astype(float)\n",
    "df_data['Conso_chauffage_dépensier_é_finale'] = df_data['Conso_chauffage_dépensier_é_finale'].str.replace(',','.').astype(float)\n",
    "df_data['Conso_éclairage_é_finale'] = df_data['Conso_éclairage_é_finale'].str.replace(',','.').astype(float)\n",
    "df_data['Conso_ECS_é_finale'] = df_data['Conso_ECS_é_finale'].str.replace(',','.').astype(float)\n",
    "df_data['Conso_ECS_dépensier_é_finale'] = df_data['Conso_ECS_dépensier_é_finale'].str.replace(',','.').astype(float)\n",
    "df_data['Conso_refroidissement_é_finale'] = df_data['Conso_refroidissement_é_finale'].str.replace(',','.').astype(float)\n",
    "df_data['Conso_refroidissement_dépensier_é_finale'] = df_data['Conso_refroidissement_dépensier_é_finale'].str.replace(',','.').astype(float)\n",
    "df_data['Conso_auxiliaires_é_finale'] = df_data['Conso_auxiliaires_é_finale'].str.replace(',','.').astype(float)\n",
    "df_data['Conso_5_usages_é_primaire'] = df_data['Conso_5_usages_é_primaire'].str.replace(',','.').astype(float)\n",
    "df_data['Conso_5_usages_par_m²_é_primaire'] = df_data['Conso_5_usages_par_m²_é_primaire'].str.replace(',','.').astype(float)\n",
    "df_data['Conso_chauffage_é_primaire'] = df_data['Conso_chauffage_é_primaire'].str.replace(',','.').astype(float)\n",
    "df_data['Conso_chauffage_dépensier_é_primaire'] = df_data['Conso_chauffage_dépensier_é_primaire'].str.replace(',','.').astype(float)\n",
    "df_data['Conso_éclairage_é_primaire'] = df_data['Conso_éclairage_é_primaire'].str.replace(',','.').astype(float)\n",
    "df_data['Conso_ECS_é_primaire'] = df_data['Conso_ECS_é_primaire'].str.replace(',','.').astype(float)\n",
    "df_data['Conso_ECS_dépensier_é_primaire'] = df_data['Conso_ECS_dépensier_é_primaire'].str.replace(',','.').astype(float)\n",
    "df_data['Conso_refroidissement_é_primaire'] = df_data['Conso_refroidissement_é_primaire'].str.replace(',','.').astype(float)\n",
    "df_data['Conso_refroidissement_dépensier_é_primaire'] = df_data['Conso_refroidissement_dépensier_é_primaire'].str.replace(',','.').astype(float)\n",
    "df_data['Conso_auxiliaires_é_primaire'] = df_data['Conso_auxiliaires_é_primaire'].str.replace(',','.').astype(float)\n",
    "df_data['Emission_GES_5_usages'] = df_data['Emission_GES_5_usages'].str.replace(',','.').astype(float)\n",
    "df_data['Emission_GES_5_usages_par_m²'] = df_data['Emission_GES_5_usages_par_m²'].str.replace(',','.').astype(float)\n",
    "df_data['Emission_GES_chauffage'] = df_data['Emission_GES_chauffage'].str.replace(',','.').astype(float)\n",
    "df_data['Emission_GES_chauffage_dépensier'] = df_data['Emission_GES_chauffage_dépensier'].str.replace(',','.').astype(float)\n",
    "df_data['Emission_GES_éclairage'] = df_data['Emission_GES_éclairage'].str.replace(',','.').astype(float)\n",
    "df_data['Emission_GES_ECS'] = df_data['Emission_GES_ECS'].str.replace(',','.').astype(float)\n",
    "df_data['Emission_GES_ECS_dépensier'] = df_data['Emission_GES_ECS_dépensier'].str.replace(',','.').astype(float)\n",
    "df_data['Emission_GES_refroidissement'] = df_data['Emission_GES_refroidissement'].str.replace(',','.').astype(float)\n",
    "df_data['Emission_GES_refroidissement_dépensier'] = df_data['Emission_GES_refroidissement_dépensier'].str.replace(',','.').astype(float)\n",
    "df_data['Emission_GES_auxiliaires'] = df_data['Emission_GES_auxiliaires'].str.replace(',','.').astype(float)\n",
    "df_data['Coût_chauffage_énergie_n°1'] = df_data['Coût_chauffage_énergie_n°1'].str.replace(',','.').astype(float)\n",
    "df_data['Coût_ECS_énergie_n°1'] = df_data['Coût_ECS_énergie_n°1'].str.replace(',','.').astype(float)\n",
    "df_data['Emission_GES_5_usages_énergie_n°1'] = df_data['Emission_GES_5_usages_énergie_n°1'].str.replace(',','.').astype(float)\n",
    "df_data['Coût_total_5_usages'] = df_data['Coût_total_5_usages'].str.replace(',','.').astype(float)\n",
    "df_data['Coût_chauffage'] = df_data['Coût_chauffage'].str.replace(',','.').astype(float)\n",
    "df_data['Coût_chauffage_dépensier'] = df_data['Coût_chauffage_dépensier'].str.replace(',','.').astype(float)\n",
    "df_data['Coût_éclairage'] = df_data['Coût_éclairage'].str.replace(',','.').astype(float)\n",
    "df_data['Coût_ECS_dépensier'] = df_data['Coût_ECS_dépensier'].str.replace(',','.').astype(float)\n",
    "df_data['Coût_ECS'] = df_data['Coût_ECS'].str.replace(',','.').astype(float)\n",
    "df_data['Coût_refroidissement'] = df_data['Coût_refroidissement'].str.replace(',','.').astype(float)\n",
    "df_data['Coût_refroidissement_dépensier'] = df_data['Coût_refroidissement_dépensier'].str.replace(',','.').astype(float)\n",
    "df_data['Coût_auxiliaires'] = df_data['Coût_auxiliaires'].str.replace(',','.').astype(float)\n",
    "df_data['Ubat_W/m²_K'] = df_data['Ubat_W/m²_K'].str.replace(',','.').astype(float)\n",
    "\n"
   ]
  },
  {
   "cell_type": "markdown",
   "id": "15ce5a27-5bf1-4b4c-b6d1-1add740cc169",
   "metadata": {},
   "source": [
    "**Columns**\n",
    "\n"
   ]
  },
  {
   "cell_type": "code",
   "execution_count": 27,
   "id": "5dae576b-0c84-472e-a652-03b72f2dccf1",
   "metadata": {},
   "outputs": [],
   "source": [
    "dict_columns={'Modèle_DPE':'Modele_DPE',\n",
    "        'Méthode_application_DPE':'Methode_application_DPE',\n",
    "         'Type_bâtiment':'Type_batiment',\n",
    "         'Hauteur_sous-plafond':'Hauteur_sous_plafond',\n",
    "         'Conso_5_usages_é_finale':'Conso_5_usages_finale',\n",
    "         'Conso_5_usages/m²_é_finale':'Conso_5_usages_m2_finale',\n",
    "         'Conso_chauffage_é_finale':'Conso_chauffage_finale',\n",
    "         'Conso_chauffage_dépensier_é_finale':'Conso_chauffage_depensier_finale',\n",
    "         'Conso_éclairage_é_finale':'Conso_eclairage_finale',\n",
    "         'Conso_ECS_é_finale':'Conso_ECS_finale',\n",
    "         'Conso_ECS_dépensier_é_finale':'Conso_ECS_depensier_finale',\n",
    "         'Conso_refroidissement_é_finale':'Conso_refroidissement_finale',\n",
    "         'Conso_refroidissement_dépensier_é_finale':'Conso_refroidissement_depensier_finale',\n",
    "         'Conso_auxiliaires_é_finale':'Conso_auxiliaires_finale',\n",
    "         'Conso_5_usages_é_primaire':'Conso_5_usages_primaire',\n",
    "         'Conso_5_usages_par_m²_é_primaire':'Conso_5_usages_par_m2_primaire',\n",
    "         'Conso_chauffage_é_primaire':'Conso_chauffage_primaire',\n",
    "         'Conso_chauffage_dépensier_é_primaire':'Conso_chauffage_depensier_primaire',\n",
    "         'Conso_éclairage_é_primaire':'Conso_eclairage_primaire',\n",
    "         'Conso_ECS_é_primaire':'Conso_ECS_primaire',\n",
    "         'Conso_ECS_dépensier_é_primaire':'Conso_ECS_depensier_primaire',\n",
    "         'Conso_refroidissement_é_primaire':'Conso_refroidissement_primaire',\n",
    "         'Conso_refroidissement_dépensier_é_primaire':'Conso_refroidissement_depensier_primaire',\n",
    "         'Conso_auxiliaires_é_primaire':'Conso_auxiliaires_primaire',\n",
    "         'Emission_GES_5_usages_par_m²':'Emission_GES_5_usages_par_m2',\n",
    "         'Emission_GES_chauffage_dépensier':'Emission_GES_chauffage_depensier',\n",
    "         'Emission_GES_éclairage':'Emission_GES_eclairage',\n",
    "         'Emission_GES_ECS_dépensier':'Emission_GES_ECS_depensier',\n",
    "         'Emission_GES_refroidissement_dépensier':'Emission_GES_refroidissement_depensier',\n",
    "         'Coût_chauffage_énergie_n°1':'Cout_chauffage_energie_num1',\n",
    "         'Coût_ECS_énergie_n°1':'Cout_ECS_energie_num1',\n",
    "         'Emission_GES_5_usages_énergie_n°1':'Emission_GES_5_usages_energie_num1',\n",
    "         'Type_énergie_n°1':'Type_energie_num1',\n",
    "         'Coût_total_5_usages':'Cout_total_5_usages',\n",
    "         'Coût_chauffage':'Cout_chauffage',\n",
    "         'Coût_chauffage_dépensier':'Cout_chauffage_depensier',\n",
    "         'Coût_éclairage':'Cout_eclairage',\n",
    "         'Coût_ECS_dépensier':'Cout_ECS_depensier',\n",
    "         'Coût_ECS':'Cout_ECS',\n",
    "         'Coût_refroidissement':'Cout_refroidissement',\n",
    "         'Coût_refroidissement_dépensier':'Cout_refroidissement_depensier',\n",
    "         'Coût_auxiliaires':'Cout_auxiliaires',\n",
    "         'Qualité_isolation_enveloppe':'Qualite_isolation_enveloppe',\n",
    "         'Qualité_isolation_menuiseries':'Qualite_isolation_menuiseries',\n",
    "         'Qualité_isolation_murs':'Qualite_isolation_murs',\n",
    "         'Ubat_W/m²_K':'Ubat_W_m2_K',\n",
    "         'Appartement_non_visité_(0/1)':'Appartement_non_visite_0_1',\n",
    "         'Coût_chauffage_énergie_n°2':'Cout_chauffage_energie_num2',\n",
    "         'Coût_ECS_énergie_n°2':'Cout_ECS_energie_num2',\n",
    "         'Type_énergie_n°2':'Type_energie_num2',\n",
    "         'Emission_GES_5_usages_énergie_n°2':'Emission_GES_5_usages_energie_num2',\n",
    "         'Qualité_isolation_plancher_bas':'Qualite_isolation_plancher_bas'}         \n",
    "\n",
    "df_data.rename(columns=dict_columns, inplace=True)\n",
    "\n"
   ]
  },
  {
   "cell_type": "markdown",
   "id": "680978ef-6711-4549-873c-29f4b4d0ff04",
   "metadata": {},
   "source": [
    "**Data cleaning**\n",
    "\n"
   ]
  },
  {
   "cell_type": "code",
   "execution_count": 28,
   "id": "a6b8a4fb-d20c-4e52-a136-6a829b0e147d",
   "metadata": {},
   "outputs": [],
   "source": [
    "numerical_columns = ['Hauteur_sous_plafond',\n",
    "       'Conso_5_usages_finale', 'Conso_5_usages_m2_finale',\n",
    "       'Conso_chauffage_finale', 'Conso_chauffage_depensier_finale',\n",
    "       'Conso_eclairage_finale', 'Conso_ECS_finale',\n",
    "       'Conso_ECS_depensier_finale', 'Conso_refroidissement_finale',\n",
    "       'Conso_refroidissement_depensier_finale', 'Conso_auxiliaires_finale',\n",
    "       'Conso_5_usages_primaire', 'Conso_5_usages_par_m2_primaire',\n",
    "       'Conso_chauffage_primaire', 'Conso_chauffage_depensier_primaire',\n",
    "       'Conso_eclairage_primaire', 'Conso_ECS_primaire',\n",
    "       'Conso_ECS_depensier_primaire', 'Conso_refroidissement_primaire',\n",
    "       'Conso_refroidissement_depensier_primaire',\n",
    "       'Conso_auxiliaires_primaire', 'Emission_GES_5_usages',\n",
    "       'Emission_GES_5_usages_par_m2', 'Emission_GES_chauffage',\n",
    "       'Emission_GES_chauffage_depensier', 'Emission_GES_eclairage',\n",
    "       'Emission_GES_ECS', 'Emission_GES_ECS_depensier',\n",
    "       'Emission_GES_refroidissement',\n",
    "       'Emission_GES_refroidissement_depensier', 'Emission_GES_auxiliaires',\n",
    "       'Cout_chauffage_energie_num1', 'Cout_ECS_energie_num1',\n",
    "       'Emission_GES_5_usages_energie_num1',\n",
    "       'Cout_total_5_usages', 'Cout_chauffage', 'Cout_chauffage_depensier',\n",
    "       'Cout_eclairage', 'Cout_ECS_depensier', 'Cout_ECS',\n",
    "       'Cout_refroidissement', 'Cout_refroidissement_depensier',\n",
    "       'Cout_auxiliaires',\n",
    "       'Ubat_W_m2_K', 'Nombre_appartement',\n",
    "       'Nombre_niveau_immeuble', 'Nombre_niveau_logement',\n",
    "       'Surface_habitable_immeuble', 'Surface_habitable_logement', 'Score_BAN',\n",
    "       'Cout_chauffage_energie_num2', 'Cout_ECS_energie_num2', 'Emission_GES_5_usages_energie_num2']\n",
    "\n"
   ]
  },
  {
   "cell_type": "code",
   "execution_count": 30,
   "id": "0e3bda21-58ed-4693-87c8-cefcdb18ee16",
   "metadata": {},
   "outputs": [],
   "source": [
    "categorical_columns = ['Modele_DPE', 'Version_DPE', 'Methode_application_DPE', 'Etiquette_DPE', \n",
    "                      'Etiquette_GES', 'Type_batiment', 'Type_energie_num1', 'Qualite_isolation_enveloppe',\n",
    "                      'Qualite_isolation_menuiseries', 'Qualite_isolation_murs', 'Appartement_non_visite_0_1',\n",
    "                      'Type_energie_num2', 'Qualite_isolation_plancher_bas']\n",
    "\n"
   ]
  },
  {
   "cell_type": "code",
   "execution_count": 31,
   "id": "6f482655-18cc-4a8d-acdd-f63bec3300f4",
   "metadata": {},
   "outputs": [],
   "source": [
    "df_data['Modele_DPE'] = df_data['Modele_DPE'].str.replace('DPE NEUF logement : RT2012','RT2012')\n",
    "df_data['Modele_DPE'] = df_data['Modele_DPE'].str.replace('DPE NEUF logement : RE2020','RE2020')\n",
    "\n"
   ]
  },
  {
   "cell_type": "code",
   "execution_count": 32,
   "id": "0c4c9f6e-9061-46ae-a072-c408cec0e261",
   "metadata": {},
   "outputs": [],
   "source": [
    "df_data['Methode_application_DPE'] = df_data['Methode_application_DPE'].str.replace(\"dpe issu d'une étude thermique réglementaire RT2012 bâtiment : appartement\",\"dpe_etude_thermique_RT2012_batiment_appartement\")\n",
    "df_data['Methode_application_DPE'] = df_data['Methode_application_DPE'].str.replace(\"dpe issu d'une étude thermique réglementaire RT2012 bâtiment : maison individuelle\",\"dpe_etude_thermique_reglementaire_RT2012_batiment_maison_individuelle\")\n",
    "df_data['Methode_application_DPE'] = df_data['Methode_application_DPE'].str.replace(\"dpe appartement généré à partir des données DPE immeuble\",\"dpe_appartement_genere_donnees_DPE_immeuble\")\n",
    "df_data['Methode_application_DPE'] = df_data['Methode_application_DPE'].str.replace(\"dpe maison individuelle\",\"dpe_maison_individuelle\")\n",
    "df_data['Methode_application_DPE'] = df_data['Methode_application_DPE'].str.replace(\"dpe issu d'une étude thermique réglementaire RT2012 bâtiment : immeuble\",\"dpe_etude_thermique_RT2012_batiment_immeuble\")\n",
    "df_data['Methode_application_DPE'] = df_data['Methode_application_DPE'].str.replace(\"dpe immeuble collectif\",\"dpe_immeuble_collectif\")\n",
    "df_data['Methode_application_DPE'] = df_data['Methode_application_DPE'].str.replace(\"dpe appartement individuel\",\"dpe_appartement_individuel\")\n",
    "df_data['Methode_application_DPE'] = df_data['Methode_application_DPE'].str.replace(\"dpe issu d'une étude energie environement réglementaire RE2020 bâtiment : appartement\",\"dpe_etude_energie_environement_RE2020_batiment_appartement\")\n",
    "df_data['Methode_application_DPE'] = df_data['Methode_application_DPE'].str.replace(\"dpe issu d'une étude energie environement réglementaire RE2020 bâtiment : maison individuelle\",\"dpe_etude_energie_environement_RE2020_batiment_maison_individuelle\")\n",
    "\n"
   ]
  },
  {
   "cell_type": "code",
   "execution_count": 33,
   "id": "8baed089-33b0-4b05-9375-a2edbdd411d1",
   "metadata": {},
   "outputs": [],
   "source": [
    "df_data['Type_energie_num1'] = df_data['Type_energie_num1'].str.replace(\"Gaz naturel\",\"Gaz_naturel\")\n",
    "df_data['Type_energie_num1'] = df_data['Type_energie_num1'].str.replace(\"Électricité\",\"Electricite\")\n",
    "df_data['Type_energie_num1'] = df_data['Type_energie_num1'].str.replace(\"Réseau de Chauffage urbain\",\"Reseau_Chauffage_urbain\")\n",
    "df_data['Type_energie_num1'] = df_data['Type_energie_num1'].str.replace(\"Bois – Granulés (pellets) ou briquettes\",\"Bois_Granules_pellets_briquettes\")\n",
    "df_data['Type_energie_num1'] = df_data['Type_energie_num1'].str.replace(\"Bois – Bûches\",\"Bois_Buches\")\n",
    "df_data['Type_energie_num1'] = df_data['Type_energie_num1'].str.replace(\"Fioul domestique\",\"Fioul_domestique\")\n",
    "df_data['Type_energie_num1'] = df_data['Type_energie_num1'].str.replace(\"Bois – Plaquettes forestières\",\"Bois_Plaquettes_forestieres\")\n",
    "\n"
   ]
  },
  {
   "cell_type": "code",
   "execution_count": 34,
   "id": "96dbf533-e678-4444-8ace-b63a7313a7d7",
   "metadata": {},
   "outputs": [],
   "source": [
    "df_data['Type_energie_num2'] = df_data['Type_energie_num2'].str.replace(\"Gaz naturel\",\"Gaz_naturel\")\n",
    "df_data['Type_energie_num2'] = df_data['Type_energie_num2'].str.replace(\"Électricité\",\"Electricite\")\n",
    "df_data['Type_energie_num2'] = df_data['Type_energie_num2'].str.replace(\"Réseau de Chauffage urbain\",\"Reseau_Chauffage_urbain\")\n",
    "df_data['Type_energie_num2'] = df_data['Type_energie_num2'].str.replace(\"Bois – Granulés (pellets) ou briquettes\",\"Bois_Granules_pellets_briquettes\")\n",
    "df_data['Type_energie_num2'] = df_data['Type_energie_num2'].str.replace(\"Bois – Bûches\",\"Bois_Buches\")\n",
    "df_data['Type_energie_num2'] = df_data['Type_energie_num2'].str.replace(\"Fioul domestique\",\"Fioul_domestique\")\n",
    "df_data['Type_energie_num2'] = df_data['Type_energie_num2'].str.replace(\"Bois – Plaquettes forestières\",\"Bois_Plaquettes_forestieres\")\n",
    "\n"
   ]
  },
  {
   "cell_type": "code",
   "execution_count": 35,
   "id": "52a8a026-d1c6-4bb1-b6c8-148eafd2201e",
   "metadata": {},
   "outputs": [],
   "source": [
    "df_data['Qualite_isolation_enveloppe'] = df_data['Qualite_isolation_enveloppe'].str.replace(\"très bonne\",\"tres_bonne\")\n",
    "df_data['Qualite_isolation_menuiseries'] = df_data['Qualite_isolation_menuiseries'].str.replace(\"très bonne\",\"tres_bonne\")\n",
    "df_data['Qualite_isolation_murs'] = df_data['Qualite_isolation_murs'].str.replace(\"très bonne\",\"tres_bonne\")\n",
    "df_data['Qualite_isolation_plancher_bas'] = df_data['Qualite_isolation_plancher_bas'].str.replace(\"très bonne\",\"tres_bonne\")\n",
    "\n"
   ]
  },
  {
   "cell_type": "code",
   "execution_count": 37,
   "id": "e15ced03-01bf-4ad3-99ee-5de535519209",
   "metadata": {},
   "outputs": [
    {
     "data": {
      "text/html": [
       "<div>\n",
       "<style scoped>\n",
       "    .dataframe tbody tr th:only-of-type {\n",
       "        vertical-align: middle;\n",
       "    }\n",
       "\n",
       "    .dataframe tbody tr th {\n",
       "        vertical-align: top;\n",
       "    }\n",
       "\n",
       "    .dataframe thead th {\n",
       "        text-align: right;\n",
       "    }\n",
       "</style>\n",
       "<table border=\"1\" class=\"dataframe\">\n",
       "  <thead>\n",
       "    <tr style=\"text-align: right;\">\n",
       "      <th></th>\n",
       "      <th>Modele_DPE</th>\n",
       "      <th>Version_DPE</th>\n",
       "      <th>Methode_application_DPE</th>\n",
       "      <th>Etiquette_DPE</th>\n",
       "      <th>Etiquette_GES</th>\n",
       "      <th>Type_batiment</th>\n",
       "      <th>Hauteur_sous_plafond</th>\n",
       "      <th>Conso_5_usages_finale</th>\n",
       "      <th>Conso_5_usages_m2_finale</th>\n",
       "      <th>Conso_chauffage_finale</th>\n",
       "      <th>...</th>\n",
       "      <th>Nombre_niveau_immeuble</th>\n",
       "      <th>Nombre_niveau_logement</th>\n",
       "      <th>Surface_habitable_immeuble</th>\n",
       "      <th>Surface_habitable_logement</th>\n",
       "      <th>Score_BAN</th>\n",
       "      <th>Cout_chauffage_energie_num2</th>\n",
       "      <th>Cout_ECS_energie_num2</th>\n",
       "      <th>Type_energie_num2</th>\n",
       "      <th>Emission_GES_5_usages_energie_num2</th>\n",
       "      <th>Qualite_isolation_plancher_bas</th>\n",
       "    </tr>\n",
       "  </thead>\n",
       "  <tbody>\n",
       "    <tr>\n",
       "      <th>0</th>\n",
       "      <td>RT2012</td>\n",
       "      <td>1</td>\n",
       "      <td>dpe_etude_thermique_reglementaire_RT2012_batim...</td>\n",
       "      <td>C</td>\n",
       "      <td>C</td>\n",
       "      <td>maison</td>\n",
       "      <td>2.5</td>\n",
       "      <td>2780.9</td>\n",
       "      <td>64.4</td>\n",
       "      <td>1713.9</td>\n",
       "      <td>...</td>\n",
       "      <td>1.0</td>\n",
       "      <td>1.0</td>\n",
       "      <td>339.7</td>\n",
       "      <td>43.2</td>\n",
       "      <td>0.80</td>\n",
       "      <td>0.80</td>\n",
       "      <td>0.0</td>\n",
       "      <td>Electricite</td>\n",
       "      <td>2.4</td>\n",
       "      <td>bonne</td>\n",
       "    </tr>\n",
       "    <tr>\n",
       "      <th>1</th>\n",
       "      <td>RT2012</td>\n",
       "      <td>1</td>\n",
       "      <td>dpe_etude_thermique_reglementaire_RT2012_batim...</td>\n",
       "      <td>C</td>\n",
       "      <td>C</td>\n",
       "      <td>maison</td>\n",
       "      <td>2.5</td>\n",
       "      <td>4173.0</td>\n",
       "      <td>58.3</td>\n",
       "      <td>2613.0</td>\n",
       "      <td>...</td>\n",
       "      <td>1.0</td>\n",
       "      <td>1.0</td>\n",
       "      <td>71.6</td>\n",
       "      <td>71.6</td>\n",
       "      <td>0.21</td>\n",
       "      <td>0.21</td>\n",
       "      <td>3.0</td>\n",
       "      <td>Electricite</td>\n",
       "      <td>12.7</td>\n",
       "      <td>tres_bonne</td>\n",
       "    </tr>\n",
       "    <tr>\n",
       "      <th>2</th>\n",
       "      <td>RT2012</td>\n",
       "      <td>1_1</td>\n",
       "      <td>dpe_etude_thermique_RT2012_batiment_appartement</td>\n",
       "      <td>C</td>\n",
       "      <td>C</td>\n",
       "      <td>appartement</td>\n",
       "      <td>2.5</td>\n",
       "      <td>2401.9</td>\n",
       "      <td>54.1</td>\n",
       "      <td>1147.8</td>\n",
       "      <td>...</td>\n",
       "      <td>1.0</td>\n",
       "      <td>1.0</td>\n",
       "      <td>1128.2</td>\n",
       "      <td>44.4</td>\n",
       "      <td>0.72</td>\n",
       "      <td>0.72</td>\n",
       "      <td>0.0</td>\n",
       "      <td>Electricite</td>\n",
       "      <td>1.9</td>\n",
       "      <td>bonne</td>\n",
       "    </tr>\n",
       "    <tr>\n",
       "      <th>3</th>\n",
       "      <td>RT2012</td>\n",
       "      <td>2</td>\n",
       "      <td>dpe_etude_thermique_reglementaire_RT2012_batim...</td>\n",
       "      <td>C</td>\n",
       "      <td>C</td>\n",
       "      <td>maison</td>\n",
       "      <td>2.5</td>\n",
       "      <td>6651.3</td>\n",
       "      <td>63.7</td>\n",
       "      <td>5452.0</td>\n",
       "      <td>...</td>\n",
       "      <td>1.0</td>\n",
       "      <td>1.0</td>\n",
       "      <td>104.5</td>\n",
       "      <td>104.5</td>\n",
       "      <td>0.33</td>\n",
       "      <td>0.33</td>\n",
       "      <td>227.0</td>\n",
       "      <td>Electricite</td>\n",
       "      <td>22.5</td>\n",
       "      <td>tres_bonne</td>\n",
       "    </tr>\n",
       "    <tr>\n",
       "      <th>4</th>\n",
       "      <td>RT2012</td>\n",
       "      <td>1_1</td>\n",
       "      <td>dpe_etude_thermique_RT2012_batiment_appartement</td>\n",
       "      <td>C</td>\n",
       "      <td>C</td>\n",
       "      <td>appartement</td>\n",
       "      <td>2.5</td>\n",
       "      <td>4856.8</td>\n",
       "      <td>88.7</td>\n",
       "      <td>3301.6</td>\n",
       "      <td>...</td>\n",
       "      <td>1.0</td>\n",
       "      <td>1.0</td>\n",
       "      <td>1738.3</td>\n",
       "      <td>54.7</td>\n",
       "      <td>0.82</td>\n",
       "      <td>0.82</td>\n",
       "      <td>4.4</td>\n",
       "      <td>Electricite</td>\n",
       "      <td>2.8</td>\n",
       "      <td>bonne</td>\n",
       "    </tr>\n",
       "    <tr>\n",
       "      <th>...</th>\n",
       "      <td>...</td>\n",
       "      <td>...</td>\n",
       "      <td>...</td>\n",
       "      <td>...</td>\n",
       "      <td>...</td>\n",
       "      <td>...</td>\n",
       "      <td>...</td>\n",
       "      <td>...</td>\n",
       "      <td>...</td>\n",
       "      <td>...</td>\n",
       "      <td>...</td>\n",
       "      <td>...</td>\n",
       "      <td>...</td>\n",
       "      <td>...</td>\n",
       "      <td>...</td>\n",
       "      <td>...</td>\n",
       "      <td>...</td>\n",
       "      <td>...</td>\n",
       "      <td>...</td>\n",
       "      <td>...</td>\n",
       "      <td>...</td>\n",
       "    </tr>\n",
       "    <tr>\n",
       "      <th>9995</th>\n",
       "      <td>RT2012</td>\n",
       "      <td>1_1</td>\n",
       "      <td>dpe_etude_thermique_reglementaire_RT2012_batim...</td>\n",
       "      <td>C</td>\n",
       "      <td>C</td>\n",
       "      <td>maison</td>\n",
       "      <td>2.5</td>\n",
       "      <td>5573.1</td>\n",
       "      <td>90.0</td>\n",
       "      <td>4179.6</td>\n",
       "      <td>...</td>\n",
       "      <td>1.0</td>\n",
       "      <td>1.0</td>\n",
       "      <td>1750.8</td>\n",
       "      <td>61.9</td>\n",
       "      <td>0.96</td>\n",
       "      <td>0.96</td>\n",
       "      <td>268.2</td>\n",
       "      <td>Electricite</td>\n",
       "      <td>103.2</td>\n",
       "      <td>tres_bonne</td>\n",
       "    </tr>\n",
       "    <tr>\n",
       "      <th>9996</th>\n",
       "      <td>RT2012</td>\n",
       "      <td>1</td>\n",
       "      <td>dpe_etude_thermique_reglementaire_RT2012_batim...</td>\n",
       "      <td>C</td>\n",
       "      <td>C</td>\n",
       "      <td>maison</td>\n",
       "      <td>2.5</td>\n",
       "      <td>4866.3</td>\n",
       "      <td>51.7</td>\n",
       "      <td>3017.0</td>\n",
       "      <td>...</td>\n",
       "      <td>1.0</td>\n",
       "      <td>1.0</td>\n",
       "      <td>94.2</td>\n",
       "      <td>94.2</td>\n",
       "      <td>0.56</td>\n",
       "      <td>0.56</td>\n",
       "      <td>0.0</td>\n",
       "      <td>Electricite</td>\n",
       "      <td>16.7</td>\n",
       "      <td>tres_bonne</td>\n",
       "    </tr>\n",
       "    <tr>\n",
       "      <th>9997</th>\n",
       "      <td>RT2012</td>\n",
       "      <td>1_1</td>\n",
       "      <td>dpe_etude_thermique_RT2012_batiment_appartement</td>\n",
       "      <td>C</td>\n",
       "      <td>C</td>\n",
       "      <td>appartement</td>\n",
       "      <td>2.5</td>\n",
       "      <td>3491.2</td>\n",
       "      <td>56.8</td>\n",
       "      <td>1874.4</td>\n",
       "      <td>...</td>\n",
       "      <td>1.0</td>\n",
       "      <td>1.0</td>\n",
       "      <td>2873.7</td>\n",
       "      <td>61.5</td>\n",
       "      <td>0.75</td>\n",
       "      <td>0.75</td>\n",
       "      <td>0.0</td>\n",
       "      <td>Electricite</td>\n",
       "      <td>2.6</td>\n",
       "      <td>bonne</td>\n",
       "    </tr>\n",
       "    <tr>\n",
       "      <th>9998</th>\n",
       "      <td>RT2012</td>\n",
       "      <td>2</td>\n",
       "      <td>dpe_maison_individuelle</td>\n",
       "      <td>B</td>\n",
       "      <td>B</td>\n",
       "      <td>maison</td>\n",
       "      <td>2.5</td>\n",
       "      <td>3457.3</td>\n",
       "      <td>39.0</td>\n",
       "      <td>2657.6</td>\n",
       "      <td>...</td>\n",
       "      <td>1.0</td>\n",
       "      <td>1.0</td>\n",
       "      <td>1750.8</td>\n",
       "      <td>87.2</td>\n",
       "      <td>0.64</td>\n",
       "      <td>0.64</td>\n",
       "      <td>167.7</td>\n",
       "      <td>Electricite</td>\n",
       "      <td>652.7</td>\n",
       "      <td>tres_bonne</td>\n",
       "    </tr>\n",
       "    <tr>\n",
       "      <th>9999</th>\n",
       "      <td>RT2012</td>\n",
       "      <td>1_1</td>\n",
       "      <td>dpe_etude_thermique_RT2012_batiment_appartement</td>\n",
       "      <td>B</td>\n",
       "      <td>B</td>\n",
       "      <td>appartement</td>\n",
       "      <td>2.6</td>\n",
       "      <td>3471.2</td>\n",
       "      <td>39.0</td>\n",
       "      <td>1770.7</td>\n",
       "      <td>...</td>\n",
       "      <td>1.0</td>\n",
       "      <td>1.0</td>\n",
       "      <td>1750.8</td>\n",
       "      <td>89.0</td>\n",
       "      <td>0.88</td>\n",
       "      <td>0.88</td>\n",
       "      <td>52.3</td>\n",
       "      <td>Electricite</td>\n",
       "      <td>796.7</td>\n",
       "      <td>tres_bonne</td>\n",
       "    </tr>\n",
       "  </tbody>\n",
       "</table>\n",
       "<p>10000 rows × 66 columns</p>\n",
       "</div>"
      ],
      "text/plain": [
       "     Modele_DPE Version_DPE  \\\n",
       "0        RT2012           1   \n",
       "1        RT2012           1   \n",
       "2        RT2012         1_1   \n",
       "3        RT2012           2   \n",
       "4        RT2012         1_1   \n",
       "...         ...         ...   \n",
       "9995     RT2012         1_1   \n",
       "9996     RT2012           1   \n",
       "9997     RT2012         1_1   \n",
       "9998     RT2012           2   \n",
       "9999     RT2012         1_1   \n",
       "\n",
       "                                Methode_application_DPE Etiquette_DPE  \\\n",
       "0     dpe_etude_thermique_reglementaire_RT2012_batim...             C   \n",
       "1     dpe_etude_thermique_reglementaire_RT2012_batim...             C   \n",
       "2       dpe_etude_thermique_RT2012_batiment_appartement             C   \n",
       "3     dpe_etude_thermique_reglementaire_RT2012_batim...             C   \n",
       "4       dpe_etude_thermique_RT2012_batiment_appartement             C   \n",
       "...                                                 ...           ...   \n",
       "9995  dpe_etude_thermique_reglementaire_RT2012_batim...             C   \n",
       "9996  dpe_etude_thermique_reglementaire_RT2012_batim...             C   \n",
       "9997    dpe_etude_thermique_RT2012_batiment_appartement             C   \n",
       "9998                            dpe_maison_individuelle             B   \n",
       "9999    dpe_etude_thermique_RT2012_batiment_appartement             B   \n",
       "\n",
       "     Etiquette_GES Type_batiment  Hauteur_sous_plafond  Conso_5_usages_finale  \\\n",
       "0                C        maison                   2.5                 2780.9   \n",
       "1                C        maison                   2.5                 4173.0   \n",
       "2                C   appartement                   2.5                 2401.9   \n",
       "3                C        maison                   2.5                 6651.3   \n",
       "4                C   appartement                   2.5                 4856.8   \n",
       "...            ...           ...                   ...                    ...   \n",
       "9995             C        maison                   2.5                 5573.1   \n",
       "9996             C        maison                   2.5                 4866.3   \n",
       "9997             C   appartement                   2.5                 3491.2   \n",
       "9998             B        maison                   2.5                 3457.3   \n",
       "9999             B   appartement                   2.6                 3471.2   \n",
       "\n",
       "      Conso_5_usages_m2_finale  Conso_chauffage_finale  ...  \\\n",
       "0                         64.4                  1713.9  ...   \n",
       "1                         58.3                  2613.0  ...   \n",
       "2                         54.1                  1147.8  ...   \n",
       "3                         63.7                  5452.0  ...   \n",
       "4                         88.7                  3301.6  ...   \n",
       "...                        ...                     ...  ...   \n",
       "9995                      90.0                  4179.6  ...   \n",
       "9996                      51.7                  3017.0  ...   \n",
       "9997                      56.8                  1874.4  ...   \n",
       "9998                      39.0                  2657.6  ...   \n",
       "9999                      39.0                  1770.7  ...   \n",
       "\n",
       "      Nombre_niveau_immeuble  Nombre_niveau_logement  \\\n",
       "0                        1.0                     1.0   \n",
       "1                        1.0                     1.0   \n",
       "2                        1.0                     1.0   \n",
       "3                        1.0                     1.0   \n",
       "4                        1.0                     1.0   \n",
       "...                      ...                     ...   \n",
       "9995                     1.0                     1.0   \n",
       "9996                     1.0                     1.0   \n",
       "9997                     1.0                     1.0   \n",
       "9998                     1.0                     1.0   \n",
       "9999                     1.0                     1.0   \n",
       "\n",
       "      Surface_habitable_immeuble  Surface_habitable_logement  Score_BAN  \\\n",
       "0                          339.7                        43.2       0.80   \n",
       "1                           71.6                        71.6       0.21   \n",
       "2                         1128.2                        44.4       0.72   \n",
       "3                          104.5                       104.5       0.33   \n",
       "4                         1738.3                        54.7       0.82   \n",
       "...                          ...                         ...        ...   \n",
       "9995                      1750.8                        61.9       0.96   \n",
       "9996                        94.2                        94.2       0.56   \n",
       "9997                      2873.7                        61.5       0.75   \n",
       "9998                      1750.8                        87.2       0.64   \n",
       "9999                      1750.8                        89.0       0.88   \n",
       "\n",
       "      Cout_chauffage_energie_num2  Cout_ECS_energie_num2  Type_energie_num2  \\\n",
       "0                            0.80                    0.0        Electricite   \n",
       "1                            0.21                    3.0        Electricite   \n",
       "2                            0.72                    0.0        Electricite   \n",
       "3                            0.33                  227.0        Electricite   \n",
       "4                            0.82                    4.4        Electricite   \n",
       "...                           ...                    ...                ...   \n",
       "9995                         0.96                  268.2        Electricite   \n",
       "9996                         0.56                    0.0        Electricite   \n",
       "9997                         0.75                    0.0        Electricite   \n",
       "9998                         0.64                  167.7        Electricite   \n",
       "9999                         0.88                   52.3        Electricite   \n",
       "\n",
       "      Emission_GES_5_usages_energie_num2  Qualite_isolation_plancher_bas  \n",
       "0                                    2.4                           bonne  \n",
       "1                                   12.7                      tres_bonne  \n",
       "2                                    1.9                           bonne  \n",
       "3                                   22.5                      tres_bonne  \n",
       "4                                    2.8                           bonne  \n",
       "...                                  ...                             ...  \n",
       "9995                               103.2                      tres_bonne  \n",
       "9996                                16.7                      tres_bonne  \n",
       "9997                                 2.6                           bonne  \n",
       "9998                               652.7                      tres_bonne  \n",
       "9999                               796.7                      tres_bonne  \n",
       "\n",
       "[10000 rows x 66 columns]"
      ]
     },
     "execution_count": 37,
     "metadata": {},
     "output_type": "execute_result"
    }
   ],
   "source": [
    "df_data\n",
    "\n"
   ]
  },
  {
   "cell_type": "markdown",
   "id": "c2a9c297-bf44-4676-96f7-42073f36dacf",
   "metadata": {},
   "source": [
    "## Data visualization\n",
    "\n"
   ]
  },
  {
   "cell_type": "code",
   "execution_count": 38,
   "id": "2ea27167-5b34-4239-95f3-c7a54d3abe42",
   "metadata": {},
   "outputs": [],
   "source": [
    "test = df_data['Etiquette_DPE'].value_counts() / len(df_data) * 100\n",
    "values = np.array(df_data['Etiquette_DPE'].value_counts() / len(df_data) * 100)\n",
    "labels = np.array(test.index)\n",
    "\n"
   ]
  },
  {
   "cell_type": "code",
   "execution_count": 40,
   "id": "fbfa3197-eea3-4ebc-a801-8aa767b4a733",
   "metadata": {},
   "outputs": [
    {
     "data": {
      "image/png": "[encoded data removed]",
      "text/plain": [
       "<Figure size 640x480 with 1 Axes>"
      ]
     },
     "metadata": {},
     "output_type": "display_data"
    }
   ],
   "source": [
    "plt.figure()\n",
    "plt.pie(values, labels=labels, autopct='%1.1f%%')\n",
    "plt.title(\"Distribution of energy performance diagnostic in %\")\n",
    "plt.show()\n",
    "\n"
   ]
  },
  {
   "cell_type": "code",
   "execution_count": 41,
   "id": "edb1ba72-6152-495e-a93c-a87a4d7cfff4",
   "metadata": {},
   "outputs": [
    {
     "data": {
      "image/png": "[encoded data removed]",
      "text/plain": [
       "<Figure size 640x480 with 1 Axes>"
      ]
     },
     "metadata": {},
     "output_type": "display_data"
    }
   ],
   "source": [
    "plt.figure()\n",
    "sns.countplot(data = df_data, x = 'Etiquette_DPE', order = df_data['Etiquette_DPE'].value_counts().index)\n",
    "plt.title(\"Distribution of energy performance diagnostic\")\n",
    "plt.show()\n",
    "\n"
   ]
  },
  {
   "cell_type": "code",
   "execution_count": 42,
   "id": "8c0b2782-dc38-43f4-b3b1-ca4e952bfb92",
   "metadata": {},
   "outputs": [
    {
     "data": {
      "image/png": "[encoded data removed]",
      "text/plain": [
       "<Figure size 640x480 with 1 Axes>"
      ]
     },
     "metadata": {},
     "output_type": "display_data"
    }
   ],
   "source": [
    "plt.figure()\n",
    "sns.countplot(data = df_data, x = 'Type_batiment', order = df_data['Type_batiment'].value_counts().index, hue = 'Etiquette_DPE')\n",
    "plt.title(\"Distribution of energy performance diagnostic by building type\")\n",
    "plt.show()\n",
    "\n"
   ]
  },
  {
   "cell_type": "code",
   "execution_count": 43,
   "id": "b98b4dd0-89b9-4bed-bb77-eda4ccf69ff2",
   "metadata": {},
   "outputs": [
    {
     "data": {
      "image/png": "[encoded data removed]",
      "text/plain": [
       "<Figure size 640x480 with 1 Axes>"
      ]
     },
     "metadata": {},
     "output_type": "display_data"
    }
   ],
   "source": [
    "plt.figure()\n",
    "sns.countplot(data = df_data, x = 'Qualite_isolation_enveloppe', order = df_data['Qualite_isolation_enveloppe'].value_counts().index, hue = 'Etiquette_DPE')\n",
    "plt.xticks(rotation=90)\n",
    "plt.title(\"Distribution of energy performance diagnostic by Qualite_isolation_enveloppe\")\n",
    "plt.show()\n",
    "\n"
   ]
  },
  {
   "cell_type": "code",
   "execution_count": 44,
   "id": "46b164f6-33d8-423f-98a2-00f9d4fb5d3a",
   "metadata": {},
   "outputs": [
    {
     "data": {
      "image/png": "[encoded data removed]",
      "text/plain": [
       "<Figure size 640x480 with 1 Axes>"
      ]
     },
     "metadata": {},
     "output_type": "display_data"
    }
   ],
   "source": [
    "plt.figure()\n",
    "sns.countplot(data = df_data, x = 'Type_energie_num1', order = df_data['Type_energie_num1'].value_counts().index, hue = 'Etiquette_DPE')\n",
    "plt.xticks(rotation=90)\n",
    "plt.title(\"Distribution of energy performance diagnostic by Type_energie_num1\")\n",
    "plt.show()\n",
    "\n"
   ]
  },
  {
   "cell_type": "code",
   "execution_count": 46,
   "id": "a3245a71-cb51-4d14-8647-c4a802b87da4",
   "metadata": {},
   "outputs": [
    {
     "data": {
      "image/png": "[encoded data removed]",
      "text/plain": [
       "<Figure size 1109.74x1000 with 20 Axes>"
      ]
     },
     "metadata": {},
     "output_type": "display_data"
    }
   ],
   "source": [
    "sns.pairplot(data=df_data[['Cout_total_5_usages', 'Conso_eclairage_finale', 'Cout_eclairage', 'Cout_ECS', 'Etiquette_DPE']], hue=\"Etiquette_DPE\")\n",
    "plt.show()\n",
    "\n"
   ]
  },
  {
   "cell_type": "code",
   "execution_count": 48,
   "id": "d4686b39-653e-447a-9511-90e8a3493438",
   "metadata": {},
   "outputs": [
    {
     "data": {
      "image/png": "[encoded data removed]",
      "text/plain": [
       "<Figure size 1200x800 with 1 Axes>"
      ]
     },
     "metadata": {},
     "output_type": "display_data"
    }
   ],
   "source": [
    "plt.figure(figsize=(12, 8))\n",
    "sns.scatterplot(x=\"Cout_total_5_usages\", y=\"Cout_ECS_energie_num1\", data=df_data, hue=\"Etiquette_DPE\")\n",
    "plt.show()\n",
    "\n"
   ]
  },
  {
   "cell_type": "markdown",
   "id": "860a1648-9ca5-477e-a063-f6084ed91310",
   "metadata": {},
   "source": [
    "## Data preprocessing\n",
    "\n"
   ]
  },
  {
   "cell_type": "markdown",
   "id": "aa6fe1fe-11ba-429e-ada3-7bc93369f1d4",
   "metadata": {},
   "source": [
    "**Dummies**\n",
    "\n"
   ]
  },
  {
   "cell_type": "code",
   "execution_count": 49,
   "id": "b6547d11-3943-4a0b-a201-bb64af2293e4",
   "metadata": {},
   "outputs": [],
   "source": [
    "categorical_columns = ['Modele_DPE', 'Version_DPE', 'Methode_application_DPE', \n",
    "                      'Type_batiment', 'Type_energie_num1', 'Qualite_isolation_enveloppe',\n",
    "                      'Qualite_isolation_menuiseries', 'Qualite_isolation_murs', 'Appartement_non_visite_0_1',\n",
    "                      'Type_energie_num2', 'Qualite_isolation_plancher_bas']\n",
    "\n"
   ]
  },
  {
   "cell_type": "code",
   "execution_count": 50,
   "id": "9ca736f0-0a16-4242-8aff-b9d2722b129f",
   "metadata": {},
   "outputs": [],
   "source": [
    "to_dummify = df_data[categorical_columns]\n",
    "\n"
   ]
  },
  {
   "cell_type": "code",
   "execution_count": 51,
   "id": "64c0299c-ea8e-4add-a2fb-32d2bcba8b4f",
   "metadata": {},
   "outputs": [
    {
     "data": {
      "text/plain": [
       "Index(['Modele_DPE_RE2020', 'Modele_DPE_RT2012', 'Version_DPE_1',\n",
       "       'Version_DPE_1_1', 'Version_DPE_2',\n",
       "       'Methode_application_DPE_dpe_appartement_genere_donnees_DPE_immeuble',\n",
       "       'Methode_application_DPE_dpe_appartement_individuel',\n",
       "       'Methode_application_DPE_dpe_etude_energie_environement_RE2020_batiment_appartement',\n",
       "       'Methode_application_DPE_dpe_etude_energie_environement_RE2020_batiment_maison_individuelle',\n",
       "       'Methode_application_DPE_dpe_etude_thermique_RT2012_batiment_appartement',\n",
       "       'Methode_application_DPE_dpe_etude_thermique_RT2012_batiment_immeuble',\n",
       "       'Methode_application_DPE_dpe_etude_thermique_reglementaire_RT2012_batiment_maison_individuelle',\n",
       "       'Methode_application_DPE_dpe_immeuble_collectif',\n",
       "       'Methode_application_DPE_dpe_maison_individuelle',\n",
       "       'Type_batiment_appartement', 'Type_batiment_immeuble',\n",
       "       'Type_batiment_maison', 'Type_energie_num1_Bois_Buches',\n",
       "       'Type_energie_num1_Bois_Granules_pellets_briquettes',\n",
       "       'Type_energie_num1_Bois_Plaquettes_forestieres',\n",
       "       'Type_energie_num1_Electricite', 'Type_energie_num1_Fioul_domestique',\n",
       "       'Type_energie_num1_GPL', 'Type_energie_num1_Gaz_naturel',\n",
       "       'Type_energie_num1_Reseau_Chauffage_urbain',\n",
       "       'Qualite_isolation_enveloppe_bonne',\n",
       "       'Qualite_isolation_enveloppe_insuffisante',\n",
       "       'Qualite_isolation_enveloppe_moyenne',\n",
       "       'Qualite_isolation_enveloppe_tres_bonne',\n",
       "       'Qualite_isolation_menuiseries_bonne',\n",
       "       'Qualite_isolation_menuiseries_insuffisante',\n",
       "       'Qualite_isolation_menuiseries_moyenne',\n",
       "       'Qualite_isolation_menuiseries_tres_bonne',\n",
       "       'Qualite_isolation_murs_bonne', 'Qualite_isolation_murs_insuffisante',\n",
       "       'Qualite_isolation_murs_moyenne', 'Qualite_isolation_murs_tres_bonne',\n",
       "       'Appartement_non_visite_0_1_FAUX', 'Appartement_non_visite_0_1_VRAI',\n",
       "       'Type_energie_num2_Bois_Buches',\n",
       "       'Type_energie_num2_Bois_Granules_pellets_briquettes',\n",
       "       'Type_energie_num2_Electricite', 'Type_energie_num2_Fioul_domestique',\n",
       "       'Type_energie_num2_GPL', 'Type_energie_num2_Gaz_naturel',\n",
       "       'Type_energie_num2_Reseau_Chauffage_urbain',\n",
       "       'Qualite_isolation_plancher_bas_bonne',\n",
       "       'Qualite_isolation_plancher_bas_insuffisante',\n",
       "       'Qualite_isolation_plancher_bas_moyenne',\n",
       "       'Qualite_isolation_plancher_bas_tres_bonne'],\n",
       "      dtype='object')"
      ]
     },
     "execution_count": 51,
     "metadata": {},
     "output_type": "execute_result"
    }
   ],
   "source": [
    "dummies = pd.get_dummies(to_dummify)\n",
    "\n",
    "dummies.columns\n",
    "\n"
   ]
  },
  {
   "cell_type": "code",
   "execution_count": 53,
   "id": "0dc3e463-f803-4409-945c-38c8c9bddbcf",
   "metadata": {},
   "outputs": [
    {
     "data": {
      "text/plain": [
       "(10000, 49)"
      ]
     },
     "execution_count": 53,
     "metadata": {},
     "output_type": "execute_result"
    }
   ],
   "source": [
    "dummies = dummies.drop(['Appartement_non_visite_0_1_FAUX'], axis=1)\n",
    "\n",
    "dummies.shape\n",
    "\n"
   ]
  },
  {
   "cell_type": "markdown",
   "id": "09f0d01e-6c1e-4bb9-ad21-42ecd6936dc8",
   "metadata": {},
   "source": [
    "**Scaling**\n",
    "\n"
   ]
  },
  {
   "cell_type": "code",
   "execution_count": 54,
   "id": "3a7f9e44-cb2c-43fa-b671-5d62661d460e",
   "metadata": {},
   "outputs": [],
   "source": [
    "to_scale = df_data[numerical_columns]\n",
    "\n"
   ]
  },
  {
   "cell_type": "code",
   "execution_count": 55,
   "id": "aa259d89-fd62-43cd-9baa-9ff3acba6bd0",
   "metadata": {},
   "outputs": [],
   "source": [
    "to_scale = (to_scale - to_scale.mean(axis=0))/(to_scale.std(axis=0))\n",
    "\n"
   ]
  },
  {
   "cell_type": "code",
   "execution_count": 56,
   "id": "520be410-3572-4c9c-a884-342eed71c9a7",
   "metadata": {},
   "outputs": [
    {
     "data": {
      "text/plain": [
       "(10000, 102)"
      ]
     },
     "execution_count": 56,
     "metadata": {},
     "output_type": "execute_result"
    }
   ],
   "source": [
    "X = pd.concat([to_scale, dummies], axis=1)\n",
    "\n",
    "X.shape\n",
    "\n"
   ]
  },
  {
   "cell_type": "code",
   "execution_count": 57,
   "id": "123031b5-845b-4ff2-ad97-44828267995e",
   "metadata": {},
   "outputs": [
    {
     "data": {
      "text/html": [
       "<div>\n",
       "<style scoped>\n",
       "    .dataframe tbody tr th:only-of-type {\n",
       "        vertical-align: middle;\n",
       "    }\n",
       "\n",
       "    .dataframe tbody tr th {\n",
       "        vertical-align: top;\n",
       "    }\n",
       "\n",
       "    .dataframe thead th {\n",
       "        text-align: right;\n",
       "    }\n",
       "</style>\n",
       "<table border=\"1\" class=\"dataframe\">\n",
       "  <thead>\n",
       "    <tr style=\"text-align: right;\">\n",
       "      <th></th>\n",
       "      <th>Hauteur_sous_plafond</th>\n",
       "      <th>Conso_5_usages_finale</th>\n",
       "      <th>Conso_5_usages_m2_finale</th>\n",
       "      <th>Conso_chauffage_finale</th>\n",
       "      <th>Conso_chauffage_depensier_finale</th>\n",
       "      <th>Conso_eclairage_finale</th>\n",
       "      <th>Conso_ECS_finale</th>\n",
       "      <th>Conso_ECS_depensier_finale</th>\n",
       "      <th>Conso_refroidissement_finale</th>\n",
       "      <th>Conso_refroidissement_depensier_finale</th>\n",
       "      <th>...</th>\n",
       "      <th>Type_energie_num2_Bois_Granules_pellets_briquettes</th>\n",
       "      <th>Type_energie_num2_Electricite</th>\n",
       "      <th>Type_energie_num2_Fioul_domestique</th>\n",
       "      <th>Type_energie_num2_GPL</th>\n",
       "      <th>Type_energie_num2_Gaz_naturel</th>\n",
       "      <th>Type_energie_num2_Reseau_Chauffage_urbain</th>\n",
       "      <th>Qualite_isolation_plancher_bas_bonne</th>\n",
       "      <th>Qualite_isolation_plancher_bas_insuffisante</th>\n",
       "      <th>Qualite_isolation_plancher_bas_moyenne</th>\n",
       "      <th>Qualite_isolation_plancher_bas_tres_bonne</th>\n",
       "    </tr>\n",
       "  </thead>\n",
       "  <tbody>\n",
       "    <tr>\n",
       "      <th>0</th>\n",
       "      <td>-0.032672</td>\n",
       "      <td>-0.075334</td>\n",
       "      <td>0.460964</td>\n",
       "      <td>-0.057194</td>\n",
       "      <td>-0.057195</td>\n",
       "      <td>-0.031589</td>\n",
       "      <td>-0.126499</td>\n",
       "      <td>-0.126414</td>\n",
       "      <td>-0.0252</td>\n",
       "      <td>-0.025204</td>\n",
       "      <td>...</td>\n",
       "      <td>False</td>\n",
       "      <td>True</td>\n",
       "      <td>False</td>\n",
       "      <td>False</td>\n",
       "      <td>False</td>\n",
       "      <td>False</td>\n",
       "      <td>True</td>\n",
       "      <td>False</td>\n",
       "      <td>False</td>\n",
       "      <td>False</td>\n",
       "    </tr>\n",
       "    <tr>\n",
       "      <th>1</th>\n",
       "      <td>-0.032672</td>\n",
       "      <td>-0.034848</td>\n",
       "      <td>0.219923</td>\n",
       "      <td>-0.008452</td>\n",
       "      <td>-0.008451</td>\n",
       "      <td>-0.023285</td>\n",
       "      <td>-0.066340</td>\n",
       "      <td>-0.066256</td>\n",
       "      <td>-0.0252</td>\n",
       "      <td>-0.025204</td>\n",
       "      <td>...</td>\n",
       "      <td>False</td>\n",
       "      <td>True</td>\n",
       "      <td>False</td>\n",
       "      <td>False</td>\n",
       "      <td>False</td>\n",
       "      <td>False</td>\n",
       "      <td>False</td>\n",
       "      <td>False</td>\n",
       "      <td>False</td>\n",
       "      <td>True</td>\n",
       "    </tr>\n",
       "    <tr>\n",
       "      <th>2</th>\n",
       "      <td>-0.032672</td>\n",
       "      <td>-0.086356</td>\n",
       "      <td>0.053961</td>\n",
       "      <td>-0.087884</td>\n",
       "      <td>-0.087886</td>\n",
       "      <td>-0.032018</td>\n",
       "      <td>-0.099210</td>\n",
       "      <td>-0.099124</td>\n",
       "      <td>-0.0252</td>\n",
       "      <td>-0.025204</td>\n",
       "      <td>...</td>\n",
       "      <td>False</td>\n",
       "      <td>True</td>\n",
       "      <td>False</td>\n",
       "      <td>False</td>\n",
       "      <td>False</td>\n",
       "      <td>False</td>\n",
       "      <td>True</td>\n",
       "      <td>False</td>\n",
       "      <td>False</td>\n",
       "      <td>False</td>\n",
       "    </tr>\n",
       "    <tr>\n",
       "      <th>3</th>\n",
       "      <td>-0.032672</td>\n",
       "      <td>0.037226</td>\n",
       "      <td>0.433304</td>\n",
       "      <td>0.145456</td>\n",
       "      <td>0.145455</td>\n",
       "      <td>-0.015452</td>\n",
       "      <td>-0.135902</td>\n",
       "      <td>-0.135813</td>\n",
       "      <td>-0.0252</td>\n",
       "      <td>-0.025204</td>\n",
       "      <td>...</td>\n",
       "      <td>False</td>\n",
       "      <td>True</td>\n",
       "      <td>False</td>\n",
       "      <td>False</td>\n",
       "      <td>False</td>\n",
       "      <td>False</td>\n",
       "      <td>False</td>\n",
       "      <td>False</td>\n",
       "      <td>False</td>\n",
       "      <td>True</td>\n",
       "    </tr>\n",
       "    <tr>\n",
       "      <th>4</th>\n",
       "      <td>-0.032672</td>\n",
       "      <td>-0.014962</td>\n",
       "      <td>1.421176</td>\n",
       "      <td>0.028878</td>\n",
       "      <td>0.028876</td>\n",
       "      <td>-0.031103</td>\n",
       "      <td>-0.065377</td>\n",
       "      <td>-0.065301</td>\n",
       "      <td>-0.0252</td>\n",
       "      <td>-0.025204</td>\n",
       "      <td>...</td>\n",
       "      <td>False</td>\n",
       "      <td>True</td>\n",
       "      <td>False</td>\n",
       "      <td>False</td>\n",
       "      <td>False</td>\n",
       "      <td>False</td>\n",
       "      <td>True</td>\n",
       "      <td>False</td>\n",
       "      <td>False</td>\n",
       "      <td>False</td>\n",
       "    </tr>\n",
       "  </tbody>\n",
       "</table>\n",
       "<p>5 rows × 102 columns</p>\n",
       "</div>"
      ],
      "text/plain": [
       "   Hauteur_sous_plafond  Conso_5_usages_finale  Conso_5_usages_m2_finale  \\\n",
       "0             -0.032672              -0.075334                  0.460964   \n",
       "1             -0.032672              -0.034848                  0.219923   \n",
       "2             -0.032672              -0.086356                  0.053961   \n",
       "3             -0.032672               0.037226                  0.433304   \n",
       "4             -0.032672              -0.014962                  1.421176   \n",
       "\n",
       "   Conso_chauffage_finale  Conso_chauffage_depensier_finale  \\\n",
       "0               -0.057194                         -0.057195   \n",
       "1               -0.008452                         -0.008451   \n",
       "2               -0.087884                         -0.087886   \n",
       "3                0.145456                          0.145455   \n",
       "4                0.028878                          0.028876   \n",
       "\n",
       "   Conso_eclairage_finale  Conso_ECS_finale  Conso_ECS_depensier_finale  \\\n",
       "0               -0.031589         -0.126499                   -0.126414   \n",
       "1               -0.023285         -0.066340                   -0.066256   \n",
       "2               -0.032018         -0.099210                   -0.099124   \n",
       "3               -0.015452         -0.135902                   -0.135813   \n",
       "4               -0.031103         -0.065377                   -0.065301   \n",
       "\n",
       "   Conso_refroidissement_finale  Conso_refroidissement_depensier_finale  ...  \\\n",
       "0                       -0.0252                               -0.025204  ...   \n",
       "1                       -0.0252                               -0.025204  ...   \n",
       "2                       -0.0252                               -0.025204  ...   \n",
       "3                       -0.0252                               -0.025204  ...   \n",
       "4                       -0.0252                               -0.025204  ...   \n",
       "\n",
       "   Type_energie_num2_Bois_Granules_pellets_briquettes  \\\n",
       "0                                              False    \n",
       "1                                              False    \n",
       "2                                              False    \n",
       "3                                              False    \n",
       "4                                              False    \n",
       "\n",
       "   Type_energie_num2_Electricite  Type_energie_num2_Fioul_domestique  \\\n",
       "0                           True                               False   \n",
       "1                           True                               False   \n",
       "2                           True                               False   \n",
       "3                           True                               False   \n",
       "4                           True                               False   \n",
       "\n",
       "   Type_energie_num2_GPL  Type_energie_num2_Gaz_naturel  \\\n",
       "0                  False                          False   \n",
       "1                  False                          False   \n",
       "2                  False                          False   \n",
       "3                  False                          False   \n",
       "4                  False                          False   \n",
       "\n",
       "   Type_energie_num2_Reseau_Chauffage_urbain  \\\n",
       "0                                      False   \n",
       "1                                      False   \n",
       "2                                      False   \n",
       "3                                      False   \n",
       "4                                      False   \n",
       "\n",
       "   Qualite_isolation_plancher_bas_bonne  \\\n",
       "0                                  True   \n",
       "1                                 False   \n",
       "2                                  True   \n",
       "3                                 False   \n",
       "4                                  True   \n",
       "\n",
       "   Qualite_isolation_plancher_bas_insuffisante  \\\n",
       "0                                        False   \n",
       "1                                        False   \n",
       "2                                        False   \n",
       "3                                        False   \n",
       "4                                        False   \n",
       "\n",
       "   Qualite_isolation_plancher_bas_moyenne  \\\n",
       "0                                   False   \n",
       "1                                   False   \n",
       "2                                   False   \n",
       "3                                   False   \n",
       "4                                   False   \n",
       "\n",
       "   Qualite_isolation_plancher_bas_tres_bonne  \n",
       "0                                      False  \n",
       "1                                       True  \n",
       "2                                      False  \n",
       "3                                       True  \n",
       "4                                      False  \n",
       "\n",
       "[5 rows x 102 columns]"
      ]
     },
     "execution_count": 57,
     "metadata": {},
     "output_type": "execute_result"
    }
   ],
   "source": [
    "X.head()\n",
    "\n"
   ]
  },
  {
   "cell_type": "code",
   "execution_count": 58,
   "id": "9d43e358-1dca-4c93-a4b7-545cdb509e8e",
   "metadata": {},
   "outputs": [
    {
     "name": "stdout",
     "output_type": "stream",
     "text": [
      "<class 'pandas.core.frame.DataFrame'>\n",
      "RangeIndex: 10000 entries, 0 to 9999\n",
      "Columns: 102 entries, Hauteur_sous_plafond to Qualite_isolation_plancher_bas_tres_bonne\n",
      "dtypes: bool(49), float64(53)\n",
      "memory usage: 4.5 MB\n"
     ]
    }
   ],
   "source": [
    "X.info()\n",
    "\n"
   ]
  },
  {
   "cell_type": "code",
   "execution_count": 59,
   "id": "d7eb774f-4c57-4935-a48c-d4f1d9212177",
   "metadata": {},
   "outputs": [
    {
     "name": "stdout",
     "output_type": "stream",
     "text": [
      "y shape  (10000,)\n"
     ]
    }
   ],
   "source": [
    "y = df_data['Etiquette_DPE']\n",
    "\n",
    "print(\"y shape \", y.shape)\n",
    "\n"
   ]
  },
  {
   "cell_type": "markdown",
   "id": "4f2ccacd-4783-48a6-a73e-1eedf21953b9",
   "metadata": {},
   "source": [
    "**PCA**\n",
    "\n"
   ]
  },
  {
   "cell_type": "code",
   "execution_count": 60,
   "id": "453bc526-68af-4ebd-b2ff-b094e6014b7d",
   "metadata": {},
   "outputs": [
    {
     "name": "stdout",
     "output_type": "stream",
     "text": [
      "retained variance 0.9904372920504944\n",
      "X_pca shape  (10000, 34)\n"
     ]
    }
   ],
   "source": [
    "pca = PCA(n_components=0.99)\n",
    "\n",
    "pca.fit(X)\n",
    "\n",
    "print('retained variance',np.sum(pca.explained_variance_ratio_))\n",
    "\n",
    "X_pca = pca.transform(X)\n",
    "\n",
    "print(\"X_pca shape \", X_pca.shape)\n",
    "\n"
   ]
  },
  {
   "cell_type": "markdown",
   "id": "110be621-7802-4734-b23f-9c321d936bf3",
   "metadata": {},
   "source": [
    "**Split**\n",
    "\n"
   ]
  },
  {
   "cell_type": "code",
   "execution_count": 61,
   "id": "b74ce027-79bc-47f2-b2be-a30c30b75a4d",
   "metadata": {},
   "outputs": [
    {
     "data": {
      "text/plain": [
       "((8000, 34), (2000, 34), (8000,), (2000,))"
      ]
     },
     "execution_count": 61,
     "metadata": {},
     "output_type": "execute_result"
    }
   ],
   "source": [
    "X_train, X_test, y_train, y_test = train_test_split(X_pca, y, test_size=0.2, random_state=0, stratify=y)\n",
    "\n",
    "X_train.shape, X_test.shape, y_train.shape, y_test.shape\n",
    "\n"
   ]
  },
  {
   "cell_type": "markdown",
   "id": "c877ce02-67fb-4b6e-9f78-70ee46b3986b",
   "metadata": {},
   "source": [
    "## Modelisation\n",
    "\n"
   ]
  },
  {
   "cell_type": "markdown",
   "id": "2f6aecf2-5aac-4b33-8ca9-3a88940a21a0",
   "metadata": {},
   "source": [
    "**Logistic regression**\n",
    "\n"
   ]
  },
  {
   "cell_type": "code",
   "execution_count": 62,
   "id": "12cf7bdf-b91c-41d8-a8f0-bb5197103336",
   "metadata": {},
   "outputs": [],
   "source": [
    "lr = LogisticRegression()\n",
    "\n",
    "lr.fit(X_train, y_train)\n",
    "\n",
    "y_train_pred = lr.predict(X_train)\n",
    "\n",
    "y_test_pred = lr.predict(X_test)\n",
    "\n"
   ]
  },
  {
   "cell_type": "code",
   "execution_count": 63,
   "id": "f0728b65-b2f0-4583-8d13-31d48ca3c998",
   "metadata": {},
   "outputs": [],
   "source": [
    "def print_metrics(y_train, y_test, y_train_pred, y_test_pred):\n",
    "    print('Train dataset')\n",
    "    print('-------------')\n",
    "    print('accuracy', accuracy_score(y_train, y_train_pred))\n",
    "    print('precision', precision_score(y_train, y_train_pred, average=None))\n",
    "    print('recall', recall_score(y_train, y_train_pred, average=None))\n",
    "    print('F-score', f1_score(y_train, y_train_pred, average=None))\n",
    "\n",
    "    print('-------------')\n",
    "    print('-------------')\n",
    "\n",
    "    print('Test dataset')\n",
    "    print('-------------')\n",
    "    print('accuracy', accuracy_score(y_test, y_test_pred))\n",
    "    print('precision', precision_score(y_test, y_test_pred, average=None))\n",
    "    print('recall', recall_score(y_test, y_test_pred, average=None))\n",
    "    print('F-score', f1_score(y_test, y_test_pred, average=None))\n",
    "\n"
   ]
  },
  {
   "cell_type": "code",
   "execution_count": 64,
   "id": "d25c4589-db1f-40db-89aa-d1398ca0f774",
   "metadata": {},
   "outputs": [
    {
     "name": "stdout",
     "output_type": "stream",
     "text": [
      "Train dataset\n",
      "-------------\n",
      "accuracy 0.953125\n",
      "precision [0.97080938 0.9141882  0.96476373 0.73333333 1.         1.\n",
      " 1.        ]\n",
      "recall [0.96314173 0.91285297 0.97353914 0.42307692 1.         0.5\n",
      " 1.        ]\n",
      "F-score [0.96696035 0.9135201  0.96913157 0.53658537 1.         0.66666667\n",
      " 1.        ]\n",
      "-------------\n",
      "-------------\n",
      "Test dataset\n",
      "-------------\n",
      "accuracy 0.9545\n",
      "precision [0.97513321 0.92322835 0.95891892 1.         1.        ]\n",
      "recall [0.96315789 0.91245136 0.97794928 0.28571429 1.        ]\n",
      "F-score [0.96910856 0.91780822 0.96834061 0.44444444 1.        ]\n"
     ]
    }
   ],
   "source": [
    "print_metrics(y_train, y_test, y_train_pred, y_test_pred)\n",
    "\n"
   ]
  },
  {
   "cell_type": "code",
   "execution_count": 65,
   "id": "a9905584-d9ca-4e2b-8779-e0d26e2669ce",
   "metadata": {},
   "outputs": [
    {
     "name": "stdout",
     "output_type": "stream",
     "text": [
      "              precision    recall  f1-score   support\n",
      "\n",
      "           A       0.97      0.96      0.97      2279\n",
      "           B       0.91      0.91      0.91      2054\n",
      "           C       0.96      0.97      0.97      3628\n",
      "           D       0.73      0.42      0.54        26\n",
      "           E       1.00      1.00      1.00         8\n",
      "           F       1.00      0.50      0.67         2\n",
      "           G       1.00      1.00      1.00         3\n",
      "\n",
      "    accuracy                           0.95      8000\n",
      "   macro avg       0.94      0.82      0.86      8000\n",
      "weighted avg       0.95      0.95      0.95      8000\n",
      "\n"
     ]
    }
   ],
   "source": [
    "print(classification_report(y_train, y_train_pred))\n",
    "\n"
   ]
  },
  {
   "cell_type": "code",
   "execution_count": 66,
   "id": "7928685b-520a-4034-aadf-8b0b8ea08091",
   "metadata": {},
   "outputs": [
    {
     "name": "stdout",
     "output_type": "stream",
     "text": [
      "              precision    recall  f1-score   support\n",
      "\n",
      "           A       0.98      0.96      0.97       570\n",
      "           B       0.92      0.91      0.92       514\n",
      "           C       0.96      0.98      0.97       907\n",
      "           D       1.00      0.29      0.44         7\n",
      "           E       1.00      1.00      1.00         2\n",
      "\n",
      "    accuracy                           0.95      2000\n",
      "   macro avg       0.97      0.83      0.86      2000\n",
      "weighted avg       0.95      0.95      0.95      2000\n",
      "\n"
     ]
    }
   ],
   "source": [
    "print(classification_report(y_test, y_test_pred))\n",
    "\n"
   ]
  },
  {
   "cell_type": "markdown",
   "id": "43fa0725-e226-433e-9f9d-8921a97e847b",
   "metadata": {},
   "source": [
    "**SVM**\n",
    "\n"
   ]
  },
  {
   "cell_type": "code",
   "execution_count": 67,
   "id": "9a3b266a-b4ee-4f9b-a69f-80a84e3d5e6a",
   "metadata": {},
   "outputs": [],
   "source": [
    "svm = SVC()\n",
    "\n",
    "svm.fit(X_train, y_train)\n",
    "\n",
    "y_train_pred = svm.predict(X_train)\n",
    "\n",
    "y_test_pred = svm.predict(X_test)\n",
    "\n"
   ]
  },
  {
   "cell_type": "code",
   "execution_count": 68,
   "id": "9e227274-f599-40c4-b2b4-5cc92f2e9c58",
   "metadata": {},
   "outputs": [
    {
     "name": "stdout",
     "output_type": "stream",
     "text": [
      "Train dataset\n",
      "-------------\n",
      "accuracy 0.9545\n",
      "precision [0.97792793 0.91162344 0.96518901 1.         0.72727273 1.\n",
      " 1.        ]\n",
      "recall [0.95261079 0.92405063 0.97822492 0.23076923 1.         0.5\n",
      " 1.        ]\n",
      "F-score [0.96510336 0.91779497 0.97166324 0.375      0.84210526 0.66666667\n",
      " 1.        ]\n",
      "-------------\n",
      "-------------\n",
      "Test dataset\n",
      "-------------\n",
      "accuracy 0.9535\n",
      "precision [0.97822142 0.91554702 0.96       1.         1.        ]\n",
      "recall [0.94561404 0.92801556 0.97905182 0.14285714 1.        ]\n",
      "F-score [0.96164139 0.92173913 0.96943231 0.25       1.        ]\n"
     ]
    }
   ],
   "source": [
    "print_metrics(y_train, y_test, y_train_pred, y_test_pred)\n",
    "\n"
   ]
  },
  {
   "cell_type": "code",
   "execution_count": 69,
   "id": "0e81c697-f9a5-489e-8f1e-a8be29fb3588",
   "metadata": {},
   "outputs": [
    {
     "name": "stdout",
     "output_type": "stream",
     "text": [
      "              precision    recall  f1-score   support\n",
      "\n",
      "           A       0.98      0.95      0.97      2279\n",
      "           B       0.91      0.92      0.92      2054\n",
      "           C       0.97      0.98      0.97      3628\n",
      "           D       1.00      0.23      0.38        26\n",
      "           E       0.73      1.00      0.84         8\n",
      "           F       1.00      0.50      0.67         2\n",
      "           G       1.00      1.00      1.00         3\n",
      "\n",
      "    accuracy                           0.95      8000\n",
      "   macro avg       0.94      0.80      0.82      8000\n",
      "weighted avg       0.95      0.95      0.95      8000\n",
      "\n"
     ]
    }
   ],
   "source": [
    "print(classification_report(y_train, y_train_pred))\n",
    "\n"
   ]
  },
  {
   "cell_type": "code",
   "execution_count": 70,
   "id": "eae06de6-57fd-41cc-927c-edc43526e065",
   "metadata": {},
   "outputs": [
    {
     "name": "stdout",
     "output_type": "stream",
     "text": [
      "              precision    recall  f1-score   support\n",
      "\n",
      "           A       0.98      0.95      0.96       570\n",
      "           B       0.92      0.93      0.92       514\n",
      "           C       0.96      0.98      0.97       907\n",
      "           D       1.00      0.14      0.25         7\n",
      "           E       1.00      1.00      1.00         2\n",
      "\n",
      "    accuracy                           0.95      2000\n",
      "   macro avg       0.97      0.80      0.82      2000\n",
      "weighted avg       0.95      0.95      0.95      2000\n",
      "\n"
     ]
    }
   ],
   "source": [
    "print(classification_report(y_test, y_test_pred))\n",
    "\n"
   ]
  },
  {
   "cell_type": "markdown",
   "id": "c2c62152-6b56-4774-9db5-a04379801e2e",
   "metadata": {},
   "source": [
    "**Random forest**\n",
    "\n"
   ]
  },
  {
   "cell_type": "code",
   "execution_count": 71,
   "id": "aebf48a6-20b6-40af-a87f-40ed45498549",
   "metadata": {},
   "outputs": [],
   "source": [
    "rf = RandomForestClassifier()\n",
    "\n",
    "rf.fit(X_train, y_train)\n",
    "\n",
    "y_train_pred = rf.predict(X_train)\n",
    "\n",
    "y_test_pred = rf.predict(X_test)\n",
    "\n"
   ]
  },
  {
   "cell_type": "code",
   "execution_count": 72,
   "id": "cae003f9-271c-418d-959b-9aea8791032f",
   "metadata": {},
   "outputs": [
    {
     "name": "stdout",
     "output_type": "stream",
     "text": [
      "Train dataset\n",
      "-------------\n",
      "accuracy 1.0\n",
      "precision [1. 1. 1. 1. 1. 1. 1.]\n",
      "recall [1. 1. 1. 1. 1. 1. 1.]\n",
      "F-score [1. 1. 1. 1. 1. 1. 1.]\n",
      "-------------\n",
      "-------------\n",
      "Test dataset\n",
      "-------------\n",
      "accuracy 0.9505\n",
      "precision [0.97678571 0.89453861 0.96677741 1.         1.        ]\n",
      "recall [0.95964912 0.92412451 0.96251378 0.57142857 1.        ]\n",
      "F-score [0.96814159 0.90909091 0.96464088 0.72727273 1.        ]\n"
     ]
    }
   ],
   "source": [
    "print_metrics(y_train, y_test, y_train_pred, y_test_pred)\n",
    "\n"
   ]
  },
  {
   "cell_type": "code",
   "execution_count": 73,
   "id": "1e00062a-1f4e-4eb3-938d-f1693205f136",
   "metadata": {},
   "outputs": [
    {
     "name": "stdout",
     "output_type": "stream",
     "text": [
      "              precision    recall  f1-score   support\n",
      "\n",
      "           A       1.00      1.00      1.00      2279\n",
      "           B       1.00      1.00      1.00      2054\n",
      "           C       1.00      1.00      1.00      3628\n",
      "           D       1.00      1.00      1.00        26\n",
      "           E       1.00      1.00      1.00         8\n",
      "           F       1.00      1.00      1.00         2\n",
      "           G       1.00      1.00      1.00         3\n",
      "\n",
      "    accuracy                           1.00      8000\n",
      "   macro avg       1.00      1.00      1.00      8000\n",
      "weighted avg       1.00      1.00      1.00      8000\n",
      "\n"
     ]
    }
   ],
   "source": [
    "print(classification_report(y_train, y_train_pred))\n",
    "\n"
   ]
  },
  {
   "cell_type": "code",
   "execution_count": 74,
   "id": "69307733-ee20-4515-9e85-0bdbfeecfc73",
   "metadata": {},
   "outputs": [
    {
     "name": "stdout",
     "output_type": "stream",
     "text": [
      "              precision    recall  f1-score   support\n",
      "\n",
      "           A       0.98      0.96      0.97       570\n",
      "           B       0.89      0.92      0.91       514\n",
      "           C       0.97      0.96      0.96       907\n",
      "           D       1.00      0.57      0.73         7\n",
      "           E       1.00      1.00      1.00         2\n",
      "\n",
      "    accuracy                           0.95      2000\n",
      "   macro avg       0.97      0.88      0.91      2000\n",
      "weighted avg       0.95      0.95      0.95      2000\n",
      "\n"
     ]
    }
   ],
   "source": [
    "print(classification_report(y_test, y_test_pred))\n",
    "\n"
   ]
  },
  {
   "cell_type": "markdown",
   "id": "39635c0d-5ebd-469d-a626-4c3d4de8b460",
   "metadata": {},
   "source": [
    "**xGB**\n",
    "\n"
   ]
  },
  {
   "cell_type": "code",
   "execution_count": 75,
   "id": "7bd3cf46-4d67-4a48-b43e-e17d68d0b405",
   "metadata": {},
   "outputs": [
    {
     "data": {
      "text/plain": [
       "array([1., 0., 2., ..., 1., 0., 2.])"
      ]
     },
     "execution_count": 75,
     "metadata": {},
     "output_type": "execute_result"
    }
   ],
   "source": [
    "y_train_gb = np.zeros(len(y_train))\n",
    "y_train_gb[y_train=='A']=0\n",
    "y_train_gb[y_train=='B']=1\n",
    "y_train_gb[y_train=='C']=2\n",
    "y_train_gb[y_train=='D']=3\n",
    "y_train_gb[y_train=='E']=4\n",
    "y_train_gb[y_train=='F']=5\n",
    "y_train_gb[y_train=='G']=6\n",
    "y_train_gb\n",
    "\n"
   ]
  },
  {
   "cell_type": "code",
   "execution_count": 76,
   "id": "719b7b16-230c-4ba9-a547-6872a2254652",
   "metadata": {},
   "outputs": [
    {
     "data": {
      "text/plain": [
       "array([2., 2., 2., ..., 1., 0., 2.])"
      ]
     },
     "execution_count": 76,
     "metadata": {},
     "output_type": "execute_result"
    }
   ],
   "source": [
    "y_test_gb = np.zeros(len(y_test))\n",
    "y_test_gb[y_test=='A']=0\n",
    "y_test_gb[y_test=='B']=1\n",
    "y_test_gb[y_test=='C']=2\n",
    "y_test_gb[y_test=='D']=3\n",
    "y_test_gb[y_test=='E']=4\n",
    "y_test_gb[y_test=='F']=5\n",
    "y_test_gb[y_test=='G']=6\n",
    "y_test_gb\n",
    "\n"
   ]
  },
  {
   "cell_type": "code",
   "execution_count": 77,
   "id": "f661a4a3-22e8-4f71-a974-915a5897cddf",
   "metadata": {},
   "outputs": [],
   "source": [
    "GBC = xgb.XGBClassifier()\n",
    "\n",
    "GBC.fit(X_train, y_train_gb)\n",
    "\n",
    "y_train_pred = GBC.predict(X_train)\n",
    "\n",
    "y_test_pred = GBC.predict(X_test)\n",
    "\n"
   ]
  },
  {
   "cell_type": "code",
   "execution_count": 78,
   "id": "dbb0f57d-4fb8-4129-ad1c-8264ecb911fd",
   "metadata": {},
   "outputs": [],
   "source": [
    "array_dict = {0.: 'A', 1.: 'B', 2.: 'C', 3.: 'D', 4.: 'E', 5.: 'F', 6.:'G'}\n",
    "\n",
    "y_train_gb = [array_dict[i] for i in y_train_gb]\n",
    "\n",
    "y_test_gb = [array_dict[i] for i in y_test_gb]\n",
    "\n",
    "y_train_pred = [array_dict[i] for i in y_train_pred]\n",
    "\n",
    "y_test_pred = [array_dict[i] for i in y_test_pred]\n",
    "\n"
   ]
  },
  {
   "cell_type": "code",
   "execution_count": 79,
   "id": "cadef107-f55f-4f6f-8b64-eabaf799b8a5",
   "metadata": {},
   "outputs": [
    {
     "name": "stdout",
     "output_type": "stream",
     "text": [
      "Train dataset\n",
      "-------------\n",
      "accuracy 1.0\n",
      "precision [1. 1. 1. 1. 1. 1. 1.]\n",
      "recall [1. 1. 1. 1. 1. 1. 1.]\n",
      "F-score [1. 1. 1. 1. 1. 1. 1.]\n",
      "-------------\n",
      "-------------\n",
      "Test dataset\n",
      "-------------\n",
      "accuracy 0.959\n",
      "precision [0.97707231 0.92263056 0.969163   0.83333333 1.        ]\n",
      "recall [0.97192982 0.92801556 0.97023153 0.71428571 1.        ]\n",
      "F-score [0.97449428 0.92531523 0.96969697 0.76923077 1.        ]\n"
     ]
    }
   ],
   "source": [
    "print_metrics(y_train_gb, y_test_gb, y_train_pred, y_test_pred)\n",
    "\n"
   ]
  },
  {
   "cell_type": "code",
   "execution_count": 80,
   "id": "8f38be50-7e16-4ef0-bb3a-64db93e577ea",
   "metadata": {},
   "outputs": [
    {
     "name": "stdout",
     "output_type": "stream",
     "text": [
      "              precision    recall  f1-score   support\n",
      "\n",
      "           A       1.00      1.00      1.00      2279\n",
      "           B       1.00      1.00      1.00      2054\n",
      "           C       1.00      1.00      1.00      3628\n",
      "           D       1.00      1.00      1.00        26\n",
      "           E       1.00      1.00      1.00         8\n",
      "           F       1.00      1.00      1.00         2\n",
      "           G       1.00      1.00      1.00         3\n",
      "\n",
      "    accuracy                           1.00      8000\n",
      "   macro avg       1.00      1.00      1.00      8000\n",
      "weighted avg       1.00      1.00      1.00      8000\n",
      "\n"
     ]
    }
   ],
   "source": [
    "print(classification_report(y_train_gb, y_train_pred))\n",
    "\n"
   ]
  },
  {
   "cell_type": "code",
   "execution_count": 81,
   "id": "1367f831-b43b-41c3-862e-ae253ddf8cfe",
   "metadata": {},
   "outputs": [
    {
     "name": "stdout",
     "output_type": "stream",
     "text": [
      "              precision    recall  f1-score   support\n",
      "\n",
      "           A       0.98      0.97      0.97       570\n",
      "           B       0.92      0.93      0.93       514\n",
      "           C       0.97      0.97      0.97       907\n",
      "           D       0.83      0.71      0.77         7\n",
      "           E       1.00      1.00      1.00         2\n",
      "\n",
      "    accuracy                           0.96      2000\n",
      "   macro avg       0.94      0.92      0.93      2000\n",
      "weighted avg       0.96      0.96      0.96      2000\n",
      "\n"
     ]
    }
   ],
   "source": [
    "print(classification_report(y_test_gb, y_test_pred))\n",
    "\n"
   ]
  },
  {
   "cell_type": "markdown",
   "id": "86923e71-21f4-40a1-8e32-a7fc5e2fac35",
   "metadata": {},
   "source": [
    "## Hyperparameter optimization\n",
    "\n"
   ]
  },
  {
   "cell_type": "markdown",
   "id": "2f92c72b-23e3-4df2-b8a3-b5c7ad071925",
   "metadata": {},
   "source": [
    "**Random forest**\n",
    "\n"
   ]
  },
  {
   "cell_type": "code",
   "execution_count": 82,
   "id": "cf1ab793-9524-4c3d-bcaa-34016b367421",
   "metadata": {},
   "outputs": [
    {
     "data": {
      "text/html": [
       "<style>#sk-container-id-1 {color: black;}#sk-container-id-1 pre{padding: 0;}#sk-container-id-1 div.sk-toggleable {background-color: white;}#sk-container-id-1 label.sk-toggleable__label {cursor: pointer;display: block;width: 100%;margin-bottom: 0;padding: 0.3em;box-sizing: border-box;text-align: center;}#sk-container-id-1 label.sk-toggleable__label-arrow:before {content: \"▸\";float: left;margin-right: 0.25em;color: #696969;}#sk-container-id-1 label.sk-toggleable__label-arrow:hover:before {color: black;}#sk-container-id-1 div.sk-estimator:hover label.sk-toggleable__label-arrow:before {color: black;}#sk-container-id-1 div.sk-toggleable__content {max-height: 0;max-width: 0;overflow: hidden;text-align: left;background-color: #f0f8ff;}#sk-container-id-1 div.sk-toggleable__content pre {margin: 0.2em;color: black;border-radius: 0.25em;background-color: #f0f8ff;}#sk-container-id-1 input.sk-toggleable__control:checked~div.sk-toggleable__content {max-height: 200px;max-width: 100%;overflow: auto;}#sk-container-id-1 input.sk-toggleable__control:checked~label.sk-toggleable__label-arrow:before {content: \"▾\";}#sk-container-id-1 div.sk-estimator input.sk-toggleable__control:checked~label.sk-toggleable__label {background-color: #d4ebff;}#sk-container-id-1 div.sk-label input.sk-toggleable__control:checked~label.sk-toggleable__label {background-color: #d4ebff;}#sk-container-id-1 input.sk-hidden--visually {border: 0;clip: rect(1px 1px 1px 1px);clip: rect(1px, 1px, 1px, 1px);height: 1px;margin: -1px;overflow: hidden;padding: 0;position: absolute;width: 1px;}#sk-container-id-1 div.sk-estimator {font-family: monospace;background-color: #f0f8ff;border: 1px dotted black;border-radius: 0.25em;box-sizing: border-box;margin-bottom: 0.5em;}#sk-container-id-1 div.sk-estimator:hover {background-color: #d4ebff;}#sk-container-id-1 div.sk-parallel-item::after {content: \"\";width: 100%;border-bottom: 1px solid gray;flex-grow: 1;}#sk-container-id-1 div.sk-label:hover label.sk-toggleable__label {background-color: #d4ebff;}#sk-container-id-1 div.sk-serial::before {content: \"\";position: absolute;border-left: 1px solid gray;box-sizing: border-box;top: 0;bottom: 0;left: 50%;z-index: 0;}#sk-container-id-1 div.sk-serial {display: flex;flex-direction: column;align-items: center;background-color: white;padding-right: 0.2em;padding-left: 0.2em;position: relative;}#sk-container-id-1 div.sk-item {position: relative;z-index: 1;}#sk-container-id-1 div.sk-parallel {display: flex;align-items: stretch;justify-content: center;background-color: white;position: relative;}#sk-container-id-1 div.sk-item::before, #sk-container-id-1 div.sk-parallel-item::before {content: \"\";position: absolute;border-left: 1px solid gray;box-sizing: border-box;top: 0;bottom: 0;left: 50%;z-index: -1;}#sk-container-id-1 div.sk-parallel-item {display: flex;flex-direction: column;z-index: 1;position: relative;background-color: white;}#sk-container-id-1 div.sk-parallel-item:first-child::after {align-self: flex-end;width: 50%;}#sk-container-id-1 div.sk-parallel-item:last-child::after {align-self: flex-start;width: 50%;}#sk-container-id-1 div.sk-parallel-item:only-child::after {width: 0;}#sk-container-id-1 div.sk-dashed-wrapped {border: 1px dashed gray;margin: 0 0.4em 0.5em 0.4em;box-sizing: border-box;padding-bottom: 0.4em;background-color: white;}#sk-container-id-1 div.sk-label label {font-family: monospace;font-weight: bold;display: inline-block;line-height: 1.2em;}#sk-container-id-1 div.sk-label-container {text-align: center;}#sk-container-id-1 div.sk-container {/* jupyter's `normalize.less` sets `[hidden] { display: none; }` but bootstrap.min.css set `[hidden] { display: none !important; }` so we also need the `!important` here to be able to override the default hidden behavior on the sphinx rendered scikit-learn.org. See: https://github.com/scikit-learn/scikit-learn/issues/21755 */display: inline-block !important;position: relative;}#sk-container-id-1 div.sk-text-repr-fallback {display: none;}</style><div id=\"sk-container-id-1\" class=\"sk-top-container\"><div class=\"sk-text-repr-fallback\"><pre>GridSearchCV(cv=5, estimator=RandomForestClassifier(n_jobs=-1, random_state=0),\n",
       "             param_grid=[{&#x27;class_weight&#x27;: [&#x27;balanced&#x27;, &#x27;balanced_subsample&#x27;,\n",
       "                                           None],\n",
       "                          &#x27;criterion&#x27;: [&#x27;gini&#x27;, &#x27;entropy&#x27;],\n",
       "                          &#x27;max_depth&#x27;: [5, 10, 20, 30, None],\n",
       "                          &#x27;n_estimators&#x27;: [10, 30, 50]}],\n",
       "             scoring=&#x27;f1&#x27;)</pre><b>In a Jupyter environment, please rerun this cell to show the HTML representation or trust the notebook. <br />On GitHub, the HTML representation is unable to render, please try loading this page with nbviewer.org.</b></div><div class=\"sk-container\" hidden><div class=\"sk-item sk-dashed-wrapped\"><div class=\"sk-label-container\"><div class=\"sk-label sk-toggleable\"><input class=\"sk-toggleable__control sk-hidden--visually\" id=\"sk-estimator-id-1\" type=\"checkbox\" ><label for=\"sk-estimator-id-1\" class=\"sk-toggleable__label sk-toggleable__label-arrow\">GridSearchCV</label><div class=\"sk-toggleable__content\"><pre>GridSearchCV(cv=5, estimator=RandomForestClassifier(n_jobs=-1, random_state=0),\n",
       "             param_grid=[{&#x27;class_weight&#x27;: [&#x27;balanced&#x27;, &#x27;balanced_subsample&#x27;,\n",
       "                                           None],\n",
       "                          &#x27;criterion&#x27;: [&#x27;gini&#x27;, &#x27;entropy&#x27;],\n",
       "                          &#x27;max_depth&#x27;: [5, 10, 20, 30, None],\n",
       "                          &#x27;n_estimators&#x27;: [10, 30, 50]}],\n",
       "             scoring=&#x27;f1&#x27;)</pre></div></div></div><div class=\"sk-parallel\"><div class=\"sk-parallel-item\"><div class=\"sk-item\"><div class=\"sk-label-container\"><div class=\"sk-label sk-toggleable\"><input class=\"sk-toggleable__control sk-hidden--visually\" id=\"sk-estimator-id-2\" type=\"checkbox\" ><label for=\"sk-estimator-id-2\" class=\"sk-toggleable__label sk-toggleable__label-arrow\">estimator: RandomForestClassifier</label><div class=\"sk-toggleable__content\"><pre>RandomForestClassifier(n_jobs=-1, random_state=0)</pre></div></div></div><div class=\"sk-serial\"><div class=\"sk-item\"><div class=\"sk-estimator sk-toggleable\"><input class=\"sk-toggleable__control sk-hidden--visually\" id=\"sk-estimator-id-3\" type=\"checkbox\" ><label for=\"sk-estimator-id-3\" class=\"sk-toggleable__label sk-toggleable__label-arrow\">RandomForestClassifier</label><div class=\"sk-toggleable__content\"><pre>RandomForestClassifier(n_jobs=-1, random_state=0)</pre></div></div></div></div></div></div></div></div></div></div>"
      ],
      "text/plain": [
       "GridSearchCV(cv=5, estimator=RandomForestClassifier(n_jobs=-1, random_state=0),\n",
       "             param_grid=[{'class_weight': ['balanced', 'balanced_subsample',\n",
       "                                           None],\n",
       "                          'criterion': ['gini', 'entropy'],\n",
       "                          'max_depth': [5, 10, 20, 30, None],\n",
       "                          'n_estimators': [10, 30, 50]}],\n",
       "             scoring='f1')"
      ]
     },
     "execution_count": 82,
     "metadata": {},
     "output_type": "execute_result"
    }
   ],
   "source": [
    "tuned_parameters = [{'max_depth': [5, 10, 20, 30, None], 'n_estimators': [10, 30, 50], 'criterion':['gini', 'entropy'],\n",
    "                     'class_weight': ['balanced', 'balanced_subsample', None]}]\n",
    "\n",
    "clf = GridSearchCV(RandomForestClassifier(n_jobs=-1, random_state=0), tuned_parameters, cv=5, scoring='f1')\n",
    "clf.fit(X_train, y_train)\n",
    "\n"
   ]
  },
  {
   "cell_type": "code",
   "execution_count": 83,
   "id": "88af3bf9-3436-413e-b2a0-d99b76af46fd",
   "metadata": {},
   "outputs": [
    {
     "data": {
      "text/html": [
       "<style>#sk-container-id-2 {color: black;}#sk-container-id-2 pre{padding: 0;}#sk-container-id-2 div.sk-toggleable {background-color: white;}#sk-container-id-2 label.sk-toggleable__label {cursor: pointer;display: block;width: 100%;margin-bottom: 0;padding: 0.3em;box-sizing: border-box;text-align: center;}#sk-container-id-2 label.sk-toggleable__label-arrow:before {content: \"▸\";float: left;margin-right: 0.25em;color: #696969;}#sk-container-id-2 label.sk-toggleable__label-arrow:hover:before {color: black;}#sk-container-id-2 div.sk-estimator:hover label.sk-toggleable__label-arrow:before {color: black;}#sk-container-id-2 div.sk-toggleable__content {max-height: 0;max-width: 0;overflow: hidden;text-align: left;background-color: #f0f8ff;}#sk-container-id-2 div.sk-toggleable__content pre {margin: 0.2em;color: black;border-radius: 0.25em;background-color: #f0f8ff;}#sk-container-id-2 input.sk-toggleable__control:checked~div.sk-toggleable__content {max-height: 200px;max-width: 100%;overflow: auto;}#sk-container-id-2 input.sk-toggleable__control:checked~label.sk-toggleable__label-arrow:before {content: \"▾\";}#sk-container-id-2 div.sk-estimator input.sk-toggleable__control:checked~label.sk-toggleable__label {background-color: #d4ebff;}#sk-container-id-2 div.sk-label input.sk-toggleable__control:checked~label.sk-toggleable__label {background-color: #d4ebff;}#sk-container-id-2 input.sk-hidden--visually {border: 0;clip: rect(1px 1px 1px 1px);clip: rect(1px, 1px, 1px, 1px);height: 1px;margin: -1px;overflow: hidden;padding: 0;position: absolute;width: 1px;}#sk-container-id-2 div.sk-estimator {font-family: monospace;background-color: #f0f8ff;border: 1px dotted black;border-radius: 0.25em;box-sizing: border-box;margin-bottom: 0.5em;}#sk-container-id-2 div.sk-estimator:hover {background-color: #d4ebff;}#sk-container-id-2 div.sk-parallel-item::after {content: \"\";width: 100%;border-bottom: 1px solid gray;flex-grow: 1;}#sk-container-id-2 div.sk-label:hover label.sk-toggleable__label {background-color: #d4ebff;}#sk-container-id-2 div.sk-serial::before {content: \"\";position: absolute;border-left: 1px solid gray;box-sizing: border-box;top: 0;bottom: 0;left: 50%;z-index: 0;}#sk-container-id-2 div.sk-serial {display: flex;flex-direction: column;align-items: center;background-color: white;padding-right: 0.2em;padding-left: 0.2em;position: relative;}#sk-container-id-2 div.sk-item {position: relative;z-index: 1;}#sk-container-id-2 div.sk-parallel {display: flex;align-items: stretch;justify-content: center;background-color: white;position: relative;}#sk-container-id-2 div.sk-item::before, #sk-container-id-2 div.sk-parallel-item::before {content: \"\";position: absolute;border-left: 1px solid gray;box-sizing: border-box;top: 0;bottom: 0;left: 50%;z-index: -1;}#sk-container-id-2 div.sk-parallel-item {display: flex;flex-direction: column;z-index: 1;position: relative;background-color: white;}#sk-container-id-2 div.sk-parallel-item:first-child::after {align-self: flex-end;width: 50%;}#sk-container-id-2 div.sk-parallel-item:last-child::after {align-self: flex-start;width: 50%;}#sk-container-id-2 div.sk-parallel-item:only-child::after {width: 0;}#sk-container-id-2 div.sk-dashed-wrapped {border: 1px dashed gray;margin: 0 0.4em 0.5em 0.4em;box-sizing: border-box;padding-bottom: 0.4em;background-color: white;}#sk-container-id-2 div.sk-label label {font-family: monospace;font-weight: bold;display: inline-block;line-height: 1.2em;}#sk-container-id-2 div.sk-label-container {text-align: center;}#sk-container-id-2 div.sk-container {/* jupyter's `normalize.less` sets `[hidden] { display: none; }` but bootstrap.min.css set `[hidden] { display: none !important; }` so we also need the `!important` here to be able to override the default hidden behavior on the sphinx rendered scikit-learn.org. See: https://github.com/scikit-learn/scikit-learn/issues/21755 */display: inline-block !important;position: relative;}#sk-container-id-2 div.sk-text-repr-fallback {display: none;}</style><div id=\"sk-container-id-2\" class=\"sk-top-container\"><div class=\"sk-text-repr-fallback\"><pre>RandomForestClassifier(class_weight=&#x27;balanced&#x27;, max_depth=5, n_estimators=10,\n",
       "                       n_jobs=-1, random_state=0)</pre><b>In a Jupyter environment, please rerun this cell to show the HTML representation or trust the notebook. <br />On GitHub, the HTML representation is unable to render, please try loading this page with nbviewer.org.</b></div><div class=\"sk-container\" hidden><div class=\"sk-item\"><div class=\"sk-estimator sk-toggleable\"><input class=\"sk-toggleable__control sk-hidden--visually\" id=\"sk-estimator-id-4\" type=\"checkbox\" checked><label for=\"sk-estimator-id-4\" class=\"sk-toggleable__label sk-toggleable__label-arrow\">RandomForestClassifier</label><div class=\"sk-toggleable__content\"><pre>RandomForestClassifier(class_weight=&#x27;balanced&#x27;, max_depth=5, n_estimators=10,\n",
       "                       n_jobs=-1, random_state=0)</pre></div></div></div></div></div>"
      ],
      "text/plain": [
       "RandomForestClassifier(class_weight='balanced', max_depth=5, n_estimators=10,\n",
       "                       n_jobs=-1, random_state=0)"
      ]
     },
     "execution_count": 83,
     "metadata": {},
     "output_type": "execute_result"
    }
   ],
   "source": [
    "clf.best_estimator_\n",
    "\n"
   ]
  },
  {
   "cell_type": "code",
   "execution_count": 84,
   "id": "b893aa0d-3826-43e2-98f4-2a8c3563868f",
   "metadata": {},
   "outputs": [
    {
     "data": {
      "text/plain": [
       "{'class_weight': 'balanced',\n",
       " 'criterion': 'gini',\n",
       " 'max_depth': 5,\n",
       " 'n_estimators': 10}"
      ]
     },
     "execution_count": 84,
     "metadata": {},
     "output_type": "execute_result"
    }
   ],
   "source": [
    "clf.best_params_\n",
    "\n"
   ]
  },
  {
   "cell_type": "code",
   "execution_count": 85,
   "id": "16d9651e-db53-4a2b-b524-e812a09e73ef",
   "metadata": {},
   "outputs": [
    {
     "data": {
      "text/html": [
       "<style>#sk-container-id-3 {color: black;}#sk-container-id-3 pre{padding: 0;}#sk-container-id-3 div.sk-toggleable {background-color: white;}#sk-container-id-3 label.sk-toggleable__label {cursor: pointer;display: block;width: 100%;margin-bottom: 0;padding: 0.3em;box-sizing: border-box;text-align: center;}#sk-container-id-3 label.sk-toggleable__label-arrow:before {content: \"▸\";float: left;margin-right: 0.25em;color: #696969;}#sk-container-id-3 label.sk-toggleable__label-arrow:hover:before {color: black;}#sk-container-id-3 div.sk-estimator:hover label.sk-toggleable__label-arrow:before {color: black;}#sk-container-id-3 div.sk-toggleable__content {max-height: 0;max-width: 0;overflow: hidden;text-align: left;background-color: #f0f8ff;}#sk-container-id-3 div.sk-toggleable__content pre {margin: 0.2em;color: black;border-radius: 0.25em;background-color: #f0f8ff;}#sk-container-id-3 input.sk-toggleable__control:checked~div.sk-toggleable__content {max-height: 200px;max-width: 100%;overflow: auto;}#sk-container-id-3 input.sk-toggleable__control:checked~label.sk-toggleable__label-arrow:before {content: \"▾\";}#sk-container-id-3 div.sk-estimator input.sk-toggleable__control:checked~label.sk-toggleable__label {background-color: #d4ebff;}#sk-container-id-3 div.sk-label input.sk-toggleable__control:checked~label.sk-toggleable__label {background-color: #d4ebff;}#sk-container-id-3 input.sk-hidden--visually {border: 0;clip: rect(1px 1px 1px 1px);clip: rect(1px, 1px, 1px, 1px);height: 1px;margin: -1px;overflow: hidden;padding: 0;position: absolute;width: 1px;}#sk-container-id-3 div.sk-estimator {font-family: monospace;background-color: #f0f8ff;border: 1px dotted black;border-radius: 0.25em;box-sizing: border-box;margin-bottom: 0.5em;}#sk-container-id-3 div.sk-estimator:hover {background-color: #d4ebff;}#sk-container-id-3 div.sk-parallel-item::after {content: \"\";width: 100%;border-bottom: 1px solid gray;flex-grow: 1;}#sk-container-id-3 div.sk-label:hover label.sk-toggleable__label {background-color: #d4ebff;}#sk-container-id-3 div.sk-serial::before {content: \"\";position: absolute;border-left: 1px solid gray;box-sizing: border-box;top: 0;bottom: 0;left: 50%;z-index: 0;}#sk-container-id-3 div.sk-serial {display: flex;flex-direction: column;align-items: center;background-color: white;padding-right: 0.2em;padding-left: 0.2em;position: relative;}#sk-container-id-3 div.sk-item {position: relative;z-index: 1;}#sk-container-id-3 div.sk-parallel {display: flex;align-items: stretch;justify-content: center;background-color: white;position: relative;}#sk-container-id-3 div.sk-item::before, #sk-container-id-3 div.sk-parallel-item::before {content: \"\";position: absolute;border-left: 1px solid gray;box-sizing: border-box;top: 0;bottom: 0;left: 50%;z-index: -1;}#sk-container-id-3 div.sk-parallel-item {display: flex;flex-direction: column;z-index: 1;position: relative;background-color: white;}#sk-container-id-3 div.sk-parallel-item:first-child::after {align-self: flex-end;width: 50%;}#sk-container-id-3 div.sk-parallel-item:last-child::after {align-self: flex-start;width: 50%;}#sk-container-id-3 div.sk-parallel-item:only-child::after {width: 0;}#sk-container-id-3 div.sk-dashed-wrapped {border: 1px dashed gray;margin: 0 0.4em 0.5em 0.4em;box-sizing: border-box;padding-bottom: 0.4em;background-color: white;}#sk-container-id-3 div.sk-label label {font-family: monospace;font-weight: bold;display: inline-block;line-height: 1.2em;}#sk-container-id-3 div.sk-label-container {text-align: center;}#sk-container-id-3 div.sk-container {/* jupyter's `normalize.less` sets `[hidden] { display: none; }` but bootstrap.min.css set `[hidden] { display: none !important; }` so we also need the `!important` here to be able to override the default hidden behavior on the sphinx rendered scikit-learn.org. See: https://github.com/scikit-learn/scikit-learn/issues/21755 */display: inline-block !important;position: relative;}#sk-container-id-3 div.sk-text-repr-fallback {display: none;}</style><div id=\"sk-container-id-3\" class=\"sk-top-container\"><div class=\"sk-text-repr-fallback\"><pre>RandomForestClassifier(class_weight=&#x27;balanced&#x27;, max_depth=5, n_estimators=10,\n",
       "                       n_jobs=-1, random_state=0)</pre><b>In a Jupyter environment, please rerun this cell to show the HTML representation or trust the notebook. <br />On GitHub, the HTML representation is unable to render, please try loading this page with nbviewer.org.</b></div><div class=\"sk-container\" hidden><div class=\"sk-item\"><div class=\"sk-estimator sk-toggleable\"><input class=\"sk-toggleable__control sk-hidden--visually\" id=\"sk-estimator-id-5\" type=\"checkbox\" checked><label for=\"sk-estimator-id-5\" class=\"sk-toggleable__label sk-toggleable__label-arrow\">RandomForestClassifier</label><div class=\"sk-toggleable__content\"><pre>RandomForestClassifier(class_weight=&#x27;balanced&#x27;, max_depth=5, n_estimators=10,\n",
       "                       n_jobs=-1, random_state=0)</pre></div></div></div></div></div>"
      ],
      "text/plain": [
       "RandomForestClassifier(class_weight='balanced', max_depth=5, n_estimators=10,\n",
       "                       n_jobs=-1, random_state=0)"
      ]
     },
     "execution_count": 85,
     "metadata": {},
     "output_type": "execute_result"
    }
   ],
   "source": [
    "rf = RandomForestClassifier(class_weight='balanced', max_depth=5, n_estimators=10, n_jobs=-1, random_state=0)\n",
    "\n",
    "rf.fit(X_train, y_train)\n",
    "\n"
   ]
  },
  {
   "cell_type": "code",
   "execution_count": 87,
   "id": "841ef1b7-586f-4881-a253-765a5cf7f8c5",
   "metadata": {},
   "outputs": [
    {
     "data": {
      "text/plain": [
       "['../trained-models/rf_model.joblib']"
      ]
     },
     "execution_count": 87,
     "metadata": {},
     "output_type": "execute_result"
    }
   ],
   "source": [
    "joblibpath = os.path.join('..','trained-models','rf_model.joblib')\n",
    "joblib.dump(rf, joblibpath)\n",
    "\n"
   ]
  },
  {
   "cell_type": "code",
   "execution_count": 88,
   "id": "4fe6effd-2746-406b-abe2-03ccd64181c9",
   "metadata": {},
   "outputs": [],
   "source": [
    "y_train_pred = rf.predict(X_train)\n",
    "\n",
    "y_test_pred = rf.predict(X_test)\n",
    "\n"
   ]
  },
  {
   "cell_type": "code",
   "execution_count": 89,
   "id": "221d137f-4271-4571-85f7-0978b5009b68",
   "metadata": {},
   "outputs": [
    {
     "name": "stdout",
     "output_type": "stream",
     "text": [
      "Train dataset\n",
      "-------------\n",
      "accuracy 0.814375\n",
      "precision [0.93124135 0.69603045 0.82743363 0.1884058  0.8        1.\n",
      " 1.        ]\n",
      "recall [0.88547609 0.62317429 0.87624035 1.         1.         0.5\n",
      " 1.        ]\n",
      "F-score [0.90778228 0.65759055 0.85113788 0.31707317 0.88888889 0.66666667\n",
      " 1.        ]\n",
      "-------------\n",
      "-------------\n",
      "Test dataset\n",
      "-------------\n",
      "accuracy 0.7995\n",
      "precision [0.92407407 0.66255144 0.82795699 0.14285714 1.        ]\n",
      "recall [0.8754386  0.62645914 0.84895259 0.85714286 1.        ]\n",
      "F-score [0.8990991  0.644      0.83832335 0.24489796 1.        ]\n"
     ]
    }
   ],
   "source": [
    "print_metrics(y_train, y_test, y_train_pred, y_test_pred)\n",
    "\n"
   ]
  },
  {
   "cell_type": "code",
   "execution_count": 90,
   "id": "87f16d41-366b-48a6-b91f-db8caccf1cac",
   "metadata": {},
   "outputs": [
    {
     "name": "stdout",
     "output_type": "stream",
     "text": [
      "              precision    recall  f1-score   support\n",
      "\n",
      "           A       0.93      0.89      0.91      2279\n",
      "           B       0.70      0.62      0.66      2054\n",
      "           C       0.83      0.88      0.85      3628\n",
      "           D       0.19      1.00      0.32        26\n",
      "           E       0.80      1.00      0.89         8\n",
      "           F       1.00      0.50      0.67         2\n",
      "           G       1.00      1.00      1.00         3\n",
      "\n",
      "    accuracy                           0.81      8000\n",
      "   macro avg       0.78      0.84      0.76      8000\n",
      "weighted avg       0.82      0.81      0.82      8000\n",
      "\n"
     ]
    }
   ],
   "source": [
    "print(classification_report(y_train, y_train_pred))\n",
    "\n"
   ]
  },
  {
   "cell_type": "code",
   "execution_count": 91,
   "id": "d6acbd70-d77a-4ceb-86e2-f8b92d532430",
   "metadata": {},
   "outputs": [
    {
     "name": "stdout",
     "output_type": "stream",
     "text": [
      "              precision    recall  f1-score   support\n",
      "\n",
      "           A       0.92      0.88      0.90       570\n",
      "           B       0.66      0.63      0.64       514\n",
      "           C       0.83      0.85      0.84       907\n",
      "           D       0.14      0.86      0.24         7\n",
      "           E       1.00      1.00      1.00         2\n",
      "\n",
      "    accuracy                           0.80      2000\n",
      "   macro avg       0.71      0.84      0.73      2000\n",
      "weighted avg       0.81      0.80      0.80      2000\n",
      "\n"
     ]
    }
   ],
   "source": [
    "print(classification_report(y_test, y_test_pred))\n",
    "\n"
   ]
  },
  {
   "cell_type": "markdown",
   "id": "d07a8cb5-0aef-416b-9a6d-c626be9558a1",
   "metadata": {},
   "source": [
    "**xGB**\n",
    "\n"
   ]
  },
  {
   "cell_type": "code",
   "execution_count": 92,
   "id": "c283ba70-e553-43e9-97f3-34d03128ec60",
   "metadata": {},
   "outputs": [
    {
     "data": {
      "text/plain": [
       "array([1., 0., 2., ..., 1., 0., 2.])"
      ]
     },
     "execution_count": 92,
     "metadata": {},
     "output_type": "execute_result"
    }
   ],
   "source": [
    "y_train_gb_grid = np.zeros(len(y_train))\n",
    "y_train_gb_grid[y_train=='A']=0\n",
    "y_train_gb_grid[y_train=='B']=1\n",
    "y_train_gb_grid[y_train=='C']=2\n",
    "y_train_gb_grid[y_train=='D']=3\n",
    "y_train_gb_grid[y_train=='E']=4\n",
    "y_train_gb_grid[y_train=='F']=5\n",
    "y_train_gb_grid[y_train=='G']=6\n",
    "y_train_gb_grid\n",
    "\n"
   ]
  },
  {
   "cell_type": "code",
   "execution_count": 93,
   "id": "2c64f128-aadc-4444-a83d-24252b12e6e8",
   "metadata": {},
   "outputs": [
    {
     "data": {
      "text/plain": [
       "array([1., 0., 2., ..., 1., 0., 2.])"
      ]
     },
     "execution_count": 93,
     "metadata": {},
     "output_type": "execute_result"
    }
   ],
   "source": [
    "y_train_gb = np.zeros(len(y_train))\n",
    "y_train_gb[y_train=='A']=0\n",
    "y_train_gb[y_train=='B']=1\n",
    "y_train_gb[y_train=='C']=2\n",
    "y_train_gb[y_train=='D']=3\n",
    "y_train_gb[y_train=='E']=4\n",
    "y_train_gb[y_train=='F']=5\n",
    "y_train_gb[y_train=='G']=6\n",
    "y_train_gb\n",
    "\n"
   ]
  },
  {
   "cell_type": "code",
   "execution_count": 94,
   "id": "e2e2b414-6f12-4c5a-a3be-8c9f82a549bb",
   "metadata": {},
   "outputs": [
    {
     "data": {
      "text/plain": [
       "array([2., 2., 2., ..., 1., 0., 2.])"
      ]
     },
     "execution_count": 94,
     "metadata": {},
     "output_type": "execute_result"
    }
   ],
   "source": [
    "y_test_gb = np.zeros(len(y_test))\n",
    "y_test_gb[y_test=='A']=0\n",
    "y_test_gb[y_test=='B']=1\n",
    "y_test_gb[y_test=='C']=2\n",
    "y_test_gb[y_test=='D']=3\n",
    "y_test_gb[y_test=='E']=4\n",
    "y_test_gb[y_test=='F']=5\n",
    "y_test_gb[y_test=='G']=6\n",
    "y_test_gb\n",
    "\n"
   ]
  },
  {
   "cell_type": "code",
   "execution_count": 95,
   "id": "8f8b7380-4cf5-46e1-98ac-2aa0fc1b7e42",
   "metadata": {},
   "outputs": [
    {
     "data": {
      "text/html": [
       "<style>#sk-container-id-4 {color: black;}#sk-container-id-4 pre{padding: 0;}#sk-container-id-4 div.sk-toggleable {background-color: white;}#sk-container-id-4 label.sk-toggleable__label {cursor: pointer;display: block;width: 100%;margin-bottom: 0;padding: 0.3em;box-sizing: border-box;text-align: center;}#sk-container-id-4 label.sk-toggleable__label-arrow:before {content: \"▸\";float: left;margin-right: 0.25em;color: #696969;}#sk-container-id-4 label.sk-toggleable__label-arrow:hover:before {color: black;}#sk-container-id-4 div.sk-estimator:hover label.sk-toggleable__label-arrow:before {color: black;}#sk-container-id-4 div.sk-toggleable__content {max-height: 0;max-width: 0;overflow: hidden;text-align: left;background-color: #f0f8ff;}#sk-container-id-4 div.sk-toggleable__content pre {margin: 0.2em;color: black;border-radius: 0.25em;background-color: #f0f8ff;}#sk-container-id-4 input.sk-toggleable__control:checked~div.sk-toggleable__content {max-height: 200px;max-width: 100%;overflow: auto;}#sk-container-id-4 input.sk-toggleable__control:checked~label.sk-toggleable__label-arrow:before {content: \"▾\";}#sk-container-id-4 div.sk-estimator input.sk-toggleable__control:checked~label.sk-toggleable__label {background-color: #d4ebff;}#sk-container-id-4 div.sk-label input.sk-toggleable__control:checked~label.sk-toggleable__label {background-color: #d4ebff;}#sk-container-id-4 input.sk-hidden--visually {border: 0;clip: rect(1px 1px 1px 1px);clip: rect(1px, 1px, 1px, 1px);height: 1px;margin: -1px;overflow: hidden;padding: 0;position: absolute;width: 1px;}#sk-container-id-4 div.sk-estimator {font-family: monospace;background-color: #f0f8ff;border: 1px dotted black;border-radius: 0.25em;box-sizing: border-box;margin-bottom: 0.5em;}#sk-container-id-4 div.sk-estimator:hover {background-color: #d4ebff;}#sk-container-id-4 div.sk-parallel-item::after {content: \"\";width: 100%;border-bottom: 1px solid gray;flex-grow: 1;}#sk-container-id-4 div.sk-label:hover label.sk-toggleable__label {background-color: #d4ebff;}#sk-container-id-4 div.sk-serial::before {content: \"\";position: absolute;border-left: 1px solid gray;box-sizing: border-box;top: 0;bottom: 0;left: 50%;z-index: 0;}#sk-container-id-4 div.sk-serial {display: flex;flex-direction: column;align-items: center;background-color: white;padding-right: 0.2em;padding-left: 0.2em;position: relative;}#sk-container-id-4 div.sk-item {position: relative;z-index: 1;}#sk-container-id-4 div.sk-parallel {display: flex;align-items: stretch;justify-content: center;background-color: white;position: relative;}#sk-container-id-4 div.sk-item::before, #sk-container-id-4 div.sk-parallel-item::before {content: \"\";position: absolute;border-left: 1px solid gray;box-sizing: border-box;top: 0;bottom: 0;left: 50%;z-index: -1;}#sk-container-id-4 div.sk-parallel-item {display: flex;flex-direction: column;z-index: 1;position: relative;background-color: white;}#sk-container-id-4 div.sk-parallel-item:first-child::after {align-self: flex-end;width: 50%;}#sk-container-id-4 div.sk-parallel-item:last-child::after {align-self: flex-start;width: 50%;}#sk-container-id-4 div.sk-parallel-item:only-child::after {width: 0;}#sk-container-id-4 div.sk-dashed-wrapped {border: 1px dashed gray;margin: 0 0.4em 0.5em 0.4em;box-sizing: border-box;padding-bottom: 0.4em;background-color: white;}#sk-container-id-4 div.sk-label label {font-family: monospace;font-weight: bold;display: inline-block;line-height: 1.2em;}#sk-container-id-4 div.sk-label-container {text-align: center;}#sk-container-id-4 div.sk-container {/* jupyter's `normalize.less` sets `[hidden] { display: none; }` but bootstrap.min.css set `[hidden] { display: none !important; }` so we also need the `!important` here to be able to override the default hidden behavior on the sphinx rendered scikit-learn.org. See: https://github.com/scikit-learn/scikit-learn/issues/21755 */display: inline-block !important;position: relative;}#sk-container-id-4 div.sk-text-repr-fallback {display: none;}</style><div id=\"sk-container-id-4\" class=\"sk-top-container\"><div class=\"sk-text-repr-fallback\"><pre>GridSearchCV(cv=5,\n",
       "             estimator=XGBClassifier(base_score=None, booster=None,\n",
       "                                     callbacks=None, colsample_bylevel=None,\n",
       "                                     colsample_bynode=None,\n",
       "                                     colsample_bytree=None, device=None,\n",
       "                                     early_stopping_rounds=None,\n",
       "                                     enable_categorical=False, eval_metric=None,\n",
       "                                     feature_types=None, gamma=None,\n",
       "                                     grow_policy=None, importance_type=None,\n",
       "                                     interaction_constraints=None,\n",
       "                                     learning_rate=None,...\n",
       "                                     max_cat_to_onehot=None,\n",
       "                                     max_delta_step=None, max_depth=None,\n",
       "                                     max_leaves=None, min_child_weight=None,\n",
       "                                     missing=nan, monotone_constraints=None,\n",
       "                                     multi_strategy=None, n_estimators=None,\n",
       "                                     n_jobs=None, num_parallel_tree=None,\n",
       "                                     random_state=None, ...),\n",
       "             param_grid=[{&#x27;learning_rate&#x27;: [0.01, 0.1],\n",
       "                          &#x27;max_depth&#x27;: [10, 100, 1000],\n",
       "                          &#x27;n_estimators&#x27;: [10, 30, 100],\n",
       "                          &#x27;subsample&#x27;: [1, 0.9, 0.8]}],\n",
       "             scoring=&#x27;f1&#x27;)</pre><b>In a Jupyter environment, please rerun this cell to show the HTML representation or trust the notebook. <br />On GitHub, the HTML representation is unable to render, please try loading this page with nbviewer.org.</b></div><div class=\"sk-container\" hidden><div class=\"sk-item sk-dashed-wrapped\"><div class=\"sk-label-container\"><div class=\"sk-label sk-toggleable\"><input class=\"sk-toggleable__control sk-hidden--visually\" id=\"sk-estimator-id-6\" type=\"checkbox\" ><label for=\"sk-estimator-id-6\" class=\"sk-toggleable__label sk-toggleable__label-arrow\">GridSearchCV</label><div class=\"sk-toggleable__content\"><pre>GridSearchCV(cv=5,\n",
       "             estimator=XGBClassifier(base_score=None, booster=None,\n",
       "                                     callbacks=None, colsample_bylevel=None,\n",
       "                                     colsample_bynode=None,\n",
       "                                     colsample_bytree=None, device=None,\n",
       "                                     early_stopping_rounds=None,\n",
       "                                     enable_categorical=False, eval_metric=None,\n",
       "                                     feature_types=None, gamma=None,\n",
       "                                     grow_policy=None, importance_type=None,\n",
       "                                     interaction_constraints=None,\n",
       "                                     learning_rate=None,...\n",
       "                                     max_cat_to_onehot=None,\n",
       "                                     max_delta_step=None, max_depth=None,\n",
       "                                     max_leaves=None, min_child_weight=None,\n",
       "                                     missing=nan, monotone_constraints=None,\n",
       "                                     multi_strategy=None, n_estimators=None,\n",
       "                                     n_jobs=None, num_parallel_tree=None,\n",
       "                                     random_state=None, ...),\n",
       "             param_grid=[{&#x27;learning_rate&#x27;: [0.01, 0.1],\n",
       "                          &#x27;max_depth&#x27;: [10, 100, 1000],\n",
       "                          &#x27;n_estimators&#x27;: [10, 30, 100],\n",
       "                          &#x27;subsample&#x27;: [1, 0.9, 0.8]}],\n",
       "             scoring=&#x27;f1&#x27;)</pre></div></div></div><div class=\"sk-parallel\"><div class=\"sk-parallel-item\"><div class=\"sk-item\"><div class=\"sk-label-container\"><div class=\"sk-label sk-toggleable\"><input class=\"sk-toggleable__control sk-hidden--visually\" id=\"sk-estimator-id-7\" type=\"checkbox\" ><label for=\"sk-estimator-id-7\" class=\"sk-toggleable__label sk-toggleable__label-arrow\">estimator: XGBClassifier</label><div class=\"sk-toggleable__content\"><pre>XGBClassifier(base_score=None, booster=None, callbacks=None,\n",
       "              colsample_bylevel=None, colsample_bynode=None,\n",
       "              colsample_bytree=None, device=None, early_stopping_rounds=None,\n",
       "              enable_categorical=False, eval_metric=None, feature_types=None,\n",
       "              gamma=None, grow_policy=None, importance_type=None,\n",
       "              interaction_constraints=None, learning_rate=None, max_bin=None,\n",
       "              max_cat_threshold=None, max_cat_to_onehot=None,\n",
       "              max_delta_step=None, max_depth=None, max_leaves=None,\n",
       "              min_child_weight=None, missing=nan, monotone_constraints=None,\n",
       "              multi_strategy=None, n_estimators=None, n_jobs=None,\n",
       "              num_parallel_tree=None, random_state=None, ...)</pre></div></div></div><div class=\"sk-serial\"><div class=\"sk-item\"><div class=\"sk-estimator sk-toggleable\"><input class=\"sk-toggleable__control sk-hidden--visually\" id=\"sk-estimator-id-8\" type=\"checkbox\" ><label for=\"sk-estimator-id-8\" class=\"sk-toggleable__label sk-toggleable__label-arrow\">XGBClassifier</label><div class=\"sk-toggleable__content\"><pre>XGBClassifier(base_score=None, booster=None, callbacks=None,\n",
       "              colsample_bylevel=None, colsample_bynode=None,\n",
       "              colsample_bytree=None, device=None, early_stopping_rounds=None,\n",
       "              enable_categorical=False, eval_metric=None, feature_types=None,\n",
       "              gamma=None, grow_policy=None, importance_type=None,\n",
       "              interaction_constraints=None, learning_rate=None, max_bin=None,\n",
       "              max_cat_threshold=None, max_cat_to_onehot=None,\n",
       "              max_delta_step=None, max_depth=None, max_leaves=None,\n",
       "              min_child_weight=None, missing=nan, monotone_constraints=None,\n",
       "              multi_strategy=None, n_estimators=None, n_jobs=None,\n",
       "              num_parallel_tree=None, random_state=None, ...)</pre></div></div></div></div></div></div></div></div></div></div>"
      ],
      "text/plain": [
       "GridSearchCV(cv=5,\n",
       "             estimator=XGBClassifier(base_score=None, booster=None,\n",
       "                                     callbacks=None, colsample_bylevel=None,\n",
       "                                     colsample_bynode=None,\n",
       "                                     colsample_bytree=None, device=None,\n",
       "                                     early_stopping_rounds=None,\n",
       "                                     enable_categorical=False, eval_metric=None,\n",
       "                                     feature_types=None, gamma=None,\n",
       "                                     grow_policy=None, importance_type=None,\n",
       "                                     interaction_constraints=None,\n",
       "                                     learning_rate=None,...\n",
       "                                     max_cat_to_onehot=None,\n",
       "                                     max_delta_step=None, max_depth=None,\n",
       "                                     max_leaves=None, min_child_weight=None,\n",
       "                                     missing=nan, monotone_constraints=None,\n",
       "                                     multi_strategy=None, n_estimators=None,\n",
       "                                     n_jobs=None, num_parallel_tree=None,\n",
       "                                     random_state=None, ...),\n",
       "             param_grid=[{'learning_rate': [0.01, 0.1],\n",
       "                          'max_depth': [10, 100, 1000],\n",
       "                          'n_estimators': [10, 30, 100],\n",
       "                          'subsample': [1, 0.9, 0.8]}],\n",
       "             scoring='f1')"
      ]
     },
     "execution_count": 95,
     "metadata": {},
     "output_type": "execute_result"
    }
   ],
   "source": [
    "tuned_parameters = [{'max_depth': [10, 100, 1000], 'n_estimators': [10, 30, 100], 'learning_rate': [0.01, 0.1],\n",
    "                     'subsample':[1, 0.9, 0.8]}]\n",
    "\n",
    "clf = GridSearchCV(xgb.XGBClassifier(), tuned_parameters, cv=5, scoring='f1')\n",
    "clf.fit(X_train, y_train_gb_grid)\n",
    "\n"
   ]
  },
  {
   "cell_type": "code",
   "execution_count": 96,
   "id": "b97e9073-cf78-44fa-abe1-2c60ce39d7f5",
   "metadata": {},
   "outputs": [
    {
     "data": {
      "text/html": [
       "<style>#sk-container-id-5 {color: black;}#sk-container-id-5 pre{padding: 0;}#sk-container-id-5 div.sk-toggleable {background-color: white;}#sk-container-id-5 label.sk-toggleable__label {cursor: pointer;display: block;width: 100%;margin-bottom: 0;padding: 0.3em;box-sizing: border-box;text-align: center;}#sk-container-id-5 label.sk-toggleable__label-arrow:before {content: \"▸\";float: left;margin-right: 0.25em;color: #696969;}#sk-container-id-5 label.sk-toggleable__label-arrow:hover:before {color: black;}#sk-container-id-5 div.sk-estimator:hover label.sk-toggleable__label-arrow:before {color: black;}#sk-container-id-5 div.sk-toggleable__content {max-height: 0;max-width: 0;overflow: hidden;text-align: left;background-color: #f0f8ff;}#sk-container-id-5 div.sk-toggleable__content pre {margin: 0.2em;color: black;border-radius: 0.25em;background-color: #f0f8ff;}#sk-container-id-5 input.sk-toggleable__control:checked~div.sk-toggleable__content {max-height: 200px;max-width: 100%;overflow: auto;}#sk-container-id-5 input.sk-toggleable__control:checked~label.sk-toggleable__label-arrow:before {content: \"▾\";}#sk-container-id-5 div.sk-estimator input.sk-toggleable__control:checked~label.sk-toggleable__label {background-color: #d4ebff;}#sk-container-id-5 div.sk-label input.sk-toggleable__control:checked~label.sk-toggleable__label {background-color: #d4ebff;}#sk-container-id-5 input.sk-hidden--visually {border: 0;clip: rect(1px 1px 1px 1px);clip: rect(1px, 1px, 1px, 1px);height: 1px;margin: -1px;overflow: hidden;padding: 0;position: absolute;width: 1px;}#sk-container-id-5 div.sk-estimator {font-family: monospace;background-color: #f0f8ff;border: 1px dotted black;border-radius: 0.25em;box-sizing: border-box;margin-bottom: 0.5em;}#sk-container-id-5 div.sk-estimator:hover {background-color: #d4ebff;}#sk-container-id-5 div.sk-parallel-item::after {content: \"\";width: 100%;border-bottom: 1px solid gray;flex-grow: 1;}#sk-container-id-5 div.sk-label:hover label.sk-toggleable__label {background-color: #d4ebff;}#sk-container-id-5 div.sk-serial::before {content: \"\";position: absolute;border-left: 1px solid gray;box-sizing: border-box;top: 0;bottom: 0;left: 50%;z-index: 0;}#sk-container-id-5 div.sk-serial {display: flex;flex-direction: column;align-items: center;background-color: white;padding-right: 0.2em;padding-left: 0.2em;position: relative;}#sk-container-id-5 div.sk-item {position: relative;z-index: 1;}#sk-container-id-5 div.sk-parallel {display: flex;align-items: stretch;justify-content: center;background-color: white;position: relative;}#sk-container-id-5 div.sk-item::before, #sk-container-id-5 div.sk-parallel-item::before {content: \"\";position: absolute;border-left: 1px solid gray;box-sizing: border-box;top: 0;bottom: 0;left: 50%;z-index: -1;}#sk-container-id-5 div.sk-parallel-item {display: flex;flex-direction: column;z-index: 1;position: relative;background-color: white;}#sk-container-id-5 div.sk-parallel-item:first-child::after {align-self: flex-end;width: 50%;}#sk-container-id-5 div.sk-parallel-item:last-child::after {align-self: flex-start;width: 50%;}#sk-container-id-5 div.sk-parallel-item:only-child::after {width: 0;}#sk-container-id-5 div.sk-dashed-wrapped {border: 1px dashed gray;margin: 0 0.4em 0.5em 0.4em;box-sizing: border-box;padding-bottom: 0.4em;background-color: white;}#sk-container-id-5 div.sk-label label {font-family: monospace;font-weight: bold;display: inline-block;line-height: 1.2em;}#sk-container-id-5 div.sk-label-container {text-align: center;}#sk-container-id-5 div.sk-container {/* jupyter's `normalize.less` sets `[hidden] { display: none; }` but bootstrap.min.css set `[hidden] { display: none !important; }` so we also need the `!important` here to be able to override the default hidden behavior on the sphinx rendered scikit-learn.org. See: https://github.com/scikit-learn/scikit-learn/issues/21755 */display: inline-block !important;position: relative;}#sk-container-id-5 div.sk-text-repr-fallback {display: none;}</style><div id=\"sk-container-id-5\" class=\"sk-top-container\"><div class=\"sk-text-repr-fallback\"><pre>XGBClassifier(base_score=None, booster=None, callbacks=None,\n",
       "              colsample_bylevel=None, colsample_bynode=None,\n",
       "              colsample_bytree=None, device=None, early_stopping_rounds=None,\n",
       "              enable_categorical=False, eval_metric=None, feature_types=None,\n",
       "              gamma=None, grow_policy=None, importance_type=None,\n",
       "              interaction_constraints=None, learning_rate=0.01, max_bin=None,\n",
       "              max_cat_threshold=None, max_cat_to_onehot=None,\n",
       "              max_delta_step=None, max_depth=10, max_leaves=None,\n",
       "              min_child_weight=None, missing=nan, monotone_constraints=None,\n",
       "              multi_strategy=None, n_estimators=10, n_jobs=None,\n",
       "              num_parallel_tree=None, objective=&#x27;multi:softprob&#x27;, ...)</pre><b>In a Jupyter environment, please rerun this cell to show the HTML representation or trust the notebook. <br />On GitHub, the HTML representation is unable to render, please try loading this page with nbviewer.org.</b></div><div class=\"sk-container\" hidden><div class=\"sk-item\"><div class=\"sk-estimator sk-toggleable\"><input class=\"sk-toggleable__control sk-hidden--visually\" id=\"sk-estimator-id-9\" type=\"checkbox\" checked><label for=\"sk-estimator-id-9\" class=\"sk-toggleable__label sk-toggleable__label-arrow\">XGBClassifier</label><div class=\"sk-toggleable__content\"><pre>XGBClassifier(base_score=None, booster=None, callbacks=None,\n",
       "              colsample_bylevel=None, colsample_bynode=None,\n",
       "              colsample_bytree=None, device=None, early_stopping_rounds=None,\n",
       "              enable_categorical=False, eval_metric=None, feature_types=None,\n",
       "              gamma=None, grow_policy=None, importance_type=None,\n",
       "              interaction_constraints=None, learning_rate=0.01, max_bin=None,\n",
       "              max_cat_threshold=None, max_cat_to_onehot=None,\n",
       "              max_delta_step=None, max_depth=10, max_leaves=None,\n",
       "              min_child_weight=None, missing=nan, monotone_constraints=None,\n",
       "              multi_strategy=None, n_estimators=10, n_jobs=None,\n",
       "              num_parallel_tree=None, objective=&#x27;multi:softprob&#x27;, ...)</pre></div></div></div></div></div>"
      ],
      "text/plain": [
       "XGBClassifier(base_score=None, booster=None, callbacks=None,\n",
       "              colsample_bylevel=None, colsample_bynode=None,\n",
       "              colsample_bytree=None, device=None, early_stopping_rounds=None,\n",
       "              enable_categorical=False, eval_metric=None, feature_types=None,\n",
       "              gamma=None, grow_policy=None, importance_type=None,\n",
       "              interaction_constraints=None, learning_rate=0.01, max_bin=None,\n",
       "              max_cat_threshold=None, max_cat_to_onehot=None,\n",
       "              max_delta_step=None, max_depth=10, max_leaves=None,\n",
       "              min_child_weight=None, missing=nan, monotone_constraints=None,\n",
       "              multi_strategy=None, n_estimators=10, n_jobs=None,\n",
       "              num_parallel_tree=None, objective='multi:softprob', ...)"
      ]
     },
     "execution_count": 96,
     "metadata": {},
     "output_type": "execute_result"
    }
   ],
   "source": [
    "clf.best_estimator_\n",
    "\n"
   ]
  },
  {
   "cell_type": "code",
   "execution_count": 97,
   "id": "a1a04ef4-65f7-46fe-90cb-5983253cfe91",
   "metadata": {},
   "outputs": [
    {
     "data": {
      "text/plain": [
       "{'learning_rate': 0.01, 'max_depth': 10, 'n_estimators': 10, 'subsample': 1}"
      ]
     },
     "execution_count": 97,
     "metadata": {},
     "output_type": "execute_result"
    }
   ],
   "source": [
    "clf.best_params_\n",
    "\n"
   ]
  },
  {
   "cell_type": "code",
   "execution_count": 98,
   "id": "5258fc0c-aa59-4ba8-8de4-58a9ab9ef67d",
   "metadata": {},
   "outputs": [
    {
     "data": {
      "text/html": [
       "<style>#sk-container-id-6 {color: black;}#sk-container-id-6 pre{padding: 0;}#sk-container-id-6 div.sk-toggleable {background-color: white;}#sk-container-id-6 label.sk-toggleable__label {cursor: pointer;display: block;width: 100%;margin-bottom: 0;padding: 0.3em;box-sizing: border-box;text-align: center;}#sk-container-id-6 label.sk-toggleable__label-arrow:before {content: \"▸\";float: left;margin-right: 0.25em;color: #696969;}#sk-container-id-6 label.sk-toggleable__label-arrow:hover:before {color: black;}#sk-container-id-6 div.sk-estimator:hover label.sk-toggleable__label-arrow:before {color: black;}#sk-container-id-6 div.sk-toggleable__content {max-height: 0;max-width: 0;overflow: hidden;text-align: left;background-color: #f0f8ff;}#sk-container-id-6 div.sk-toggleable__content pre {margin: 0.2em;color: black;border-radius: 0.25em;background-color: #f0f8ff;}#sk-container-id-6 input.sk-toggleable__control:checked~div.sk-toggleable__content {max-height: 200px;max-width: 100%;overflow: auto;}#sk-container-id-6 input.sk-toggleable__control:checked~label.sk-toggleable__label-arrow:before {content: \"▾\";}#sk-container-id-6 div.sk-estimator input.sk-toggleable__control:checked~label.sk-toggleable__label {background-color: #d4ebff;}#sk-container-id-6 div.sk-label input.sk-toggleable__control:checked~label.sk-toggleable__label {background-color: #d4ebff;}#sk-container-id-6 input.sk-hidden--visually {border: 0;clip: rect(1px 1px 1px 1px);clip: rect(1px, 1px, 1px, 1px);height: 1px;margin: -1px;overflow: hidden;padding: 0;position: absolute;width: 1px;}#sk-container-id-6 div.sk-estimator {font-family: monospace;background-color: #f0f8ff;border: 1px dotted black;border-radius: 0.25em;box-sizing: border-box;margin-bottom: 0.5em;}#sk-container-id-6 div.sk-estimator:hover {background-color: #d4ebff;}#sk-container-id-6 div.sk-parallel-item::after {content: \"\";width: 100%;border-bottom: 1px solid gray;flex-grow: 1;}#sk-container-id-6 div.sk-label:hover label.sk-toggleable__label {background-color: #d4ebff;}#sk-container-id-6 div.sk-serial::before {content: \"\";position: absolute;border-left: 1px solid gray;box-sizing: border-box;top: 0;bottom: 0;left: 50%;z-index: 0;}#sk-container-id-6 div.sk-serial {display: flex;flex-direction: column;align-items: center;background-color: white;padding-right: 0.2em;padding-left: 0.2em;position: relative;}#sk-container-id-6 div.sk-item {position: relative;z-index: 1;}#sk-container-id-6 div.sk-parallel {display: flex;align-items: stretch;justify-content: center;background-color: white;position: relative;}#sk-container-id-6 div.sk-item::before, #sk-container-id-6 div.sk-parallel-item::before {content: \"\";position: absolute;border-left: 1px solid gray;box-sizing: border-box;top: 0;bottom: 0;left: 50%;z-index: -1;}#sk-container-id-6 div.sk-parallel-item {display: flex;flex-direction: column;z-index: 1;position: relative;background-color: white;}#sk-container-id-6 div.sk-parallel-item:first-child::after {align-self: flex-end;width: 50%;}#sk-container-id-6 div.sk-parallel-item:last-child::after {align-self: flex-start;width: 50%;}#sk-container-id-6 div.sk-parallel-item:only-child::after {width: 0;}#sk-container-id-6 div.sk-dashed-wrapped {border: 1px dashed gray;margin: 0 0.4em 0.5em 0.4em;box-sizing: border-box;padding-bottom: 0.4em;background-color: white;}#sk-container-id-6 div.sk-label label {font-family: monospace;font-weight: bold;display: inline-block;line-height: 1.2em;}#sk-container-id-6 div.sk-label-container {text-align: center;}#sk-container-id-6 div.sk-container {/* jupyter's `normalize.less` sets `[hidden] { display: none; }` but bootstrap.min.css set `[hidden] { display: none !important; }` so we also need the `!important` here to be able to override the default hidden behavior on the sphinx rendered scikit-learn.org. See: https://github.com/scikit-learn/scikit-learn/issues/21755 */display: inline-block !important;position: relative;}#sk-container-id-6 div.sk-text-repr-fallback {display: none;}</style><div id=\"sk-container-id-6\" class=\"sk-top-container\"><div class=\"sk-text-repr-fallback\"><pre>XGBClassifier(base_score=None, booster=None, callbacks=None,\n",
       "              colsample_bylevel=None, colsample_bynode=None,\n",
       "              colsample_bytree=None, device=None, early_stopping_rounds=None,\n",
       "              enable_categorical=False, eval_metric=None, feature_types=None,\n",
       "              gamma=None, grow_policy=None, importance_type=None,\n",
       "              interaction_constraints=None, learning_rate=0.01, max_bin=None,\n",
       "              max_cat_threshold=None, max_cat_to_onehot=None,\n",
       "              max_delta_step=None, max_depth=10, max_leaves=None,\n",
       "              min_child_weight=None, missing=nan, monotone_constraints=None,\n",
       "              multi_strategy=None, n_estimators=10, n_jobs=None,\n",
       "              num_parallel_tree=None, objective=&#x27;multi:softprob&#x27;, ...)</pre><b>In a Jupyter environment, please rerun this cell to show the HTML representation or trust the notebook. <br />On GitHub, the HTML representation is unable to render, please try loading this page with nbviewer.org.</b></div><div class=\"sk-container\" hidden><div class=\"sk-item\"><div class=\"sk-estimator sk-toggleable\"><input class=\"sk-toggleable__control sk-hidden--visually\" id=\"sk-estimator-id-10\" type=\"checkbox\" checked><label for=\"sk-estimator-id-10\" class=\"sk-toggleable__label sk-toggleable__label-arrow\">XGBClassifier</label><div class=\"sk-toggleable__content\"><pre>XGBClassifier(base_score=None, booster=None, callbacks=None,\n",
       "              colsample_bylevel=None, colsample_bynode=None,\n",
       "              colsample_bytree=None, device=None, early_stopping_rounds=None,\n",
       "              enable_categorical=False, eval_metric=None, feature_types=None,\n",
       "              gamma=None, grow_policy=None, importance_type=None,\n",
       "              interaction_constraints=None, learning_rate=0.01, max_bin=None,\n",
       "              max_cat_threshold=None, max_cat_to_onehot=None,\n",
       "              max_delta_step=None, max_depth=10, max_leaves=None,\n",
       "              min_child_weight=None, missing=nan, monotone_constraints=None,\n",
       "              multi_strategy=None, n_estimators=10, n_jobs=None,\n",
       "              num_parallel_tree=None, objective=&#x27;multi:softprob&#x27;, ...)</pre></div></div></div></div></div>"
      ],
      "text/plain": [
       "XGBClassifier(base_score=None, booster=None, callbacks=None,\n",
       "              colsample_bylevel=None, colsample_bynode=None,\n",
       "              colsample_bytree=None, device=None, early_stopping_rounds=None,\n",
       "              enable_categorical=False, eval_metric=None, feature_types=None,\n",
       "              gamma=None, grow_policy=None, importance_type=None,\n",
       "              interaction_constraints=None, learning_rate=0.01, max_bin=None,\n",
       "              max_cat_threshold=None, max_cat_to_onehot=None,\n",
       "              max_delta_step=None, max_depth=10, max_leaves=None,\n",
       "              min_child_weight=None, missing=nan, monotone_constraints=None,\n",
       "              multi_strategy=None, n_estimators=10, n_jobs=None,\n",
       "              num_parallel_tree=None, objective='multi:softprob', ...)"
      ]
     },
     "execution_count": 98,
     "metadata": {},
     "output_type": "execute_result"
    }
   ],
   "source": [
    "GBC = xgb.XGBClassifier(learning_rate=0.01, max_depth=10, n_estimators=10, subsample=1)\n",
    "\n",
    "GBC.fit(X_train, y_train_gb)\n",
    "\n"
   ]
  },
  {
   "cell_type": "code",
   "execution_count": 99,
   "id": "562a2df7-4c92-4d20-9ffc-d548e6eef287",
   "metadata": {},
   "outputs": [
    {
     "data": {
      "text/plain": [
       "['../trained-models/gbc_model.joblib']"
      ]
     },
     "execution_count": 99,
     "metadata": {},
     "output_type": "execute_result"
    }
   ],
   "source": [
    "joblibpath = os.path.join('..','trained-models','gbc_model.joblib')\n",
    "joblib.dump(GBC, joblibpath)\n",
    "\n"
   ]
  },
  {
   "cell_type": "code",
   "execution_count": 100,
   "id": "dbf44144-2d9d-4131-8011-43f2f0168117",
   "metadata": {},
   "outputs": [],
   "source": [
    "y_train_pred = GBC.predict(X_train)\n",
    "\n",
    "y_test_pred = GBC.predict(X_test)\n",
    "\n"
   ]
  },
  {
   "cell_type": "code",
   "execution_count": 101,
   "id": "4e5b5d75-4467-482d-b4eb-1f5f95c5179b",
   "metadata": {},
   "outputs": [],
   "source": [
    "array_dict = {0.: 'A', 1.: 'B', 2.: 'C', 3.: 'D', 4.: 'E', 5.: 'F', 6.:'G'}\n",
    "\n",
    "y_train_gb = [array_dict[i] for i in y_train_gb]\n",
    "\n",
    "y_test_gb = [array_dict[i] for i in y_test_gb]\n",
    "\n",
    "y_train_pred = [array_dict[i] for i in y_train_pred]\n",
    "\n",
    "y_test_pred = [array_dict[i] for i in y_test_pred]\n",
    "\n"
   ]
  },
  {
   "cell_type": "code",
   "execution_count": 102,
   "id": "f06926ca-d6b0-477c-a356-9184da5a75bd",
   "metadata": {},
   "outputs": [
    {
     "name": "stdout",
     "output_type": "stream",
     "text": [
      "Train dataset\n",
      "-------------\n",
      "accuracy 0.975625\n",
      "precision [0.98620383 0.95381624 0.98115784 1.         1.         1.\n",
      " 1.        ]\n",
      "recall [0.9723563  0.95520935 0.99035281 0.88461538 0.875      0.5\n",
      " 1.        ]\n",
      "F-score [0.97923111 0.95451228 0.98573388 0.93877551 0.93333333 0.66666667\n",
      " 1.        ]\n",
      "-------------\n",
      "-------------\n",
      "Test dataset\n",
      "-------------\n",
      "accuracy 0.9225\n",
      "precision [0.95340502 0.8460076  0.94725275 1.         1.        ]\n",
      "recall [0.93333333 0.86575875 0.95038589 0.57142857 1.        ]\n",
      "F-score [0.94326241 0.85576923 0.94881673 0.72727273 1.        ]\n"
     ]
    }
   ],
   "source": [
    "print_metrics(y_train_gb, y_test_gb, y_train_pred, y_test_pred)\n",
    "\n"
   ]
  },
  {
   "cell_type": "code",
   "execution_count": 103,
   "id": "55e761b4-69c3-4348-9d40-22151586add1",
   "metadata": {},
   "outputs": [
    {
     "name": "stdout",
     "output_type": "stream",
     "text": [
      "              precision    recall  f1-score   support\n",
      "\n",
      "           A       0.99      0.97      0.98      2279\n",
      "           B       0.95      0.96      0.95      2054\n",
      "           C       0.98      0.99      0.99      3628\n",
      "           D       1.00      0.88      0.94        26\n",
      "           E       1.00      0.88      0.93         8\n",
      "           F       1.00      0.50      0.67         2\n",
      "           G       1.00      1.00      1.00         3\n",
      "\n",
      "    accuracy                           0.98      8000\n",
      "   macro avg       0.99      0.88      0.92      8000\n",
      "weighted avg       0.98      0.98      0.98      8000\n",
      "\n"
     ]
    }
   ],
   "source": [
    "print(classification_report(y_train_gb, y_train_pred))\n",
    "\n"
   ]
  },
  {
   "cell_type": "code",
   "execution_count": 104,
   "id": "bdd068a1-499f-44ac-90b4-315793b46fc0",
   "metadata": {},
   "outputs": [
    {
     "name": "stdout",
     "output_type": "stream",
     "text": [
      "              precision    recall  f1-score   support\n",
      "\n",
      "           A       0.95      0.93      0.94       570\n",
      "           B       0.85      0.87      0.86       514\n",
      "           C       0.95      0.95      0.95       907\n",
      "           D       1.00      0.57      0.73         7\n",
      "           E       1.00      1.00      1.00         2\n",
      "\n",
      "    accuracy                           0.92      2000\n",
      "   macro avg       0.95      0.86      0.90      2000\n",
      "weighted avg       0.92      0.92      0.92      2000\n",
      "\n"
     ]
    }
   ],
   "source": [
    "print(classification_report(y_test_gb, y_test_pred))\n",
    "\n"
   ]
  },
  {
   "cell_type": "markdown",
   "id": "0f759cc1-b61d-4a2d-92a5-0acac9ae866b",
   "metadata": {},
   "source": [
    "**Logistic regression**\n",
    "\n"
   ]
  },
  {
   "cell_type": "code",
   "execution_count": 105,
   "id": "0d51c5f7-8cbb-49bb-80d4-3aa5f0000c8a",
   "metadata": {},
   "outputs": [
    {
     "data": {
      "text/html": [
       "<style>#sk-container-id-7 {color: black;}#sk-container-id-7 pre{padding: 0;}#sk-container-id-7 div.sk-toggleable {background-color: white;}#sk-container-id-7 label.sk-toggleable__label {cursor: pointer;display: block;width: 100%;margin-bottom: 0;padding: 0.3em;box-sizing: border-box;text-align: center;}#sk-container-id-7 label.sk-toggleable__label-arrow:before {content: \"▸\";float: left;margin-right: 0.25em;color: #696969;}#sk-container-id-7 label.sk-toggleable__label-arrow:hover:before {color: black;}#sk-container-id-7 div.sk-estimator:hover label.sk-toggleable__label-arrow:before {color: black;}#sk-container-id-7 div.sk-toggleable__content {max-height: 0;max-width: 0;overflow: hidden;text-align: left;background-color: #f0f8ff;}#sk-container-id-7 div.sk-toggleable__content pre {margin: 0.2em;color: black;border-radius: 0.25em;background-color: #f0f8ff;}#sk-container-id-7 input.sk-toggleable__control:checked~div.sk-toggleable__content {max-height: 200px;max-width: 100%;overflow: auto;}#sk-container-id-7 input.sk-toggleable__control:checked~label.sk-toggleable__label-arrow:before {content: \"▾\";}#sk-container-id-7 div.sk-estimator input.sk-toggleable__control:checked~label.sk-toggleable__label {background-color: #d4ebff;}#sk-container-id-7 div.sk-label input.sk-toggleable__control:checked~label.sk-toggleable__label {background-color: #d4ebff;}#sk-container-id-7 input.sk-hidden--visually {border: 0;clip: rect(1px 1px 1px 1px);clip: rect(1px, 1px, 1px, 1px);height: 1px;margin: -1px;overflow: hidden;padding: 0;position: absolute;width: 1px;}#sk-container-id-7 div.sk-estimator {font-family: monospace;background-color: #f0f8ff;border: 1px dotted black;border-radius: 0.25em;box-sizing: border-box;margin-bottom: 0.5em;}#sk-container-id-7 div.sk-estimator:hover {background-color: #d4ebff;}#sk-container-id-7 div.sk-parallel-item::after {content: \"\";width: 100%;border-bottom: 1px solid gray;flex-grow: 1;}#sk-container-id-7 div.sk-label:hover label.sk-toggleable__label {background-color: #d4ebff;}#sk-container-id-7 div.sk-serial::before {content: \"\";position: absolute;border-left: 1px solid gray;box-sizing: border-box;top: 0;bottom: 0;left: 50%;z-index: 0;}#sk-container-id-7 div.sk-serial {display: flex;flex-direction: column;align-items: center;background-color: white;padding-right: 0.2em;padding-left: 0.2em;position: relative;}#sk-container-id-7 div.sk-item {position: relative;z-index: 1;}#sk-container-id-7 div.sk-parallel {display: flex;align-items: stretch;justify-content: center;background-color: white;position: relative;}#sk-container-id-7 div.sk-item::before, #sk-container-id-7 div.sk-parallel-item::before {content: \"\";position: absolute;border-left: 1px solid gray;box-sizing: border-box;top: 0;bottom: 0;left: 50%;z-index: -1;}#sk-container-id-7 div.sk-parallel-item {display: flex;flex-direction: column;z-index: 1;position: relative;background-color: white;}#sk-container-id-7 div.sk-parallel-item:first-child::after {align-self: flex-end;width: 50%;}#sk-container-id-7 div.sk-parallel-item:last-child::after {align-self: flex-start;width: 50%;}#sk-container-id-7 div.sk-parallel-item:only-child::after {width: 0;}#sk-container-id-7 div.sk-dashed-wrapped {border: 1px dashed gray;margin: 0 0.4em 0.5em 0.4em;box-sizing: border-box;padding-bottom: 0.4em;background-color: white;}#sk-container-id-7 div.sk-label label {font-family: monospace;font-weight: bold;display: inline-block;line-height: 1.2em;}#sk-container-id-7 div.sk-label-container {text-align: center;}#sk-container-id-7 div.sk-container {/* jupyter's `normalize.less` sets `[hidden] { display: none; }` but bootstrap.min.css set `[hidden] { display: none !important; }` so we also need the `!important` here to be able to override the default hidden behavior on the sphinx rendered scikit-learn.org. See: https://github.com/scikit-learn/scikit-learn/issues/21755 */display: inline-block !important;position: relative;}#sk-container-id-7 div.sk-text-repr-fallback {display: none;}</style><div id=\"sk-container-id-7\" class=\"sk-top-container\"><div class=\"sk-text-repr-fallback\"><pre>GridSearchCV(cv=5,\n",
       "             estimator=LogisticRegression(max_iter=4000,\n",
       "                                          multi_class=&#x27;multinomial&#x27;),\n",
       "             param_grid={&#x27;C&#x27;: [0.01, 0.1, 1, 10, 100, 1000], &#x27;penalty&#x27;: [&#x27;l2&#x27;]},\n",
       "             scoring=&#x27;f1&#x27;)</pre><b>In a Jupyter environment, please rerun this cell to show the HTML representation or trust the notebook. <br />On GitHub, the HTML representation is unable to render, please try loading this page with nbviewer.org.</b></div><div class=\"sk-container\" hidden><div class=\"sk-item sk-dashed-wrapped\"><div class=\"sk-label-container\"><div class=\"sk-label sk-toggleable\"><input class=\"sk-toggleable__control sk-hidden--visually\" id=\"sk-estimator-id-11\" type=\"checkbox\" ><label for=\"sk-estimator-id-11\" class=\"sk-toggleable__label sk-toggleable__label-arrow\">GridSearchCV</label><div class=\"sk-toggleable__content\"><pre>GridSearchCV(cv=5,\n",
       "             estimator=LogisticRegression(max_iter=4000,\n",
       "                                          multi_class=&#x27;multinomial&#x27;),\n",
       "             param_grid={&#x27;C&#x27;: [0.01, 0.1, 1, 10, 100, 1000], &#x27;penalty&#x27;: [&#x27;l2&#x27;]},\n",
       "             scoring=&#x27;f1&#x27;)</pre></div></div></div><div class=\"sk-parallel\"><div class=\"sk-parallel-item\"><div class=\"sk-item\"><div class=\"sk-label-container\"><div class=\"sk-label sk-toggleable\"><input class=\"sk-toggleable__control sk-hidden--visually\" id=\"sk-estimator-id-12\" type=\"checkbox\" ><label for=\"sk-estimator-id-12\" class=\"sk-toggleable__label sk-toggleable__label-arrow\">estimator: LogisticRegression</label><div class=\"sk-toggleable__content\"><pre>LogisticRegression(max_iter=4000, multi_class=&#x27;multinomial&#x27;)</pre></div></div></div><div class=\"sk-serial\"><div class=\"sk-item\"><div class=\"sk-estimator sk-toggleable\"><input class=\"sk-toggleable__control sk-hidden--visually\" id=\"sk-estimator-id-13\" type=\"checkbox\" ><label for=\"sk-estimator-id-13\" class=\"sk-toggleable__label sk-toggleable__label-arrow\">LogisticRegression</label><div class=\"sk-toggleable__content\"><pre>LogisticRegression(max_iter=4000, multi_class=&#x27;multinomial&#x27;)</pre></div></div></div></div></div></div></div></div></div></div>"
      ],
      "text/plain": [
       "GridSearchCV(cv=5,\n",
       "             estimator=LogisticRegression(max_iter=4000,\n",
       "                                          multi_class='multinomial'),\n",
       "             param_grid={'C': [0.01, 0.1, 1, 10, 100, 1000], 'penalty': ['l2']},\n",
       "             scoring='f1')"
      ]
     },
     "execution_count": 105,
     "metadata": {},
     "output_type": "execute_result"
    }
   ],
   "source": [
    "lr = LogisticRegression(multi_class='multinomial', solver ='lbfgs', max_iter=4000)\n",
    "\n",
    "param_grid = {'C':[0.01, 0.1, 1, 10, 100, 1000], 'penalty':['l2']}\n",
    "\n",
    "grid = GridSearchCV(lr, param_grid, cv=5, scoring='f1')\n",
    "\n",
    "grid.fit(X_train, y_train)\n",
    "\n"
   ]
  },
  {
   "cell_type": "code",
   "execution_count": 106,
   "id": "a896b98b-f01a-4fb5-bba6-0acf899b5c7f",
   "metadata": {},
   "outputs": [
    {
     "data": {
      "text/html": [
       "<style>#sk-container-id-8 {color: black;}#sk-container-id-8 pre{padding: 0;}#sk-container-id-8 div.sk-toggleable {background-color: white;}#sk-container-id-8 label.sk-toggleable__label {cursor: pointer;display: block;width: 100%;margin-bottom: 0;padding: 0.3em;box-sizing: border-box;text-align: center;}#sk-container-id-8 label.sk-toggleable__label-arrow:before {content: \"▸\";float: left;margin-right: 0.25em;color: #696969;}#sk-container-id-8 label.sk-toggleable__label-arrow:hover:before {color: black;}#sk-container-id-8 div.sk-estimator:hover label.sk-toggleable__label-arrow:before {color: black;}#sk-container-id-8 div.sk-toggleable__content {max-height: 0;max-width: 0;overflow: hidden;text-align: left;background-color: #f0f8ff;}#sk-container-id-8 div.sk-toggleable__content pre {margin: 0.2em;color: black;border-radius: 0.25em;background-color: #f0f8ff;}#sk-container-id-8 input.sk-toggleable__control:checked~div.sk-toggleable__content {max-height: 200px;max-width: 100%;overflow: auto;}#sk-container-id-8 input.sk-toggleable__control:checked~label.sk-toggleable__label-arrow:before {content: \"▾\";}#sk-container-id-8 div.sk-estimator input.sk-toggleable__control:checked~label.sk-toggleable__label {background-color: #d4ebff;}#sk-container-id-8 div.sk-label input.sk-toggleable__control:checked~label.sk-toggleable__label {background-color: #d4ebff;}#sk-container-id-8 input.sk-hidden--visually {border: 0;clip: rect(1px 1px 1px 1px);clip: rect(1px, 1px, 1px, 1px);height: 1px;margin: -1px;overflow: hidden;padding: 0;position: absolute;width: 1px;}#sk-container-id-8 div.sk-estimator {font-family: monospace;background-color: #f0f8ff;border: 1px dotted black;border-radius: 0.25em;box-sizing: border-box;margin-bottom: 0.5em;}#sk-container-id-8 div.sk-estimator:hover {background-color: #d4ebff;}#sk-container-id-8 div.sk-parallel-item::after {content: \"\";width: 100%;border-bottom: 1px solid gray;flex-grow: 1;}#sk-container-id-8 div.sk-label:hover label.sk-toggleable__label {background-color: #d4ebff;}#sk-container-id-8 div.sk-serial::before {content: \"\";position: absolute;border-left: 1px solid gray;box-sizing: border-box;top: 0;bottom: 0;left: 50%;z-index: 0;}#sk-container-id-8 div.sk-serial {display: flex;flex-direction: column;align-items: center;background-color: white;padding-right: 0.2em;padding-left: 0.2em;position: relative;}#sk-container-id-8 div.sk-item {position: relative;z-index: 1;}#sk-container-id-8 div.sk-parallel {display: flex;align-items: stretch;justify-content: center;background-color: white;position: relative;}#sk-container-id-8 div.sk-item::before, #sk-container-id-8 div.sk-parallel-item::before {content: \"\";position: absolute;border-left: 1px solid gray;box-sizing: border-box;top: 0;bottom: 0;left: 50%;z-index: -1;}#sk-container-id-8 div.sk-parallel-item {display: flex;flex-direction: column;z-index: 1;position: relative;background-color: white;}#sk-container-id-8 div.sk-parallel-item:first-child::after {align-self: flex-end;width: 50%;}#sk-container-id-8 div.sk-parallel-item:last-child::after {align-self: flex-start;width: 50%;}#sk-container-id-8 div.sk-parallel-item:only-child::after {width: 0;}#sk-container-id-8 div.sk-dashed-wrapped {border: 1px dashed gray;margin: 0 0.4em 0.5em 0.4em;box-sizing: border-box;padding-bottom: 0.4em;background-color: white;}#sk-container-id-8 div.sk-label label {font-family: monospace;font-weight: bold;display: inline-block;line-height: 1.2em;}#sk-container-id-8 div.sk-label-container {text-align: center;}#sk-container-id-8 div.sk-container {/* jupyter's `normalize.less` sets `[hidden] { display: none; }` but bootstrap.min.css set `[hidden] { display: none !important; }` so we also need the `!important` here to be able to override the default hidden behavior on the sphinx rendered scikit-learn.org. See: https://github.com/scikit-learn/scikit-learn/issues/21755 */display: inline-block !important;position: relative;}#sk-container-id-8 div.sk-text-repr-fallback {display: none;}</style><div id=\"sk-container-id-8\" class=\"sk-top-container\"><div class=\"sk-text-repr-fallback\"><pre>LogisticRegression(C=0.01, max_iter=4000, multi_class=&#x27;multinomial&#x27;)</pre><b>In a Jupyter environment, please rerun this cell to show the HTML representation or trust the notebook. <br />On GitHub, the HTML representation is unable to render, please try loading this page with nbviewer.org.</b></div><div class=\"sk-container\" hidden><div class=\"sk-item\"><div class=\"sk-estimator sk-toggleable\"><input class=\"sk-toggleable__control sk-hidden--visually\" id=\"sk-estimator-id-14\" type=\"checkbox\" checked><label for=\"sk-estimator-id-14\" class=\"sk-toggleable__label sk-toggleable__label-arrow\">LogisticRegression</label><div class=\"sk-toggleable__content\"><pre>LogisticRegression(C=0.01, max_iter=4000, multi_class=&#x27;multinomial&#x27;)</pre></div></div></div></div></div>"
      ],
      "text/plain": [
       "LogisticRegression(C=0.01, max_iter=4000, multi_class='multinomial')"
      ]
     },
     "execution_count": 106,
     "metadata": {},
     "output_type": "execute_result"
    }
   ],
   "source": [
    "grid.best_estimator_\n",
    "\n"
   ]
  },
  {
   "cell_type": "code",
   "execution_count": 107,
   "id": "fa437860-b225-4070-ad04-f635838e93c8",
   "metadata": {},
   "outputs": [
    {
     "data": {
      "text/plain": [
       "{'C': 0.01, 'penalty': 'l2'}"
      ]
     },
     "execution_count": 107,
     "metadata": {},
     "output_type": "execute_result"
    }
   ],
   "source": [
    "grid.best_params_\n",
    "\n"
   ]
  },
  {
   "cell_type": "code",
   "execution_count": 108,
   "id": "63bbe701-3ea8-48db-ac05-44b47e8290a7",
   "metadata": {},
   "outputs": [
    {
     "data": {
      "text/html": [
       "<style>#sk-container-id-9 {color: black;}#sk-container-id-9 pre{padding: 0;}#sk-container-id-9 div.sk-toggleable {background-color: white;}#sk-container-id-9 label.sk-toggleable__label {cursor: pointer;display: block;width: 100%;margin-bottom: 0;padding: 0.3em;box-sizing: border-box;text-align: center;}#sk-container-id-9 label.sk-toggleable__label-arrow:before {content: \"▸\";float: left;margin-right: 0.25em;color: #696969;}#sk-container-id-9 label.sk-toggleable__label-arrow:hover:before {color: black;}#sk-container-id-9 div.sk-estimator:hover label.sk-toggleable__label-arrow:before {color: black;}#sk-container-id-9 div.sk-toggleable__content {max-height: 0;max-width: 0;overflow: hidden;text-align: left;background-color: #f0f8ff;}#sk-container-id-9 div.sk-toggleable__content pre {margin: 0.2em;color: black;border-radius: 0.25em;background-color: #f0f8ff;}#sk-container-id-9 input.sk-toggleable__control:checked~div.sk-toggleable__content {max-height: 200px;max-width: 100%;overflow: auto;}#sk-container-id-9 input.sk-toggleable__control:checked~label.sk-toggleable__label-arrow:before {content: \"▾\";}#sk-container-id-9 div.sk-estimator input.sk-toggleable__control:checked~label.sk-toggleable__label {background-color: #d4ebff;}#sk-container-id-9 div.sk-label input.sk-toggleable__control:checked~label.sk-toggleable__label {background-color: #d4ebff;}#sk-container-id-9 input.sk-hidden--visually {border: 0;clip: rect(1px 1px 1px 1px);clip: rect(1px, 1px, 1px, 1px);height: 1px;margin: -1px;overflow: hidden;padding: 0;position: absolute;width: 1px;}#sk-container-id-9 div.sk-estimator {font-family: monospace;background-color: #f0f8ff;border: 1px dotted black;border-radius: 0.25em;box-sizing: border-box;margin-bottom: 0.5em;}#sk-container-id-9 div.sk-estimator:hover {background-color: #d4ebff;}#sk-container-id-9 div.sk-parallel-item::after {content: \"\";width: 100%;border-bottom: 1px solid gray;flex-grow: 1;}#sk-container-id-9 div.sk-label:hover label.sk-toggleable__label {background-color: #d4ebff;}#sk-container-id-9 div.sk-serial::before {content: \"\";position: absolute;border-left: 1px solid gray;box-sizing: border-box;top: 0;bottom: 0;left: 50%;z-index: 0;}#sk-container-id-9 div.sk-serial {display: flex;flex-direction: column;align-items: center;background-color: white;padding-right: 0.2em;padding-left: 0.2em;position: relative;}#sk-container-id-9 div.sk-item {position: relative;z-index: 1;}#sk-container-id-9 div.sk-parallel {display: flex;align-items: stretch;justify-content: center;background-color: white;position: relative;}#sk-container-id-9 div.sk-item::before, #sk-container-id-9 div.sk-parallel-item::before {content: \"\";position: absolute;border-left: 1px solid gray;box-sizing: border-box;top: 0;bottom: 0;left: 50%;z-index: -1;}#sk-container-id-9 div.sk-parallel-item {display: flex;flex-direction: column;z-index: 1;position: relative;background-color: white;}#sk-container-id-9 div.sk-parallel-item:first-child::after {align-self: flex-end;width: 50%;}#sk-container-id-9 div.sk-parallel-item:last-child::after {align-self: flex-start;width: 50%;}#sk-container-id-9 div.sk-parallel-item:only-child::after {width: 0;}#sk-container-id-9 div.sk-dashed-wrapped {border: 1px dashed gray;margin: 0 0.4em 0.5em 0.4em;box-sizing: border-box;padding-bottom: 0.4em;background-color: white;}#sk-container-id-9 div.sk-label label {font-family: monospace;font-weight: bold;display: inline-block;line-height: 1.2em;}#sk-container-id-9 div.sk-label-container {text-align: center;}#sk-container-id-9 div.sk-container {/* jupyter's `normalize.less` sets `[hidden] { display: none; }` but bootstrap.min.css set `[hidden] { display: none !important; }` so we also need the `!important` here to be able to override the default hidden behavior on the sphinx rendered scikit-learn.org. See: https://github.com/scikit-learn/scikit-learn/issues/21755 */display: inline-block !important;position: relative;}#sk-container-id-9 div.sk-text-repr-fallback {display: none;}</style><div id=\"sk-container-id-9\" class=\"sk-top-container\"><div class=\"sk-text-repr-fallback\"><pre>LogisticRegression(max_iter=4000, multi_class=&#x27;multinomial&#x27;)</pre><b>In a Jupyter environment, please rerun this cell to show the HTML representation or trust the notebook. <br />On GitHub, the HTML representation is unable to render, please try loading this page with nbviewer.org.</b></div><div class=\"sk-container\" hidden><div class=\"sk-item\"><div class=\"sk-estimator sk-toggleable\"><input class=\"sk-toggleable__control sk-hidden--visually\" id=\"sk-estimator-id-15\" type=\"checkbox\" checked><label for=\"sk-estimator-id-15\" class=\"sk-toggleable__label sk-toggleable__label-arrow\">LogisticRegression</label><div class=\"sk-toggleable__content\"><pre>LogisticRegression(max_iter=4000, multi_class=&#x27;multinomial&#x27;)</pre></div></div></div></div></div>"
      ],
      "text/plain": [
       "LogisticRegression(max_iter=4000, multi_class='multinomial')"
      ]
     },
     "execution_count": 108,
     "metadata": {},
     "output_type": "execute_result"
    }
   ],
   "source": [
    "lr = LogisticRegression(max_iter=4000, multi_class='multinomial', solver='lbfgs', penalty='l2')\n",
    "\n",
    "lr.fit(X_train, y_train)\n",
    "\n"
   ]
  },
  {
   "cell_type": "code",
   "execution_count": 109,
   "id": "772667fc-9880-406e-bcc8-4d3cced92391",
   "metadata": {},
   "outputs": [
    {
     "data": {
      "text/plain": [
       "['../trained-models/lr_model.joblib']"
      ]
     },
     "execution_count": 109,
     "metadata": {},
     "output_type": "execute_result"
    }
   ],
   "source": [
    "joblibpath = os.path.join('..','trained-models','lr_model.joblib')\n",
    "joblib.dump(lr, joblibpath)\n",
    "\n"
   ]
  },
  {
   "cell_type": "code",
   "execution_count": 110,
   "id": "e792767e-eae3-46f5-9a4e-e12ba7533c97",
   "metadata": {},
   "outputs": [],
   "source": [
    "y_train_pred = lr.predict(X_train)\n",
    "\n",
    "y_test_pred = lr.predict(X_test)\n",
    "\n"
   ]
  },
  {
   "cell_type": "code",
   "execution_count": 111,
   "id": "a11c5b5c-2abe-4fbe-bf83-7ddf6d7c00ad",
   "metadata": {},
   "outputs": [
    {
     "name": "stdout",
     "output_type": "stream",
     "text": [
      "Train dataset\n",
      "-------------\n",
      "accuracy 0.9535\n",
      "precision [0.97080938 0.91467577 0.96503688 0.78571429 1.         1.\n",
      " 1.        ]\n",
      "recall [0.96314173 0.91333982 0.97381477 0.42307692 1.         1.\n",
      " 1.        ]\n",
      "F-score [0.96696035 0.91400731 0.96940595 0.55       1.         1.\n",
      " 1.        ]\n",
      "-------------\n",
      "-------------\n",
      "Test dataset\n",
      "-------------\n",
      "accuracy 0.955\n",
      "precision [0.97686833 0.92337917 0.95891892 1.         1.        ]\n",
      "recall [0.96315789 0.91439689 0.97794928 0.28571429 1.        ]\n",
      "F-score [0.96996466 0.91886608 0.96834061 0.44444444 1.        ]\n"
     ]
    }
   ],
   "source": [
    "print_metrics(y_train, y_test, y_train_pred, y_test_pred)\n",
    "\n"
   ]
  },
  {
   "cell_type": "code",
   "execution_count": 112,
   "id": "d3983942-6f29-4c9b-b440-aef4a01921ba",
   "metadata": {},
   "outputs": [
    {
     "name": "stdout",
     "output_type": "stream",
     "text": [
      "              precision    recall  f1-score   support\n",
      "\n",
      "           A       0.97      0.96      0.97      2279\n",
      "           B       0.91      0.91      0.91      2054\n",
      "           C       0.97      0.97      0.97      3628\n",
      "           D       0.79      0.42      0.55        26\n",
      "           E       1.00      1.00      1.00         8\n",
      "           F       1.00      1.00      1.00         2\n",
      "           G       1.00      1.00      1.00         3\n",
      "\n",
      "    accuracy                           0.95      8000\n",
      "   macro avg       0.95      0.90      0.91      8000\n",
      "weighted avg       0.95      0.95      0.95      8000\n",
      "\n"
     ]
    }
   ],
   "source": [
    "print(classification_report(y_train, y_train_pred))\n",
    "\n"
   ]
  },
  {
   "cell_type": "code",
   "execution_count": 113,
   "id": "1786356d-66a4-4e78-b776-10a1c9ad9267",
   "metadata": {},
   "outputs": [
    {
     "name": "stdout",
     "output_type": "stream",
     "text": [
      "              precision    recall  f1-score   support\n",
      "\n",
      "           A       0.98      0.96      0.97       570\n",
      "           B       0.92      0.91      0.92       514\n",
      "           C       0.96      0.98      0.97       907\n",
      "           D       1.00      0.29      0.44         7\n",
      "           E       1.00      1.00      1.00         2\n",
      "\n",
      "    accuracy                           0.95      2000\n",
      "   macro avg       0.97      0.83      0.86      2000\n",
      "weighted avg       0.96      0.95      0.95      2000\n",
      "\n"
     ]
    }
   ],
   "source": [
    "print(classification_report(y_test, y_test_pred))\n",
    "\n"
   ]
  },
  {
   "cell_type": "markdown",
   "id": "1d4b8d14-e8f2-4967-806e-b4b4d1702ddf",
   "metadata": {},
   "source": [
    "**SVM**\n",
    "\n"
   ]
  },
  {
   "cell_type": "code",
   "execution_count": 114,
   "id": "caee714b-c29a-4fb9-bbcb-ea4ddc82223f",
   "metadata": {},
   "outputs": [
    {
     "data": {
      "text/html": [
       "<style>#sk-container-id-10 {color: black;}#sk-container-id-10 pre{padding: 0;}#sk-container-id-10 div.sk-toggleable {background-color: white;}#sk-container-id-10 label.sk-toggleable__label {cursor: pointer;display: block;width: 100%;margin-bottom: 0;padding: 0.3em;box-sizing: border-box;text-align: center;}#sk-container-id-10 label.sk-toggleable__label-arrow:before {content: \"▸\";float: left;margin-right: 0.25em;color: #696969;}#sk-container-id-10 label.sk-toggleable__label-arrow:hover:before {color: black;}#sk-container-id-10 div.sk-estimator:hover label.sk-toggleable__label-arrow:before {color: black;}#sk-container-id-10 div.sk-toggleable__content {max-height: 0;max-width: 0;overflow: hidden;text-align: left;background-color: #f0f8ff;}#sk-container-id-10 div.sk-toggleable__content pre {margin: 0.2em;color: black;border-radius: 0.25em;background-color: #f0f8ff;}#sk-container-id-10 input.sk-toggleable__control:checked~div.sk-toggleable__content {max-height: 200px;max-width: 100%;overflow: auto;}#sk-container-id-10 input.sk-toggleable__control:checked~label.sk-toggleable__label-arrow:before {content: \"▾\";}#sk-container-id-10 div.sk-estimator input.sk-toggleable__control:checked~label.sk-toggleable__label {background-color: #d4ebff;}#sk-container-id-10 div.sk-label input.sk-toggleable__control:checked~label.sk-toggleable__label {background-color: #d4ebff;}#sk-container-id-10 input.sk-hidden--visually {border: 0;clip: rect(1px 1px 1px 1px);clip: rect(1px, 1px, 1px, 1px);height: 1px;margin: -1px;overflow: hidden;padding: 0;position: absolute;width: 1px;}#sk-container-id-10 div.sk-estimator {font-family: monospace;background-color: #f0f8ff;border: 1px dotted black;border-radius: 0.25em;box-sizing: border-box;margin-bottom: 0.5em;}#sk-container-id-10 div.sk-estimator:hover {background-color: #d4ebff;}#sk-container-id-10 div.sk-parallel-item::after {content: \"\";width: 100%;border-bottom: 1px solid gray;flex-grow: 1;}#sk-container-id-10 div.sk-label:hover label.sk-toggleable__label {background-color: #d4ebff;}#sk-container-id-10 div.sk-serial::before {content: \"\";position: absolute;border-left: 1px solid gray;box-sizing: border-box;top: 0;bottom: 0;left: 50%;z-index: 0;}#sk-container-id-10 div.sk-serial {display: flex;flex-direction: column;align-items: center;background-color: white;padding-right: 0.2em;padding-left: 0.2em;position: relative;}#sk-container-id-10 div.sk-item {position: relative;z-index: 1;}#sk-container-id-10 div.sk-parallel {display: flex;align-items: stretch;justify-content: center;background-color: white;position: relative;}#sk-container-id-10 div.sk-item::before, #sk-container-id-10 div.sk-parallel-item::before {content: \"\";position: absolute;border-left: 1px solid gray;box-sizing: border-box;top: 0;bottom: 0;left: 50%;z-index: -1;}#sk-container-id-10 div.sk-parallel-item {display: flex;flex-direction: column;z-index: 1;position: relative;background-color: white;}#sk-container-id-10 div.sk-parallel-item:first-child::after {align-self: flex-end;width: 50%;}#sk-container-id-10 div.sk-parallel-item:last-child::after {align-self: flex-start;width: 50%;}#sk-container-id-10 div.sk-parallel-item:only-child::after {width: 0;}#sk-container-id-10 div.sk-dashed-wrapped {border: 1px dashed gray;margin: 0 0.4em 0.5em 0.4em;box-sizing: border-box;padding-bottom: 0.4em;background-color: white;}#sk-container-id-10 div.sk-label label {font-family: monospace;font-weight: bold;display: inline-block;line-height: 1.2em;}#sk-container-id-10 div.sk-label-container {text-align: center;}#sk-container-id-10 div.sk-container {/* jupyter's `normalize.less` sets `[hidden] { display: none; }` but bootstrap.min.css set `[hidden] { display: none !important; }` so we also need the `!important` here to be able to override the default hidden behavior on the sphinx rendered scikit-learn.org. See: https://github.com/scikit-learn/scikit-learn/issues/21755 */display: inline-block !important;position: relative;}#sk-container-id-10 div.sk-text-repr-fallback {display: none;}</style><div id=\"sk-container-id-10\" class=\"sk-top-container\"><div class=\"sk-text-repr-fallback\"><pre>GridSearchCV(cv=5, estimator=SVC(),\n",
       "             param_grid={&#x27;C&#x27;: [0.1, 1.0, 10.0, 100.0],\n",
       "                         &#x27;gamma&#x27;: [0, 1, 0.1, 0.01, 0.001],\n",
       "                         &#x27;kernel&#x27;: [&#x27;rbf&#x27;, &#x27;poly&#x27;, &#x27;sigmoid&#x27;]},\n",
       "             scoring=&#x27;f1&#x27;)</pre><b>In a Jupyter environment, please rerun this cell to show the HTML representation or trust the notebook. <br />On GitHub, the HTML representation is unable to render, please try loading this page with nbviewer.org.</b></div><div class=\"sk-container\" hidden><div class=\"sk-item sk-dashed-wrapped\"><div class=\"sk-label-container\"><div class=\"sk-label sk-toggleable\"><input class=\"sk-toggleable__control sk-hidden--visually\" id=\"sk-estimator-id-16\" type=\"checkbox\" ><label for=\"sk-estimator-id-16\" class=\"sk-toggleable__label sk-toggleable__label-arrow\">GridSearchCV</label><div class=\"sk-toggleable__content\"><pre>GridSearchCV(cv=5, estimator=SVC(),\n",
       "             param_grid={&#x27;C&#x27;: [0.1, 1.0, 10.0, 100.0],\n",
       "                         &#x27;gamma&#x27;: [0, 1, 0.1, 0.01, 0.001],\n",
       "                         &#x27;kernel&#x27;: [&#x27;rbf&#x27;, &#x27;poly&#x27;, &#x27;sigmoid&#x27;]},\n",
       "             scoring=&#x27;f1&#x27;)</pre></div></div></div><div class=\"sk-parallel\"><div class=\"sk-parallel-item\"><div class=\"sk-item\"><div class=\"sk-label-container\"><div class=\"sk-label sk-toggleable\"><input class=\"sk-toggleable__control sk-hidden--visually\" id=\"sk-estimator-id-17\" type=\"checkbox\" ><label for=\"sk-estimator-id-17\" class=\"sk-toggleable__label sk-toggleable__label-arrow\">estimator: SVC</label><div class=\"sk-toggleable__content\"><pre>SVC()</pre></div></div></div><div class=\"sk-serial\"><div class=\"sk-item\"><div class=\"sk-estimator sk-toggleable\"><input class=\"sk-toggleable__control sk-hidden--visually\" id=\"sk-estimator-id-18\" type=\"checkbox\" ><label for=\"sk-estimator-id-18\" class=\"sk-toggleable__label sk-toggleable__label-arrow\">SVC</label><div class=\"sk-toggleable__content\"><pre>SVC()</pre></div></div></div></div></div></div></div></div></div></div>"
      ],
      "text/plain": [
       "GridSearchCV(cv=5, estimator=SVC(),\n",
       "             param_grid={'C': [0.1, 1.0, 10.0, 100.0],\n",
       "                         'gamma': [0, 1, 0.1, 0.01, 0.001],\n",
       "                         'kernel': ['rbf', 'poly', 'sigmoid']},\n",
       "             scoring='f1')"
      ]
     },
     "execution_count": 114,
     "metadata": {},
     "output_type": "execute_result"
    }
   ],
   "source": [
    "param_grid = {'C': [0.1, 1.0, 10.0, 100.0], 'gamma': [0,1,0.1,0.01,0.001],'kernel': ['rbf', 'poly', 'sigmoid']}\n",
    "\n",
    "grid = GridSearchCV(SVC(), param_grid, cv=5, scoring='f1')\n",
    "grid.fit(X_train,y_train)\n",
    "\n"
   ]
  },
  {
   "cell_type": "code",
   "execution_count": 115,
   "id": "30e0e27d-5a80-45e1-b499-85cb32962a04",
   "metadata": {},
   "outputs": [
    {
     "data": {
      "text/html": [
       "<style>#sk-container-id-11 {color: black;}#sk-container-id-11 pre{padding: 0;}#sk-container-id-11 div.sk-toggleable {background-color: white;}#sk-container-id-11 label.sk-toggleable__label {cursor: pointer;display: block;width: 100%;margin-bottom: 0;padding: 0.3em;box-sizing: border-box;text-align: center;}#sk-container-id-11 label.sk-toggleable__label-arrow:before {content: \"▸\";float: left;margin-right: 0.25em;color: #696969;}#sk-container-id-11 label.sk-toggleable__label-arrow:hover:before {color: black;}#sk-container-id-11 div.sk-estimator:hover label.sk-toggleable__label-arrow:before {color: black;}#sk-container-id-11 div.sk-toggleable__content {max-height: 0;max-width: 0;overflow: hidden;text-align: left;background-color: #f0f8ff;}#sk-container-id-11 div.sk-toggleable__content pre {margin: 0.2em;color: black;border-radius: 0.25em;background-color: #f0f8ff;}#sk-container-id-11 input.sk-toggleable__control:checked~div.sk-toggleable__content {max-height: 200px;max-width: 100%;overflow: auto;}#sk-container-id-11 input.sk-toggleable__control:checked~label.sk-toggleable__label-arrow:before {content: \"▾\";}#sk-container-id-11 div.sk-estimator input.sk-toggleable__control:checked~label.sk-toggleable__label {background-color: #d4ebff;}#sk-container-id-11 div.sk-label input.sk-toggleable__control:checked~label.sk-toggleable__label {background-color: #d4ebff;}#sk-container-id-11 input.sk-hidden--visually {border: 0;clip: rect(1px 1px 1px 1px);clip: rect(1px, 1px, 1px, 1px);height: 1px;margin: -1px;overflow: hidden;padding: 0;position: absolute;width: 1px;}#sk-container-id-11 div.sk-estimator {font-family: monospace;background-color: #f0f8ff;border: 1px dotted black;border-radius: 0.25em;box-sizing: border-box;margin-bottom: 0.5em;}#sk-container-id-11 div.sk-estimator:hover {background-color: #d4ebff;}#sk-container-id-11 div.sk-parallel-item::after {content: \"\";width: 100%;border-bottom: 1px solid gray;flex-grow: 1;}#sk-container-id-11 div.sk-label:hover label.sk-toggleable__label {background-color: #d4ebff;}#sk-container-id-11 div.sk-serial::before {content: \"\";position: absolute;border-left: 1px solid gray;box-sizing: border-box;top: 0;bottom: 0;left: 50%;z-index: 0;}#sk-container-id-11 div.sk-serial {display: flex;flex-direction: column;align-items: center;background-color: white;padding-right: 0.2em;padding-left: 0.2em;position: relative;}#sk-container-id-11 div.sk-item {position: relative;z-index: 1;}#sk-container-id-11 div.sk-parallel {display: flex;align-items: stretch;justify-content: center;background-color: white;position: relative;}#sk-container-id-11 div.sk-item::before, #sk-container-id-11 div.sk-parallel-item::before {content: \"\";position: absolute;border-left: 1px solid gray;box-sizing: border-box;top: 0;bottom: 0;left: 50%;z-index: -1;}#sk-container-id-11 div.sk-parallel-item {display: flex;flex-direction: column;z-index: 1;position: relative;background-color: white;}#sk-container-id-11 div.sk-parallel-item:first-child::after {align-self: flex-end;width: 50%;}#sk-container-id-11 div.sk-parallel-item:last-child::after {align-self: flex-start;width: 50%;}#sk-container-id-11 div.sk-parallel-item:only-child::after {width: 0;}#sk-container-id-11 div.sk-dashed-wrapped {border: 1px dashed gray;margin: 0 0.4em 0.5em 0.4em;box-sizing: border-box;padding-bottom: 0.4em;background-color: white;}#sk-container-id-11 div.sk-label label {font-family: monospace;font-weight: bold;display: inline-block;line-height: 1.2em;}#sk-container-id-11 div.sk-label-container {text-align: center;}#sk-container-id-11 div.sk-container {/* jupyter's `normalize.less` sets `[hidden] { display: none; }` but bootstrap.min.css set `[hidden] { display: none !important; }` so we also need the `!important` here to be able to override the default hidden behavior on the sphinx rendered scikit-learn.org. See: https://github.com/scikit-learn/scikit-learn/issues/21755 */display: inline-block !important;position: relative;}#sk-container-id-11 div.sk-text-repr-fallback {display: none;}</style><div id=\"sk-container-id-11\" class=\"sk-top-container\"><div class=\"sk-text-repr-fallback\"><pre>SVC(C=0.1, gamma=0)</pre><b>In a Jupyter environment, please rerun this cell to show the HTML representation or trust the notebook. <br />On GitHub, the HTML representation is unable to render, please try loading this page with nbviewer.org.</b></div><div class=\"sk-container\" hidden><div class=\"sk-item\"><div class=\"sk-estimator sk-toggleable\"><input class=\"sk-toggleable__control sk-hidden--visually\" id=\"sk-estimator-id-19\" type=\"checkbox\" checked><label for=\"sk-estimator-id-19\" class=\"sk-toggleable__label sk-toggleable__label-arrow\">SVC</label><div class=\"sk-toggleable__content\"><pre>SVC(C=0.1, gamma=0)</pre></div></div></div></div></div>"
      ],
      "text/plain": [
       "SVC(C=0.1, gamma=0)"
      ]
     },
     "execution_count": 115,
     "metadata": {},
     "output_type": "execute_result"
    }
   ],
   "source": [
    "grid.best_estimator_\n",
    "\n"
   ]
  },
  {
   "cell_type": "code",
   "execution_count": 116,
   "id": "6595690b-03a1-4f49-ab90-0ae51358ccb3",
   "metadata": {},
   "outputs": [
    {
     "data": {
      "text/plain": [
       "{'C': 0.1, 'gamma': 0, 'kernel': 'rbf'}"
      ]
     },
     "execution_count": 116,
     "metadata": {},
     "output_type": "execute_result"
    }
   ],
   "source": [
    "grid.best_params_\n",
    "\n"
   ]
  },
  {
   "cell_type": "code",
   "execution_count": 117,
   "id": "7d998830-65f8-449a-9733-eb3018d4eaa0",
   "metadata": {},
   "outputs": [
    {
     "data": {
      "text/html": [
       "<style>#sk-container-id-12 {color: black;}#sk-container-id-12 pre{padding: 0;}#sk-container-id-12 div.sk-toggleable {background-color: white;}#sk-container-id-12 label.sk-toggleable__label {cursor: pointer;display: block;width: 100%;margin-bottom: 0;padding: 0.3em;box-sizing: border-box;text-align: center;}#sk-container-id-12 label.sk-toggleable__label-arrow:before {content: \"▸\";float: left;margin-right: 0.25em;color: #696969;}#sk-container-id-12 label.sk-toggleable__label-arrow:hover:before {color: black;}#sk-container-id-12 div.sk-estimator:hover label.sk-toggleable__label-arrow:before {color: black;}#sk-container-id-12 div.sk-toggleable__content {max-height: 0;max-width: 0;overflow: hidden;text-align: left;background-color: #f0f8ff;}#sk-container-id-12 div.sk-toggleable__content pre {margin: 0.2em;color: black;border-radius: 0.25em;background-color: #f0f8ff;}#sk-container-id-12 input.sk-toggleable__control:checked~div.sk-toggleable__content {max-height: 200px;max-width: 100%;overflow: auto;}#sk-container-id-12 input.sk-toggleable__control:checked~label.sk-toggleable__label-arrow:before {content: \"▾\";}#sk-container-id-12 div.sk-estimator input.sk-toggleable__control:checked~label.sk-toggleable__label {background-color: #d4ebff;}#sk-container-id-12 div.sk-label input.sk-toggleable__control:checked~label.sk-toggleable__label {background-color: #d4ebff;}#sk-container-id-12 input.sk-hidden--visually {border: 0;clip: rect(1px 1px 1px 1px);clip: rect(1px, 1px, 1px, 1px);height: 1px;margin: -1px;overflow: hidden;padding: 0;position: absolute;width: 1px;}#sk-container-id-12 div.sk-estimator {font-family: monospace;background-color: #f0f8ff;border: 1px dotted black;border-radius: 0.25em;box-sizing: border-box;margin-bottom: 0.5em;}#sk-container-id-12 div.sk-estimator:hover {background-color: #d4ebff;}#sk-container-id-12 div.sk-parallel-item::after {content: \"\";width: 100%;border-bottom: 1px solid gray;flex-grow: 1;}#sk-container-id-12 div.sk-label:hover label.sk-toggleable__label {background-color: #d4ebff;}#sk-container-id-12 div.sk-serial::before {content: \"\";position: absolute;border-left: 1px solid gray;box-sizing: border-box;top: 0;bottom: 0;left: 50%;z-index: 0;}#sk-container-id-12 div.sk-serial {display: flex;flex-direction: column;align-items: center;background-color: white;padding-right: 0.2em;padding-left: 0.2em;position: relative;}#sk-container-id-12 div.sk-item {position: relative;z-index: 1;}#sk-container-id-12 div.sk-parallel {display: flex;align-items: stretch;justify-content: center;background-color: white;position: relative;}#sk-container-id-12 div.sk-item::before, #sk-container-id-12 div.sk-parallel-item::before {content: \"\";position: absolute;border-left: 1px solid gray;box-sizing: border-box;top: 0;bottom: 0;left: 50%;z-index: -1;}#sk-container-id-12 div.sk-parallel-item {display: flex;flex-direction: column;z-index: 1;position: relative;background-color: white;}#sk-container-id-12 div.sk-parallel-item:first-child::after {align-self: flex-end;width: 50%;}#sk-container-id-12 div.sk-parallel-item:last-child::after {align-self: flex-start;width: 50%;}#sk-container-id-12 div.sk-parallel-item:only-child::after {width: 0;}#sk-container-id-12 div.sk-dashed-wrapped {border: 1px dashed gray;margin: 0 0.4em 0.5em 0.4em;box-sizing: border-box;padding-bottom: 0.4em;background-color: white;}#sk-container-id-12 div.sk-label label {font-family: monospace;font-weight: bold;display: inline-block;line-height: 1.2em;}#sk-container-id-12 div.sk-label-container {text-align: center;}#sk-container-id-12 div.sk-container {/* jupyter's `normalize.less` sets `[hidden] { display: none; }` but bootstrap.min.css set `[hidden] { display: none !important; }` so we also need the `!important` here to be able to override the default hidden behavior on the sphinx rendered scikit-learn.org. See: https://github.com/scikit-learn/scikit-learn/issues/21755 */display: inline-block !important;position: relative;}#sk-container-id-12 div.sk-text-repr-fallback {display: none;}</style><div id=\"sk-container-id-12\" class=\"sk-top-container\"><div class=\"sk-text-repr-fallback\"><pre>SVC(C=1, max_iter=4000)</pre><b>In a Jupyter environment, please rerun this cell to show the HTML representation or trust the notebook. <br />On GitHub, the HTML representation is unable to render, please try loading this page with nbviewer.org.</b></div><div class=\"sk-container\" hidden><div class=\"sk-item\"><div class=\"sk-estimator sk-toggleable\"><input class=\"sk-toggleable__control sk-hidden--visually\" id=\"sk-estimator-id-20\" type=\"checkbox\" checked><label for=\"sk-estimator-id-20\" class=\"sk-toggleable__label sk-toggleable__label-arrow\">SVC</label><div class=\"sk-toggleable__content\"><pre>SVC(C=1, max_iter=4000)</pre></div></div></div></div></div>"
      ],
      "text/plain": [
       "SVC(C=1, max_iter=4000)"
      ]
     },
     "execution_count": 117,
     "metadata": {},
     "output_type": "execute_result"
    }
   ],
   "source": [
    "svm = SVC(C=1, kernel='rbf', max_iter=4000)\n",
    "\n",
    "svm.fit(X_train, y_train)\n",
    "\n"
   ]
  },
  {
   "cell_type": "code",
   "execution_count": 118,
   "id": "67edd514-1027-4a56-ac7c-d48ddc1318a8",
   "metadata": {},
   "outputs": [
    {
     "data": {
      "text/plain": [
       "['../trained-models/svm_model.joblib']"
      ]
     },
     "execution_count": 118,
     "metadata": {},
     "output_type": "execute_result"
    }
   ],
   "source": [
    "joblibpath = os.path.join('..','trained-models','svm_model.joblib')\n",
    "joblib.dump(svm, joblibpath)\n",
    "\n"
   ]
  },
  {
   "cell_type": "code",
   "execution_count": 119,
   "id": "c95b2c68-763b-4426-82e8-94600d1c25b3",
   "metadata": {},
   "outputs": [],
   "source": [
    "y_train_pred = svm.predict(X_train)\n",
    "\n",
    "y_test_pred = svm.predict(X_test)\n",
    "\n"
   ]
  },
  {
   "cell_type": "code",
   "execution_count": 120,
   "id": "becf504c-e01a-4016-8f77-57f105426204",
   "metadata": {},
   "outputs": [
    {
     "name": "stdout",
     "output_type": "stream",
     "text": [
      "Train dataset\n",
      "-------------\n",
      "accuracy 0.9545\n",
      "precision [0.97792793 0.91162344 0.96518901 1.         0.72727273 1.\n",
      " 1.        ]\n",
      "recall [0.95261079 0.92405063 0.97822492 0.23076923 1.         0.5\n",
      " 1.        ]\n",
      "F-score [0.96510336 0.91779497 0.97166324 0.375      0.84210526 0.66666667\n",
      " 1.        ]\n",
      "-------------\n",
      "-------------\n",
      "Test dataset\n",
      "-------------\n",
      "accuracy 0.9535\n",
      "precision [0.97822142 0.91554702 0.96       1.         1.        ]\n",
      "recall [0.94561404 0.92801556 0.97905182 0.14285714 1.        ]\n",
      "F-score [0.96164139 0.92173913 0.96943231 0.25       1.        ]\n"
     ]
    }
   ],
   "source": [
    "print_metrics(y_train, y_test, y_train_pred, y_test_pred)\n",
    "\n"
   ]
  },
  {
   "cell_type": "code",
   "execution_count": 121,
   "id": "062868cc-dc88-4f93-b46a-5958e58afd4d",
   "metadata": {},
   "outputs": [
    {
     "name": "stdout",
     "output_type": "stream",
     "text": [
      "              precision    recall  f1-score   support\n",
      "\n",
      "           A       0.98      0.95      0.97      2279\n",
      "           B       0.91      0.92      0.92      2054\n",
      "           C       0.97      0.98      0.97      3628\n",
      "           D       1.00      0.23      0.38        26\n",
      "           E       0.73      1.00      0.84         8\n",
      "           F       1.00      0.50      0.67         2\n",
      "           G       1.00      1.00      1.00         3\n",
      "\n",
      "    accuracy                           0.95      8000\n",
      "   macro avg       0.94      0.80      0.82      8000\n",
      "weighted avg       0.95      0.95      0.95      8000\n",
      "\n"
     ]
    }
   ],
   "source": [
    "print(classification_report(y_train, y_train_pred))\n",
    "\n"
   ]
  },
  {
   "cell_type": "code",
   "execution_count": 122,
   "id": "807a2195-d75c-461c-a8dc-e4cd445b6699",
   "metadata": {},
   "outputs": [
    {
     "name": "stdout",
     "output_type": "stream",
     "text": [
      "              precision    recall  f1-score   support\n",
      "\n",
      "           A       0.98      0.95      0.96       570\n",
      "           B       0.92      0.93      0.92       514\n",
      "           C       0.96      0.98      0.97       907\n",
      "           D       1.00      0.14      0.25         7\n",
      "           E       1.00      1.00      1.00         2\n",
      "\n",
      "    accuracy                           0.95      2000\n",
      "   macro avg       0.97      0.80      0.82      2000\n",
      "weighted avg       0.95      0.95      0.95      2000\n",
      "\n"
     ]
    }
   ],
   "source": [
    "print(classification_report(y_test, y_test_pred))\n",
    "\n"
   ]
  }
 ],
 "metadata": {
  "kernelspec": {
   "display_name": "Python 3 (ipykernel)",
   "language": "python",
   "name": "python3"
  },
  "language_info": {
   "codemirror_mode": {
    "name": "ipython",
    "version": 3
   },
   "file_extension": ".py",
   "mimetype": "text/x-python",
   "name": "python",
   "nbconvert_exporter": "python",
   "pygments_lexer": "ipython3",
   "version": "3.10.4"
  }
 },
 "nbformat": 4,
 "nbformat_minor": 5
}
